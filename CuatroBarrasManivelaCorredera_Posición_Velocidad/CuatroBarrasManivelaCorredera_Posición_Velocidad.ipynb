{
  "cells": [
    {
      "cell_type": "markdown",
      "metadata": {
        "id": "view-in-github",
        "colab_type": "text"
      },
      "source": [
        "<a href=\"https://colab.research.google.com/github/IsaacIsaias/collection-of-JNotebooks/blob/main/CuatroBarrasManivelaCorredera_Posici%C3%B3n_Velocidad/CuatroBarrasManivelaCorredera_Posici%C3%B3n_Velocidad.ipynb\" target=\"_parent\"><img src=\"https://colab.research.google.com/assets/colab-badge.svg\" alt=\"Open In Colab\"/></a>"
      ]
    },
    {
      "cell_type": "markdown",
      "source": [
        "# Solución de Posición de un Mecanismo de Cuatro Barras de Manivela-Corredera"
      ],
      "metadata": {
        "id": "49W4Hjcl0b5v"
      }
    },
    {
      "cell_type": "markdown",
      "source": [
        "## Tabla de Contenidos\n",
        "\n",
        "[Ingreso de Datos](#scrollTo=OJD2mYDo2xWB)\n",
        "\n",
        "[Fórmulas](#scrollTo=uAbTl84v10LV)\n",
        "\n",
        "[Proceso](#scrollTo=GsgnQDG_2sD1)\n",
        "\n",
        "[Resultados](#scrollTo=NE1kHfVnhABh)\n",
        "\n",
        "[Acerca de este Notebook](#scrollTo=Umtehm6NhEGl)"
      ],
      "metadata": {
        "id": "HuwAxmobTgo3"
      }
    },
    {
      "cell_type": "code",
      "execution_count": 1,
      "metadata": {
        "id": "3SeWCf34mmJ4"
      },
      "outputs": [],
      "source": [
        "import pandas as pd\n",
        "from sympy import *"
      ]
    },
    {
      "cell_type": "markdown",
      "source": [
        "## Ingreso de Datos"
      ],
      "metadata": {
        "id": "OJD2mYDo2xWB"
      }
    },
    {
      "cell_type": "markdown",
      "source": [
        "[Resultados](#scrollTo=NE1kHfVnhABh)"
      ],
      "metadata": {
        "id": "2-xSrSdmkTQG"
      }
    },
    {
      "cell_type": "code",
      "source": [
        "a_val       = 40    # Eslabón 2\n",
        "b_val       = 120   # Eslabón 3\n",
        "c_val       = -20   # Descentrado\n",
        "theta_2_val = 60    # Ángulo en grados (deg)\n",
        "omega_2_val = -30   # rad/s\n",
        "units = 'mm'        # Unidades de medida de los eslabones"
      ],
      "metadata": {
        "id": "B6cNlGJz22kJ"
      },
      "execution_count": 2,
      "outputs": []
    },
    {
      "cell_type": "code",
      "execution_count": 3,
      "metadata": {
        "id": "lOElhHffmmJ6"
      },
      "outputs": [],
      "source": [
        "theta_2, theta_3, theta_3_1_2, a, b, c = symbols('theta_2, theta_3, theta_3(1\\,2), a, b, c')\n",
        "omega_2, omega_y_1_2 = symbols('omega_2, omega_1\\,2')"
      ]
    },
    {
      "cell_type": "markdown",
      "source": [
        "[Inicio de Página](#scrollTo=49W4Hjcl0b5v)"
      ],
      "metadata": {
        "id": "8bW5m4nUkL0L"
      }
    },
    {
      "cell_type": "markdown",
      "source": [
        "## Fórmulas"
      ],
      "metadata": {
        "id": "uAbTl84v10LV"
      }
    },
    {
      "cell_type": "code",
      "source": [
        "theta_3_1 = asin((a*sin(theta_2) - c)/(b))\n",
        "theta_3_1"
      ],
      "metadata": {
        "colab": {
          "base_uri": "https://localhost:8080/",
          "height": 58
        },
        "id": "6Lqvd4WH13Sx",
        "outputId": "731d6eff-70a0-45f6-a7cf-9c7912e275f2"
      },
      "execution_count": 4,
      "outputs": [
        {
          "output_type": "execute_result",
          "data": {
            "text/plain": [
              "asin((a*sin(theta_2) - c)/b)"
            ],
            "text/latex": "$\\displaystyle \\operatorname{asin}{\\left(\\frac{a \\sin{\\left(\\theta_{2} \\right)} - c}{b} \\right)}$"
          },
          "metadata": {},
          "execution_count": 4
        }
      ]
    },
    {
      "cell_type": "code",
      "source": [
        "d = a * cos(theta_2) - b * cos(theta_3_1_2)\n",
        "d"
      ],
      "metadata": {
        "colab": {
          "base_uri": "https://localhost:8080/",
          "height": 39
        },
        "id": "0LbnYFr22A0R",
        "outputId": "11510864-981a-4ce5-dbdf-78c14b1ba621"
      },
      "execution_count": 5,
      "outputs": [
        {
          "output_type": "execute_result",
          "data": {
            "text/plain": [
              "a*cos(theta_2) - b*cos(theta_3(1,2))"
            ],
            "text/latex": "$\\displaystyle a \\cos{\\left(\\theta_{2} \\right)} - b \\cos{\\left(\\theta_{3(1,2)} \\right)}$"
          },
          "metadata": {},
          "execution_count": 5
        }
      ]
    },
    {
      "cell_type": "code",
      "source": [
        "theta_3_2 = asin(-(a * sin(theta_2) - c)/(b)) + pi\n",
        "theta_3_2"
      ],
      "metadata": {
        "colab": {
          "base_uri": "https://localhost:8080/",
          "height": 58
        },
        "id": "RmxHXaah0mcW",
        "outputId": "b0dc965d-7357-45bf-a9b0-b657bdd18d5c"
      },
      "execution_count": 6,
      "outputs": [
        {
          "output_type": "execute_result",
          "data": {
            "text/plain": [
              "asin((-a*sin(theta_2) + c)/b) + pi"
            ],
            "text/latex": "$\\displaystyle \\operatorname{asin}{\\left(\\frac{- a \\sin{\\left(\\theta_{2} \\right)} + c}{b} \\right)} + \\pi$"
          },
          "metadata": {},
          "execution_count": 6
        }
      ]
    },
    {
      "cell_type": "code",
      "source": [
        "omega_3 = (a * cos(theta_2)) / (b * cos(theta_3_1_2)) * omega_2\n",
        "omega_3"
      ],
      "metadata": {
        "colab": {
          "base_uri": "https://localhost:8080/",
          "height": 60
        },
        "id": "n6vWqYxSL1n0",
        "outputId": "d584005f-3e1f-4a94-f222-43585fc1cc1d"
      },
      "execution_count": 7,
      "outputs": [
        {
          "output_type": "execute_result",
          "data": {
            "text/plain": [
              "a*omega_2*cos(theta_2)/(b*cos(theta_3(1,2)))"
            ],
            "text/latex": "$\\displaystyle \\frac{a \\omega_{2} \\cos{\\left(\\theta_{2} \\right)}}{b \\cos{\\left(\\theta_{3(1,2)} \\right)}}$"
          },
          "metadata": {},
          "execution_count": 7
        }
      ]
    },
    {
      "cell_type": "code",
      "source": [
        "dy = -a * omega_2 * sin(theta_2) + b * omega_y_1_2 * sin(theta_3_1_2)\n",
        "dy"
      ],
      "metadata": {
        "colab": {
          "base_uri": "https://localhost:8080/",
          "height": 39
        },
        "id": "f_Z7PtPXQwec",
        "outputId": "4e58c4e8-53bc-415f-861a-565f6ae9e3e5"
      },
      "execution_count": 8,
      "outputs": [
        {
          "output_type": "execute_result",
          "data": {
            "text/plain": [
              "-a*omega_2*sin(theta_2) + b*omega_1,2*sin(theta_3(1,2))"
            ],
            "text/latex": "$\\displaystyle - a \\omega_{2} \\sin{\\left(\\theta_{2} \\right)} + b \\omega_{1,2} \\sin{\\left(\\theta_{3(1,2)} \\right)}$"
          },
          "metadata": {},
          "execution_count": 8
        }
      ]
    },
    {
      "cell_type": "markdown",
      "source": [
        "[Inicio de Página](#scrollTo=49W4Hjcl0b5v)"
      ],
      "metadata": {
        "id": "zkZ2-mSjkJ8q"
      }
    },
    {
      "cell_type": "markdown",
      "source": [
        "---\n",
        "\n",
        "## Proceso"
      ],
      "metadata": {
        "id": "GsgnQDG_2sD1"
      }
    },
    {
      "cell_type": "code",
      "execution_count": 9,
      "metadata": {
        "colab": {
          "base_uri": "https://localhost:8080/",
          "height": 47
        },
        "id": "WDLIQTAGmmJ6",
        "outputId": "b9b5abf9-7c0a-4c73-b415-0d9e53b5ac92"
      },
      "outputs": [
        {
          "output_type": "execute_result",
          "data": {
            "text/plain": [
              "pi/3"
            ],
            "text/latex": "$\\displaystyle \\frac{\\pi}{3}$"
          },
          "metadata": {},
          "execution_count": 9
        }
      ],
      "source": [
        "theta_2_val = theta_2_val * pi / 180\n",
        "theta_2_val"
      ]
    },
    {
      "cell_type": "code",
      "execution_count": 10,
      "metadata": {
        "colab": {
          "base_uri": "https://localhost:8080/",
          "height": 68
        },
        "id": "MRnYgiCOmmJ8",
        "outputId": "a59b68a1-f12a-4b2d-bccc-53ab5913833b"
      },
      "outputs": [
        {
          "output_type": "execute_result",
          "data": {
            "text/plain": [
              "asin(1/6 + sqrt(3)/6)"
            ],
            "text/latex": "$\\displaystyle \\operatorname{asin}{\\left(\\frac{1}{6} + \\frac{\\sqrt{3}}{6} \\right)}$"
          },
          "metadata": {},
          "execution_count": 10
        }
      ],
      "source": [
        "theta_3_1_rad = theta_3_1.subs({a: a_val, b: b_val, c: c_val, theta_2: theta_2_val})\n",
        "theta_3_1_rad"
      ]
    },
    {
      "cell_type": "code",
      "source": [
        "theta_3_1_deg = (theta_3_1_rad * 180 / pi).evalf()\n",
        "theta_3_1_deg"
      ],
      "metadata": {
        "colab": {
          "base_uri": "https://localhost:8080/",
          "height": 37
        },
        "id": "5Q2alTIu6yQH",
        "outputId": "c0670a47-de15-4021-c978-3c1cc964cda0"
      },
      "execution_count": 11,
      "outputs": [
        {
          "output_type": "execute_result",
          "data": {
            "text/plain": [
              "27.0869284784713"
            ],
            "text/latex": "$\\displaystyle 27.0869284784713$"
          },
          "metadata": {},
          "execution_count": 11
        }
      ]
    },
    {
      "cell_type": "code",
      "source": [
        "d_1 = d.subs({a: a_val, b: b_val, c: c_val, theta_2: theta_2_val, theta_3_1_2: theta_3_1_rad}).evalf()\n",
        "d_1"
      ],
      "metadata": {
        "colab": {
          "base_uri": "https://localhost:8080/",
          "height": 37
        },
        "id": "nOFZ8sShHdpD",
        "outputId": "3f248fb4-3fee-4264-8822-73524ab2ef5e"
      },
      "execution_count": 12,
      "outputs": [
        {
          "output_type": "execute_result",
          "data": {
            "text/plain": [
              "-86.8380051945229"
            ],
            "text/latex": "$\\displaystyle -86.8380051945229$"
          },
          "metadata": {},
          "execution_count": 12
        }
      ]
    },
    {
      "cell_type": "code",
      "execution_count": 13,
      "metadata": {
        "colab": {
          "base_uri": "https://localhost:8080/",
          "height": 68
        },
        "id": "rG4IGLUSmmJ9",
        "outputId": "ce9bd6ec-f0d8-43c9-fb16-e7636790cead"
      },
      "outputs": [
        {
          "output_type": "execute_result",
          "data": {
            "text/plain": [
              "pi - asin(1/6 + sqrt(3)/6)"
            ],
            "text/latex": "$\\displaystyle \\pi - \\operatorname{asin}{\\left(\\frac{1}{6} + \\frac{\\sqrt{3}}{6} \\right)}$"
          },
          "metadata": {},
          "execution_count": 13
        }
      ],
      "source": [
        "theta_3_2_rad = theta_3_2.subs({a: a_val, b: b_val, c: c_val, theta_2: theta_2_val})\n",
        "theta_3_2_rad"
      ]
    },
    {
      "cell_type": "code",
      "source": [
        "theta_3_2_deg = (theta_3_2_rad * 180 / pi).evalf()\n",
        "theta_3_2_deg"
      ],
      "metadata": {
        "colab": {
          "base_uri": "https://localhost:8080/",
          "height": 37
        },
        "id": "KOUqA1q68CLq",
        "outputId": "645c6083-47e0-4a58-c3aa-ea87d45542bb"
      },
      "execution_count": 14,
      "outputs": [
        {
          "output_type": "execute_result",
          "data": {
            "text/plain": [
              "152.913071521529"
            ],
            "text/latex": "$\\displaystyle 152.913071521529$"
          },
          "metadata": {},
          "execution_count": 14
        }
      ]
    },
    {
      "cell_type": "code",
      "source": [
        "d_2 = d.subs({a: a_val, b: b_val, c: c_val, theta_2: theta_2_val, theta_3_1_2: theta_3_2_rad}).evalf()\n",
        "d_2"
      ],
      "metadata": {
        "colab": {
          "base_uri": "https://localhost:8080/",
          "height": 37
        },
        "id": "SvfQzo81IFM5",
        "outputId": "ac8a3df9-ede0-41b2-ac2b-945efe21d267"
      },
      "execution_count": 15,
      "outputs": [
        {
          "output_type": "execute_result",
          "data": {
            "text/plain": [
              "126.838005194523"
            ],
            "text/latex": "$\\displaystyle 126.838005194523$"
          },
          "metadata": {},
          "execution_count": 15
        }
      ]
    },
    {
      "cell_type": "code",
      "execution_count": 16,
      "metadata": {
        "colab": {
          "base_uri": "https://localhost:8080/",
          "height": 37
        },
        "id": "koK_vbypmmJ-",
        "outputId": "64ca2566-0f51-425d-f7a5-b68b25531304"
      },
      "outputs": [
        {
          "output_type": "execute_result",
          "data": {
            "text/plain": [
              "-5.61597906014403"
            ],
            "text/latex": "$\\displaystyle -5.61597906014403$"
          },
          "metadata": {},
          "execution_count": 16
        }
      ],
      "source": [
        "omega_3_1 = omega_3.subs({a: a_val, b: b_val, theta_2: theta_2_val, theta_3_1_2: theta_3_1_rad, omega_2: omega_2_val}).evalf()\n",
        "omega_3_1"
      ]
    },
    {
      "cell_type": "code",
      "execution_count": 17,
      "metadata": {
        "colab": {
          "base_uri": "https://localhost:8080/",
          "height": 37
        },
        "id": "DxU-SDV0mmJ-",
        "outputId": "b8179293-3461-4559-d6af-84e69595e22c"
      },
      "outputs": [
        {
          "output_type": "execute_result",
          "data": {
            "text/plain": [
              "732.367682010198"
            ],
            "text/latex": "$\\displaystyle 732.367682010198$"
          },
          "metadata": {},
          "execution_count": 17
        }
      ],
      "source": [
        "d_y_1 = dy.subs({a: a_val, b: b_val, theta_2: theta_2_val, theta_3_1_2: theta_3_1_rad, omega_2: omega_2_val, omega_y_1_2: omega_3_1}).evalf()\n",
        "d_y_1"
      ]
    },
    {
      "cell_type": "code",
      "execution_count": 18,
      "metadata": {
        "colab": {
          "base_uri": "https://localhost:8080/",
          "height": 37
        },
        "id": "1-I195XWmmJ_",
        "outputId": "315d7d1c-2b8f-4264-ed9f-6bc2acbb66d5"
      },
      "outputs": [
        {
          "output_type": "execute_result",
          "data": {
            "text/plain": [
              "5.61597906014403"
            ],
            "text/latex": "$\\displaystyle 5.61597906014403$"
          },
          "metadata": {},
          "execution_count": 18
        }
      ],
      "source": [
        "omega_3_2 = omega_3.subs({a: a_val, b: b_val, theta_2: theta_2_val, theta_3_1_2: theta_3_2_rad, omega_2: omega_2_val}).evalf()\n",
        "omega_3_2"
      ]
    },
    {
      "cell_type": "code",
      "execution_count": 19,
      "metadata": {
        "colab": {
          "base_uri": "https://localhost:8080/",
          "height": 37
        },
        "id": "0XKni9zXmmJ_",
        "outputId": "f3b81de2-ccb3-4877-a7db-c772b0d3d093"
      },
      "outputs": [
        {
          "output_type": "execute_result",
          "data": {
            "text/plain": [
              "1346.09328707245"
            ],
            "text/latex": "$\\displaystyle 1346.09328707245$"
          },
          "metadata": {},
          "execution_count": 19
        }
      ],
      "source": [
        "d_y_2 = dy.subs({a: a_val, b: b_val, theta_2: theta_2_val, theta_3_1_2: theta_3_2_rad, omega_2: omega_2_val, omega_y_1_2: omega_3_2}).evalf()\n",
        "d_y_2"
      ]
    },
    {
      "cell_type": "markdown",
      "source": [
        "---"
      ],
      "metadata": {
        "id": "ChKXHqEdxV5X"
      }
    },
    {
      "cell_type": "code",
      "source": [
        "name_attrs = ['theta_3(abierta)', 'Corredera(abierta)', 'theta_3(cruzada)', 'Corredera(cruzada)', 'omega_3(abierta)', 'dy_3(abierta)', 'omega_3(cerrada)', 'dy_3(cerrada)']\n",
        "\n",
        "list_values = [theta_3_2_deg, d_2, theta_3_1_deg, d_1, omega_3_2, d_y_2, omega_3_1, d_y_1]\n",
        "rounded_list_values = [round(x, 3) for x in list_values]\n",
        "\n",
        "units = ['°', units, '°', units, 'rad/s', f'{units}/s', 'rad/s', f'{units}/s']\n",
        "\n",
        "data = {\n",
        "    'Variables': name_attrs,\n",
        "    'Valores': rounded_list_values,\n",
        "    'Unidades': units\n",
        "}\n",
        "\n",
        "df = pd.DataFrame(data)"
      ],
      "metadata": {
        "id": "DuBNe023ltAI"
      },
      "execution_count": 20,
      "outputs": []
    },
    {
      "cell_type": "markdown",
      "source": [
        "[Inicio de Página](#scrollTo=49W4Hjcl0b5v)"
      ],
      "metadata": {
        "id": "R5CYCbRLkF66"
      }
    },
    {
      "cell_type": "markdown",
      "source": [
        "---\n",
        "\n",
        "## Resultados"
      ],
      "metadata": {
        "id": "NE1kHfVnhABh"
      }
    },
    {
      "cell_type": "code",
      "source": [
        "df"
      ],
      "metadata": {
        "colab": {
          "base_uri": "https://localhost:8080/",
          "height": 300
        },
        "id": "o491pQm9lggp",
        "outputId": "8818075e-8068-453c-bfcf-1f9df8acab55"
      },
      "execution_count": 21,
      "outputs": [
        {
          "output_type": "execute_result",
          "data": {
            "text/plain": [
              "            Variables   Valores Unidades\n",
              "0    theta_3(abierta)   152.913        °\n",
              "1  Corredera(abierta)   126.838       mm\n",
              "2    theta_3(cruzada)    27.087        °\n",
              "3  Corredera(cruzada)   -86.838       mm\n",
              "4    omega_3(abierta)     5.616    rad/s\n",
              "5       dy_3(abierta)  1346.093     mm/s\n",
              "6    omega_3(cerrada)    -5.616    rad/s\n",
              "7       dy_3(cerrada)   732.368     mm/s"
            ],
            "text/html": [
              "\n",
              "  <div id=\"df-5663dc8a-92fd-4ebc-92d9-a9ad6fbf9e06\">\n",
              "    <div class=\"colab-df-container\">\n",
              "      <div>\n",
              "<style scoped>\n",
              "    .dataframe tbody tr th:only-of-type {\n",
              "        vertical-align: middle;\n",
              "    }\n",
              "\n",
              "    .dataframe tbody tr th {\n",
              "        vertical-align: top;\n",
              "    }\n",
              "\n",
              "    .dataframe thead th {\n",
              "        text-align: right;\n",
              "    }\n",
              "</style>\n",
              "<table border=\"1\" class=\"dataframe\">\n",
              "  <thead>\n",
              "    <tr style=\"text-align: right;\">\n",
              "      <th></th>\n",
              "      <th>Variables</th>\n",
              "      <th>Valores</th>\n",
              "      <th>Unidades</th>\n",
              "    </tr>\n",
              "  </thead>\n",
              "  <tbody>\n",
              "    <tr>\n",
              "      <th>0</th>\n",
              "      <td>theta_3(abierta)</td>\n",
              "      <td>152.913</td>\n",
              "      <td>°</td>\n",
              "    </tr>\n",
              "    <tr>\n",
              "      <th>1</th>\n",
              "      <td>Corredera(abierta)</td>\n",
              "      <td>126.838</td>\n",
              "      <td>mm</td>\n",
              "    </tr>\n",
              "    <tr>\n",
              "      <th>2</th>\n",
              "      <td>theta_3(cruzada)</td>\n",
              "      <td>27.087</td>\n",
              "      <td>°</td>\n",
              "    </tr>\n",
              "    <tr>\n",
              "      <th>3</th>\n",
              "      <td>Corredera(cruzada)</td>\n",
              "      <td>-86.838</td>\n",
              "      <td>mm</td>\n",
              "    </tr>\n",
              "    <tr>\n",
              "      <th>4</th>\n",
              "      <td>omega_3(abierta)</td>\n",
              "      <td>5.616</td>\n",
              "      <td>rad/s</td>\n",
              "    </tr>\n",
              "    <tr>\n",
              "      <th>5</th>\n",
              "      <td>dy_3(abierta)</td>\n",
              "      <td>1346.093</td>\n",
              "      <td>mm/s</td>\n",
              "    </tr>\n",
              "    <tr>\n",
              "      <th>6</th>\n",
              "      <td>omega_3(cerrada)</td>\n",
              "      <td>-5.616</td>\n",
              "      <td>rad/s</td>\n",
              "    </tr>\n",
              "    <tr>\n",
              "      <th>7</th>\n",
              "      <td>dy_3(cerrada)</td>\n",
              "      <td>732.368</td>\n",
              "      <td>mm/s</td>\n",
              "    </tr>\n",
              "  </tbody>\n",
              "</table>\n",
              "</div>\n",
              "      <button class=\"colab-df-convert\" onclick=\"convertToInteractive('df-5663dc8a-92fd-4ebc-92d9-a9ad6fbf9e06')\"\n",
              "              title=\"Convert this dataframe to an interactive table.\"\n",
              "              style=\"display:none;\">\n",
              "        \n",
              "  <svg xmlns=\"http://www.w3.org/2000/svg\" height=\"24px\"viewBox=\"0 0 24 24\"\n",
              "       width=\"24px\">\n",
              "    <path d=\"M0 0h24v24H0V0z\" fill=\"none\"/>\n",
              "    <path d=\"M18.56 5.44l.94 2.06.94-2.06 2.06-.94-2.06-.94-.94-2.06-.94 2.06-2.06.94zm-11 1L8.5 8.5l.94-2.06 2.06-.94-2.06-.94L8.5 2.5l-.94 2.06-2.06.94zm10 10l.94 2.06.94-2.06 2.06-.94-2.06-.94-.94-2.06-.94 2.06-2.06.94z\"/><path d=\"M17.41 7.96l-1.37-1.37c-.4-.4-.92-.59-1.43-.59-.52 0-1.04.2-1.43.59L10.3 9.45l-7.72 7.72c-.78.78-.78 2.05 0 2.83L4 21.41c.39.39.9.59 1.41.59.51 0 1.02-.2 1.41-.59l7.78-7.78 2.81-2.81c.8-.78.8-2.07 0-2.86zM5.41 20L4 18.59l7.72-7.72 1.47 1.35L5.41 20z\"/>\n",
              "  </svg>\n",
              "      </button>\n",
              "      \n",
              "  <style>\n",
              "    .colab-df-container {\n",
              "      display:flex;\n",
              "      flex-wrap:wrap;\n",
              "      gap: 12px;\n",
              "    }\n",
              "\n",
              "    .colab-df-convert {\n",
              "      background-color: #E8F0FE;\n",
              "      border: none;\n",
              "      border-radius: 50%;\n",
              "      cursor: pointer;\n",
              "      display: none;\n",
              "      fill: #1967D2;\n",
              "      height: 32px;\n",
              "      padding: 0 0 0 0;\n",
              "      width: 32px;\n",
              "    }\n",
              "\n",
              "    .colab-df-convert:hover {\n",
              "      background-color: #E2EBFA;\n",
              "      box-shadow: 0px 1px 2px rgba(60, 64, 67, 0.3), 0px 1px 3px 1px rgba(60, 64, 67, 0.15);\n",
              "      fill: #174EA6;\n",
              "    }\n",
              "\n",
              "    [theme=dark] .colab-df-convert {\n",
              "      background-color: #3B4455;\n",
              "      fill: #D2E3FC;\n",
              "    }\n",
              "\n",
              "    [theme=dark] .colab-df-convert:hover {\n",
              "      background-color: #434B5C;\n",
              "      box-shadow: 0px 1px 3px 1px rgba(0, 0, 0, 0.15);\n",
              "      filter: drop-shadow(0px 1px 2px rgba(0, 0, 0, 0.3));\n",
              "      fill: #FFFFFF;\n",
              "    }\n",
              "  </style>\n",
              "\n",
              "      <script>\n",
              "        const buttonEl =\n",
              "          document.querySelector('#df-5663dc8a-92fd-4ebc-92d9-a9ad6fbf9e06 button.colab-df-convert');\n",
              "        buttonEl.style.display =\n",
              "          google.colab.kernel.accessAllowed ? 'block' : 'none';\n",
              "\n",
              "        async function convertToInteractive(key) {\n",
              "          const element = document.querySelector('#df-5663dc8a-92fd-4ebc-92d9-a9ad6fbf9e06');\n",
              "          const dataTable =\n",
              "            await google.colab.kernel.invokeFunction('convertToInteractive',\n",
              "                                                     [key], {});\n",
              "          if (!dataTable) return;\n",
              "\n",
              "          const docLinkHtml = 'Like what you see? Visit the ' +\n",
              "            '<a target=\"_blank\" href=https://colab.research.google.com/notebooks/data_table.ipynb>data table notebook</a>'\n",
              "            + ' to learn more about interactive tables.';\n",
              "          element.innerHTML = '';\n",
              "          dataTable['output_type'] = 'display_data';\n",
              "          await google.colab.output.renderOutput(dataTable, element);\n",
              "          const docLink = document.createElement('div');\n",
              "          docLink.innerHTML = docLinkHtml;\n",
              "          element.appendChild(docLink);\n",
              "        }\n",
              "      </script>\n",
              "    </div>\n",
              "  </div>\n",
              "  "
            ]
          },
          "metadata": {},
          "execution_count": 21
        }
      ]
    },
    {
      "cell_type": "markdown",
      "source": [
        "**Dónde:**\n",
        "\n",
        "- omega_3 = velocidad angular del acoplador\n",
        "- dy_3 = velocidad de desplazamiento\n",
        "\n",
        "[Inicio de Página](#scrollTo=49W4Hjcl0b5v)"
      ],
      "metadata": {
        "id": "Tj-EmHcudsNl"
      }
    },
    {
      "cell_type": "markdown",
      "source": [
        "---\n",
        "\n",
        "## Acerca de este Notebook\n",
        "\n",
        "**Autor:** [Isaac Isaías](https://github.com/IsaacIsaias)\n",
        "\n",
        "**Asignatura:** Mecánica para la Automatización\n",
        "\n",
        "**Universidad Tecnológica de San Juan del Río**\n",
        "\n",
        "[Inicio de Página](#scrollTo=49W4Hjcl0b5v)"
      ],
      "metadata": {
        "id": "Umtehm6NhEGl"
      }
    }
  ],
  "metadata": {
    "kernelspec": {
      "display_name": "env",
      "language": "python",
      "name": "python3"
    },
    "language_info": {
      "codemirror_mode": {
        "name": "ipython",
        "version": 3
      },
      "file_extension": ".py",
      "mimetype": "text/x-python",
      "name": "python",
      "nbconvert_exporter": "python",
      "pygments_lexer": "ipython3",
      "version": "3.11.2"
    },
    "orig_nbformat": 4,
    "vscode": {
      "interpreter": {
        "hash": "c44b8621042844006328624f5744bf547703208dede08b70adfadef04228f75f"
      }
    },
    "colab": {
      "provenance": [],
      "include_colab_link": true
    }
  },
  "nbformat": 4,
  "nbformat_minor": 0
}