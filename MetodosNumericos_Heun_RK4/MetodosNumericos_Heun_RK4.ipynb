{
  "cells": [
    {
      "cell_type": "markdown",
      "metadata": {
        "id": "view-in-github",
        "colab_type": "text"
      },
      "source": [
        "<a href=\"https://colab.research.google.com/github/IsaacIsaias/collection-of-JNotebooks/blob/main/MetodosNumericos_Heun_RK4/MetodosNumericos_Heun_RK4.ipynb\" target=\"_parent\"><img src=\"https://colab.research.google.com/assets/colab-badge.svg\" alt=\"Open In Colab\"/></a>"
      ]
    },
    {
      "cell_type": "markdown",
      "metadata": {
        "id": "Vn5QSpZM8dFm"
      },
      "source": [
        "# Métodos Numéricos"
      ]
    },
    {
      "cell_type": "markdown",
      "metadata": {
        "id": "KY_mR6RL8dFo"
      },
      "source": [
        "> Ejercicios a los cuales se les aplica los métodos de Heun y RK4. Este *notebook* muestra una tabla con los valores estimados en cada iteración para cada ejercicio."
      ]
    },
    {
      "cell_type": "markdown",
      "source": [
        "---\n",
        "\n",
        "## Tabla de Contenidos\n",
        "\n",
        "[Método de Heun](#scrollTo=vLP46JFa8dFo)\n",
        "\n",
        "- [Ejercicio 1](#scrollTo=su55YBBw8dFq)\n",
        "- [Ejercicio 2](#scrollTo=6p7gGrym8dFx)\n",
        "- [Ejercicio 3](#scrollTo=nixlzupo8dF0)\n",
        "- [Ejercicio 4](#scrollTo=c1Xxxebc8dF3)\n",
        "- [Ejercicio 5](#scrollTo=V0D9vV2Q8dF7)\n",
        "\n",
        "[Método RK4](#scrollTo=Nqn3jHr18dF-)\n",
        "\n",
        "- [Ejercicio 1](#scrollTo=qX42zSy18dF-)\n",
        "- [Ejercicio 2](#scrollTo=QN42DhL68dGA)\n",
        "- [Ejercicio 3](#scrollTo=95mxvqX38dGC)\n",
        "- [Ejercicio 4](#scrollTo=310H-xnr8dGE)\n",
        "- [Ejercicio 5](#scrollTo=6PHRZBWR8dGF)\n",
        "\n",
        "[Acerca de este Notebook](#scrollTo=34hgPpqMA4CX)"
      ],
      "metadata": {
        "id": "VO2BaodzQgaF"
      }
    },
    {
      "cell_type": "markdown",
      "source": [
        "---\n",
        "\n",
        "## Importar librerías"
      ],
      "metadata": {
        "id": "iUBKkxS6AEo3"
      }
    },
    {
      "cell_type": "code",
      "execution_count": 1,
      "metadata": {
        "id": "gSoRs39k8dFp"
      },
      "outputs": [],
      "source": [
        "import numpy as np\n",
        "import pandas as pd\n",
        "from sympy import *"
      ]
    },
    {
      "cell_type": "markdown",
      "metadata": {
        "id": "vLP46JFa8dFo"
      },
      "source": [
        "---\n",
        "\n",
        "## Método de Heun"
      ]
    },
    {
      "cell_type": "code",
      "execution_count": 2,
      "metadata": {
        "id": "A8zl4I848dFq"
      },
      "outputs": [],
      "source": [
        "h_1, h_2 = 0.1, 0.05"
      ]
    },
    {
      "cell_type": "markdown",
      "metadata": {
        "id": "su55YBBw8dFq"
      },
      "source": [
        "---\n",
        "\n",
        "### Ejercicio 1:\n",
        "\n",
        "$$y' = 2x - 3y + 1, \\ y(1) = 5; \\ y(1.5)$$"
      ]
    },
    {
      "cell_type": "code",
      "execution_count": 3,
      "metadata": {
        "id": "2dXBONyS8dFr",
        "outputId": "4b216a3b-4f9d-4032-ea6a-b86e8d78212f",
        "colab": {
          "base_uri": "https://localhost:8080/",
          "height": 0
        }
      },
      "outputs": [
        {
          "output_type": "execute_result",
          "data": {
            "text/plain": [
              "2*x - 3*y + 1"
            ],
            "text/latex": "$\\displaystyle 2 x - 3 y + 1$"
          },
          "metadata": {},
          "execution_count": 3
        }
      ],
      "source": [
        "f, x, y = symbols('f, x, y')\n",
        "x_0, y_0, n = 1, 5, 10\n",
        "\n",
        "f = 2*x - 3*y + 1\n",
        "f"
      ]
    },
    {
      "cell_type": "markdown",
      "metadata": {
        "id": "reaRSKdx8dFs"
      },
      "source": [
        "#### Para *h = 0.1*:"
      ]
    },
    {
      "cell_type": "code",
      "execution_count": 4,
      "metadata": {
        "id": "TgRkNbbw8dFs",
        "outputId": "d786e0aa-1d40-49ef-8ea5-359d9a5f2e91",
        "colab": {
          "base_uri": "https://localhost:8080/"
        }
      },
      "outputs": [
        {
          "output_type": "stream",
          "name": "stdout",
          "text": [
            "Valores de x: [1.0, 1.1, 1.2, 1.3, 1.4, 1.5, 1.6, 1.7, 1.8, 1.9, 2.0]\n"
          ]
        }
      ],
      "source": [
        "x_n = []\n",
        "for i in range(n + 1):\n",
        "    x_n.append(round(x_0 + i*h_1, 4))\n",
        "print(f'Valores de x: {x_n}')"
      ]
    },
    {
      "cell_type": "code",
      "execution_count": 5,
      "metadata": {
        "id": "7fAqYGCC8dFs",
        "outputId": "b92f92fd-e277-4c6e-8fc0-fb5de3f742a5",
        "colab": {
          "base_uri": "https://localhost:8080/",
          "height": 0
        }
      },
      "outputs": [
        {
          "output_type": "execute_result",
          "data": {
            "text/plain": [
              "3.8000"
            ],
            "text/latex": "$\\displaystyle 3.8$"
          },
          "metadata": {},
          "execution_count": 5
        }
      ],
      "source": [
        "yo_0 = round(y_0 + h_1 * f.subs({x: x_0, y: y_0}), 4)\n",
        "yo_0"
      ]
    },
    {
      "cell_type": "code",
      "execution_count": 6,
      "metadata": {
        "id": "mEsNU6-q8dFt",
        "outputId": "1c550083-71a8-4e6b-90b7-08878aa3d7f4",
        "colab": {
          "base_uri": "https://localhost:8080/"
        }
      },
      "outputs": [
        {
          "output_type": "stream",
          "name": "stdout",
          "text": [
            "Valores de y: [5, 3.9900, 3.2546, 2.7237, 2.3452, 2.0802, 1.8998, 1.7823, 1.7118, 1.6763, 1.6668]\n",
            "Valores de y*: [3.8000, 3.1130, 2.6182, 2.2666, 2.0216, 1.8561, 1.7499, 1.6876, 1.6583, 1.6534, 1.6668]\n"
          ]
        }
      ],
      "source": [
        "y_n = [y_0]\n",
        "yo_n = [yo_0]\n",
        "for i in range(n):\n",
        "   slope_mean = (1/2) * (f.subs({x: x_n[i], y: y_n[i]}) + f.subs({x: x_n[i+1], y: yo_n[i]}))\n",
        "   y_n.append(round(y_n[i] + h_1 * slope_mean, 4))\n",
        "   yo_n1 = y_n[i+1] + h_1 * f.subs({x: x_n[i+1], y: y_n[i+1]})\n",
        "   yo_n.append(round(yo_n1, 4))\n",
        "print(f'Valores de y: {y_n}')\n",
        "print(f'Valores de y*: {yo_n}')"
      ]
    },
    {
      "cell_type": "markdown",
      "metadata": {
        "id": "Y22s_XGh8dFt"
      },
      "source": [
        "##### Conversión de las listas a un DataFrame"
      ]
    },
    {
      "cell_type": "code",
      "execution_count": 7,
      "metadata": {
        "id": "_bpL-LcP8dFt",
        "outputId": "f739a58e-2ae7-4e79-e036-22d31bef5f0f",
        "colab": {
          "base_uri": "https://localhost:8080/",
          "height": 0
        }
      },
      "outputs": [
        {
          "output_type": "execute_result",
          "data": {
            "text/plain": [
              "      x       y      y*\n",
              "n                      \n",
              "0   1.0       5  3.8000\n",
              "1   1.1  3.9900  3.1130\n",
              "2   1.2  3.2546  2.6182\n",
              "3   1.3  2.7237  2.2666\n",
              "4   1.4  2.3452  2.0216\n",
              "5   1.5  2.0802  1.8561\n",
              "6   1.6  1.8998  1.7499\n",
              "7   1.7  1.7823  1.6876\n",
              "8   1.8  1.7118  1.6583\n",
              "9   1.9  1.6763  1.6534\n",
              "10  2.0  1.6668  1.6668"
            ],
            "text/html": [
              "\n",
              "  <div id=\"df-711e0a70-91c4-4f0b-868d-4938f44a8ad8\">\n",
              "    <div class=\"colab-df-container\">\n",
              "      <div>\n",
              "<style scoped>\n",
              "    .dataframe tbody tr th:only-of-type {\n",
              "        vertical-align: middle;\n",
              "    }\n",
              "\n",
              "    .dataframe tbody tr th {\n",
              "        vertical-align: top;\n",
              "    }\n",
              "\n",
              "    .dataframe thead th {\n",
              "        text-align: right;\n",
              "    }\n",
              "</style>\n",
              "<table border=\"1\" class=\"dataframe\">\n",
              "  <thead>\n",
              "    <tr style=\"text-align: right;\">\n",
              "      <th></th>\n",
              "      <th>x</th>\n",
              "      <th>y</th>\n",
              "      <th>y*</th>\n",
              "    </tr>\n",
              "    <tr>\n",
              "      <th>n</th>\n",
              "      <th></th>\n",
              "      <th></th>\n",
              "      <th></th>\n",
              "    </tr>\n",
              "  </thead>\n",
              "  <tbody>\n",
              "    <tr>\n",
              "      <th>0</th>\n",
              "      <td>1.0</td>\n",
              "      <td>5</td>\n",
              "      <td>3.8000</td>\n",
              "    </tr>\n",
              "    <tr>\n",
              "      <th>1</th>\n",
              "      <td>1.1</td>\n",
              "      <td>3.9900</td>\n",
              "      <td>3.1130</td>\n",
              "    </tr>\n",
              "    <tr>\n",
              "      <th>2</th>\n",
              "      <td>1.2</td>\n",
              "      <td>3.2546</td>\n",
              "      <td>2.6182</td>\n",
              "    </tr>\n",
              "    <tr>\n",
              "      <th>3</th>\n",
              "      <td>1.3</td>\n",
              "      <td>2.7237</td>\n",
              "      <td>2.2666</td>\n",
              "    </tr>\n",
              "    <tr>\n",
              "      <th>4</th>\n",
              "      <td>1.4</td>\n",
              "      <td>2.3452</td>\n",
              "      <td>2.0216</td>\n",
              "    </tr>\n",
              "    <tr>\n",
              "      <th>5</th>\n",
              "      <td>1.5</td>\n",
              "      <td>2.0802</td>\n",
              "      <td>1.8561</td>\n",
              "    </tr>\n",
              "    <tr>\n",
              "      <th>6</th>\n",
              "      <td>1.6</td>\n",
              "      <td>1.8998</td>\n",
              "      <td>1.7499</td>\n",
              "    </tr>\n",
              "    <tr>\n",
              "      <th>7</th>\n",
              "      <td>1.7</td>\n",
              "      <td>1.7823</td>\n",
              "      <td>1.6876</td>\n",
              "    </tr>\n",
              "    <tr>\n",
              "      <th>8</th>\n",
              "      <td>1.8</td>\n",
              "      <td>1.7118</td>\n",
              "      <td>1.6583</td>\n",
              "    </tr>\n",
              "    <tr>\n",
              "      <th>9</th>\n",
              "      <td>1.9</td>\n",
              "      <td>1.6763</td>\n",
              "      <td>1.6534</td>\n",
              "    </tr>\n",
              "    <tr>\n",
              "      <th>10</th>\n",
              "      <td>2.0</td>\n",
              "      <td>1.6668</td>\n",
              "      <td>1.6668</td>\n",
              "    </tr>\n",
              "  </tbody>\n",
              "</table>\n",
              "</div>\n",
              "      <button class=\"colab-df-convert\" onclick=\"convertToInteractive('df-711e0a70-91c4-4f0b-868d-4938f44a8ad8')\"\n",
              "              title=\"Convert this dataframe to an interactive table.\"\n",
              "              style=\"display:none;\">\n",
              "        \n",
              "  <svg xmlns=\"http://www.w3.org/2000/svg\" height=\"24px\"viewBox=\"0 0 24 24\"\n",
              "       width=\"24px\">\n",
              "    <path d=\"M0 0h24v24H0V0z\" fill=\"none\"/>\n",
              "    <path d=\"M18.56 5.44l.94 2.06.94-2.06 2.06-.94-2.06-.94-.94-2.06-.94 2.06-2.06.94zm-11 1L8.5 8.5l.94-2.06 2.06-.94-2.06-.94L8.5 2.5l-.94 2.06-2.06.94zm10 10l.94 2.06.94-2.06 2.06-.94-2.06-.94-.94-2.06-.94 2.06-2.06.94z\"/><path d=\"M17.41 7.96l-1.37-1.37c-.4-.4-.92-.59-1.43-.59-.52 0-1.04.2-1.43.59L10.3 9.45l-7.72 7.72c-.78.78-.78 2.05 0 2.83L4 21.41c.39.39.9.59 1.41.59.51 0 1.02-.2 1.41-.59l7.78-7.78 2.81-2.81c.8-.78.8-2.07 0-2.86zM5.41 20L4 18.59l7.72-7.72 1.47 1.35L5.41 20z\"/>\n",
              "  </svg>\n",
              "      </button>\n",
              "      \n",
              "  <style>\n",
              "    .colab-df-container {\n",
              "      display:flex;\n",
              "      flex-wrap:wrap;\n",
              "      gap: 12px;\n",
              "    }\n",
              "\n",
              "    .colab-df-convert {\n",
              "      background-color: #E8F0FE;\n",
              "      border: none;\n",
              "      border-radius: 50%;\n",
              "      cursor: pointer;\n",
              "      display: none;\n",
              "      fill: #1967D2;\n",
              "      height: 32px;\n",
              "      padding: 0 0 0 0;\n",
              "      width: 32px;\n",
              "    }\n",
              "\n",
              "    .colab-df-convert:hover {\n",
              "      background-color: #E2EBFA;\n",
              "      box-shadow: 0px 1px 2px rgba(60, 64, 67, 0.3), 0px 1px 3px 1px rgba(60, 64, 67, 0.15);\n",
              "      fill: #174EA6;\n",
              "    }\n",
              "\n",
              "    [theme=dark] .colab-df-convert {\n",
              "      background-color: #3B4455;\n",
              "      fill: #D2E3FC;\n",
              "    }\n",
              "\n",
              "    [theme=dark] .colab-df-convert:hover {\n",
              "      background-color: #434B5C;\n",
              "      box-shadow: 0px 1px 3px 1px rgba(0, 0, 0, 0.15);\n",
              "      filter: drop-shadow(0px 1px 2px rgba(0, 0, 0, 0.3));\n",
              "      fill: #FFFFFF;\n",
              "    }\n",
              "  </style>\n",
              "\n",
              "      <script>\n",
              "        const buttonEl =\n",
              "          document.querySelector('#df-711e0a70-91c4-4f0b-868d-4938f44a8ad8 button.colab-df-convert');\n",
              "        buttonEl.style.display =\n",
              "          google.colab.kernel.accessAllowed ? 'block' : 'none';\n",
              "\n",
              "        async function convertToInteractive(key) {\n",
              "          const element = document.querySelector('#df-711e0a70-91c4-4f0b-868d-4938f44a8ad8');\n",
              "          const dataTable =\n",
              "            await google.colab.kernel.invokeFunction('convertToInteractive',\n",
              "                                                     [key], {});\n",
              "          if (!dataTable) return;\n",
              "\n",
              "          const docLinkHtml = 'Like what you see? Visit the ' +\n",
              "            '<a target=\"_blank\" href=https://colab.research.google.com/notebooks/data_table.ipynb>data table notebook</a>'\n",
              "            + ' to learn more about interactive tables.';\n",
              "          element.innerHTML = '';\n",
              "          dataTable['output_type'] = 'display_data';\n",
              "          await google.colab.output.renderOutput(dataTable, element);\n",
              "          const docLink = document.createElement('div');\n",
              "          docLink.innerHTML = docLinkHtml;\n",
              "          element.appendChild(docLink);\n",
              "        }\n",
              "      </script>\n",
              "    </div>\n",
              "  </div>\n",
              "  "
            ]
          },
          "metadata": {},
          "execution_count": 7
        }
      ],
      "source": [
        "x_series_1 = pd.Series(x_n)\n",
        "y_series_1 = pd.Series(y_n)\n",
        "yo_series_1 = pd.Series(yo_n)\n",
        "df_1 = pd.DataFrame({'x': x_series_1, 'y': y_series_1, 'y*': yo_series_1})\n",
        "df_1.index.name = 'n'\n",
        "df_1"
      ]
    },
    {
      "cell_type": "markdown",
      "metadata": {
        "id": "JXwZHFWZ8dFu"
      },
      "source": [
        "#### Para *h = 0.05*:"
      ]
    },
    {
      "cell_type": "code",
      "execution_count": 8,
      "metadata": {
        "id": "N-LlzzAu8dFu",
        "outputId": "74db5ff4-350c-45d5-b7a3-2520778b8cf4",
        "colab": {
          "base_uri": "https://localhost:8080/"
        }
      },
      "outputs": [
        {
          "output_type": "stream",
          "name": "stdout",
          "text": [
            "Valores de x: [1.0, 1.05, 1.1, 1.15, 1.2, 1.25, 1.3, 1.35, 1.4, 1.45, 1.5]\n"
          ]
        }
      ],
      "source": [
        "x_n = []\n",
        "for i in range(n + 1):\n",
        "    x_n.append(round(x_0 + i*h_2, 4))\n",
        "print(f'Valores de x: {x_n}')"
      ]
    },
    {
      "cell_type": "code",
      "execution_count": 9,
      "metadata": {
        "id": "08cnmTuO8dFu",
        "outputId": "1c02d830-9373-4ac5-e8d6-a84278430a25",
        "colab": {
          "base_uri": "https://localhost:8080/",
          "height": 0
        }
      },
      "outputs": [
        {
          "output_type": "execute_result",
          "data": {
            "text/plain": [
              "4.4000"
            ],
            "text/latex": "$\\displaystyle 4.4$"
          },
          "metadata": {},
          "execution_count": 9
        }
      ],
      "source": [
        "yo_0 = round(y_0 + h_2 * f.subs({x: x_0, y: y_0}), 4)\n",
        "yo_0"
      ]
    },
    {
      "cell_type": "code",
      "execution_count": 10,
      "metadata": {
        "id": "IbjbCgsT8dFv",
        "outputId": "99c11e27-b3b8-42a8-905d-eeec04dbdfe2",
        "colab": {
          "base_uri": "https://localhost:8080/"
        }
      },
      "outputs": [
        {
          "output_type": "stream",
          "name": "stdout",
          "text": [
            "Valores de y: [5, 4.4475, 3.9763, 3.5751, 3.2342, 2.9452, 2.7009, 2.4951, 2.3225, 2.1785, 2.0591]\n",
            "Valores de y*: [4.4000, 3.9354, 3.5399, 3.2038, 2.9191, 2.6784, 2.4758, 2.3058, 2.1641, 2.0467, 1.9502]\n"
          ]
        }
      ],
      "source": [
        "y_n = [y_0]\n",
        "yo_n = [yo_0]\n",
        "for i in range(n):\n",
        "   slope_mean = (1/2) * (f.subs({x: x_n[i], y: y_n[i]}) + f.subs({x: x_n[i+1], y: yo_n[i]}))\n",
        "   y_n.append(round(y_n[i] + h_2 * slope_mean, 4))\n",
        "   yo_n1 = y_n[i+1] + h_2 * f.subs({x: x_n[i+1], y: y_n[i+1]})\n",
        "   yo_n.append(round(yo_n1, 4))\n",
        "print(f'Valores de y: {y_n}')\n",
        "print(f'Valores de y*: {yo_n}')"
      ]
    },
    {
      "cell_type": "markdown",
      "metadata": {
        "id": "7EEVCh9M8dFv"
      },
      "source": [
        "##### Conversión de las listas a un DataFrame"
      ]
    },
    {
      "cell_type": "code",
      "execution_count": 11,
      "metadata": {
        "id": "WKeorTVm8dFv",
        "outputId": "c24c2a1a-0f05-4558-ae29-054f640dbc43",
        "colab": {
          "base_uri": "https://localhost:8080/",
          "height": 0
        }
      },
      "outputs": [
        {
          "output_type": "execute_result",
          "data": {
            "text/plain": [
              "       x       y      y*\n",
              "n                       \n",
              "0   1.00       5  4.4000\n",
              "1   1.05  4.4475  3.9354\n",
              "2   1.10  3.9763  3.5399\n",
              "3   1.15  3.5751  3.2038\n",
              "4   1.20  3.2342  2.9191\n",
              "5   1.25  2.9452  2.6784\n",
              "6   1.30  2.7009  2.4758\n",
              "7   1.35  2.4951  2.3058\n",
              "8   1.40  2.3225  2.1641\n",
              "9   1.45  2.1785  2.0467\n",
              "10  1.50  2.0591  1.9502"
            ],
            "text/html": [
              "\n",
              "  <div id=\"df-645254fa-ccca-46eb-bbaf-e881e2579059\">\n",
              "    <div class=\"colab-df-container\">\n",
              "      <div>\n",
              "<style scoped>\n",
              "    .dataframe tbody tr th:only-of-type {\n",
              "        vertical-align: middle;\n",
              "    }\n",
              "\n",
              "    .dataframe tbody tr th {\n",
              "        vertical-align: top;\n",
              "    }\n",
              "\n",
              "    .dataframe thead th {\n",
              "        text-align: right;\n",
              "    }\n",
              "</style>\n",
              "<table border=\"1\" class=\"dataframe\">\n",
              "  <thead>\n",
              "    <tr style=\"text-align: right;\">\n",
              "      <th></th>\n",
              "      <th>x</th>\n",
              "      <th>y</th>\n",
              "      <th>y*</th>\n",
              "    </tr>\n",
              "    <tr>\n",
              "      <th>n</th>\n",
              "      <th></th>\n",
              "      <th></th>\n",
              "      <th></th>\n",
              "    </tr>\n",
              "  </thead>\n",
              "  <tbody>\n",
              "    <tr>\n",
              "      <th>0</th>\n",
              "      <td>1.00</td>\n",
              "      <td>5</td>\n",
              "      <td>4.4000</td>\n",
              "    </tr>\n",
              "    <tr>\n",
              "      <th>1</th>\n",
              "      <td>1.05</td>\n",
              "      <td>4.4475</td>\n",
              "      <td>3.9354</td>\n",
              "    </tr>\n",
              "    <tr>\n",
              "      <th>2</th>\n",
              "      <td>1.10</td>\n",
              "      <td>3.9763</td>\n",
              "      <td>3.5399</td>\n",
              "    </tr>\n",
              "    <tr>\n",
              "      <th>3</th>\n",
              "      <td>1.15</td>\n",
              "      <td>3.5751</td>\n",
              "      <td>3.2038</td>\n",
              "    </tr>\n",
              "    <tr>\n",
              "      <th>4</th>\n",
              "      <td>1.20</td>\n",
              "      <td>3.2342</td>\n",
              "      <td>2.9191</td>\n",
              "    </tr>\n",
              "    <tr>\n",
              "      <th>5</th>\n",
              "      <td>1.25</td>\n",
              "      <td>2.9452</td>\n",
              "      <td>2.6784</td>\n",
              "    </tr>\n",
              "    <tr>\n",
              "      <th>6</th>\n",
              "      <td>1.30</td>\n",
              "      <td>2.7009</td>\n",
              "      <td>2.4758</td>\n",
              "    </tr>\n",
              "    <tr>\n",
              "      <th>7</th>\n",
              "      <td>1.35</td>\n",
              "      <td>2.4951</td>\n",
              "      <td>2.3058</td>\n",
              "    </tr>\n",
              "    <tr>\n",
              "      <th>8</th>\n",
              "      <td>1.40</td>\n",
              "      <td>2.3225</td>\n",
              "      <td>2.1641</td>\n",
              "    </tr>\n",
              "    <tr>\n",
              "      <th>9</th>\n",
              "      <td>1.45</td>\n",
              "      <td>2.1785</td>\n",
              "      <td>2.0467</td>\n",
              "    </tr>\n",
              "    <tr>\n",
              "      <th>10</th>\n",
              "      <td>1.50</td>\n",
              "      <td>2.0591</td>\n",
              "      <td>1.9502</td>\n",
              "    </tr>\n",
              "  </tbody>\n",
              "</table>\n",
              "</div>\n",
              "      <button class=\"colab-df-convert\" onclick=\"convertToInteractive('df-645254fa-ccca-46eb-bbaf-e881e2579059')\"\n",
              "              title=\"Convert this dataframe to an interactive table.\"\n",
              "              style=\"display:none;\">\n",
              "        \n",
              "  <svg xmlns=\"http://www.w3.org/2000/svg\" height=\"24px\"viewBox=\"0 0 24 24\"\n",
              "       width=\"24px\">\n",
              "    <path d=\"M0 0h24v24H0V0z\" fill=\"none\"/>\n",
              "    <path d=\"M18.56 5.44l.94 2.06.94-2.06 2.06-.94-2.06-.94-.94-2.06-.94 2.06-2.06.94zm-11 1L8.5 8.5l.94-2.06 2.06-.94-2.06-.94L8.5 2.5l-.94 2.06-2.06.94zm10 10l.94 2.06.94-2.06 2.06-.94-2.06-.94-.94-2.06-.94 2.06-2.06.94z\"/><path d=\"M17.41 7.96l-1.37-1.37c-.4-.4-.92-.59-1.43-.59-.52 0-1.04.2-1.43.59L10.3 9.45l-7.72 7.72c-.78.78-.78 2.05 0 2.83L4 21.41c.39.39.9.59 1.41.59.51 0 1.02-.2 1.41-.59l7.78-7.78 2.81-2.81c.8-.78.8-2.07 0-2.86zM5.41 20L4 18.59l7.72-7.72 1.47 1.35L5.41 20z\"/>\n",
              "  </svg>\n",
              "      </button>\n",
              "      \n",
              "  <style>\n",
              "    .colab-df-container {\n",
              "      display:flex;\n",
              "      flex-wrap:wrap;\n",
              "      gap: 12px;\n",
              "    }\n",
              "\n",
              "    .colab-df-convert {\n",
              "      background-color: #E8F0FE;\n",
              "      border: none;\n",
              "      border-radius: 50%;\n",
              "      cursor: pointer;\n",
              "      display: none;\n",
              "      fill: #1967D2;\n",
              "      height: 32px;\n",
              "      padding: 0 0 0 0;\n",
              "      width: 32px;\n",
              "    }\n",
              "\n",
              "    .colab-df-convert:hover {\n",
              "      background-color: #E2EBFA;\n",
              "      box-shadow: 0px 1px 2px rgba(60, 64, 67, 0.3), 0px 1px 3px 1px rgba(60, 64, 67, 0.15);\n",
              "      fill: #174EA6;\n",
              "    }\n",
              "\n",
              "    [theme=dark] .colab-df-convert {\n",
              "      background-color: #3B4455;\n",
              "      fill: #D2E3FC;\n",
              "    }\n",
              "\n",
              "    [theme=dark] .colab-df-convert:hover {\n",
              "      background-color: #434B5C;\n",
              "      box-shadow: 0px 1px 3px 1px rgba(0, 0, 0, 0.15);\n",
              "      filter: drop-shadow(0px 1px 2px rgba(0, 0, 0, 0.3));\n",
              "      fill: #FFFFFF;\n",
              "    }\n",
              "  </style>\n",
              "\n",
              "      <script>\n",
              "        const buttonEl =\n",
              "          document.querySelector('#df-645254fa-ccca-46eb-bbaf-e881e2579059 button.colab-df-convert');\n",
              "        buttonEl.style.display =\n",
              "          google.colab.kernel.accessAllowed ? 'block' : 'none';\n",
              "\n",
              "        async function convertToInteractive(key) {\n",
              "          const element = document.querySelector('#df-645254fa-ccca-46eb-bbaf-e881e2579059');\n",
              "          const dataTable =\n",
              "            await google.colab.kernel.invokeFunction('convertToInteractive',\n",
              "                                                     [key], {});\n",
              "          if (!dataTable) return;\n",
              "\n",
              "          const docLinkHtml = 'Like what you see? Visit the ' +\n",
              "            '<a target=\"_blank\" href=https://colab.research.google.com/notebooks/data_table.ipynb>data table notebook</a>'\n",
              "            + ' to learn more about interactive tables.';\n",
              "          element.innerHTML = '';\n",
              "          dataTable['output_type'] = 'display_data';\n",
              "          await google.colab.output.renderOutput(dataTable, element);\n",
              "          const docLink = document.createElement('div');\n",
              "          docLink.innerHTML = docLinkHtml;\n",
              "          element.appendChild(docLink);\n",
              "        }\n",
              "      </script>\n",
              "    </div>\n",
              "  </div>\n",
              "  "
            ]
          },
          "metadata": {},
          "execution_count": 11
        }
      ],
      "source": [
        "x_series_2 = pd.Series(x_n)\n",
        "y_series_2 = pd.Series(y_n)\n",
        "yo_series_2 = pd.Series(yo_n)\n",
        "df_2 = pd.DataFrame({'x': x_series_2, 'y': y_series_2, 'y*': yo_series_2})\n",
        "df_2.index.name = 'n'\n",
        "df_2"
      ]
    },
    {
      "cell_type": "markdown",
      "metadata": {
        "id": "D5R20oty8dFw"
      },
      "source": [
        "#### Resultados:"
      ]
    },
    {
      "cell_type": "code",
      "execution_count": 12,
      "metadata": {
        "id": "5G3QoI7x8dFw",
        "outputId": "80d21f88-80a1-4bd3-e3f5-498a3c044172",
        "colab": {
          "base_uri": "https://localhost:8080/",
          "height": 0
        }
      },
      "outputs": [
        {
          "output_type": "execute_result",
          "data": {
            "text/plain": [
              "     x       y      y*\n",
              "n                     \n",
              "5  1.5  2.0802  1.8561"
            ],
            "text/html": [
              "\n",
              "  <div id=\"df-9369e9e9-3a00-4986-9b01-989bb439cde3\">\n",
              "    <div class=\"colab-df-container\">\n",
              "      <div>\n",
              "<style scoped>\n",
              "    .dataframe tbody tr th:only-of-type {\n",
              "        vertical-align: middle;\n",
              "    }\n",
              "\n",
              "    .dataframe tbody tr th {\n",
              "        vertical-align: top;\n",
              "    }\n",
              "\n",
              "    .dataframe thead th {\n",
              "        text-align: right;\n",
              "    }\n",
              "</style>\n",
              "<table border=\"1\" class=\"dataframe\">\n",
              "  <thead>\n",
              "    <tr style=\"text-align: right;\">\n",
              "      <th></th>\n",
              "      <th>x</th>\n",
              "      <th>y</th>\n",
              "      <th>y*</th>\n",
              "    </tr>\n",
              "    <tr>\n",
              "      <th>n</th>\n",
              "      <th></th>\n",
              "      <th></th>\n",
              "      <th></th>\n",
              "    </tr>\n",
              "  </thead>\n",
              "  <tbody>\n",
              "    <tr>\n",
              "      <th>5</th>\n",
              "      <td>1.5</td>\n",
              "      <td>2.0802</td>\n",
              "      <td>1.8561</td>\n",
              "    </tr>\n",
              "  </tbody>\n",
              "</table>\n",
              "</div>\n",
              "      <button class=\"colab-df-convert\" onclick=\"convertToInteractive('df-9369e9e9-3a00-4986-9b01-989bb439cde3')\"\n",
              "              title=\"Convert this dataframe to an interactive table.\"\n",
              "              style=\"display:none;\">\n",
              "        \n",
              "  <svg xmlns=\"http://www.w3.org/2000/svg\" height=\"24px\"viewBox=\"0 0 24 24\"\n",
              "       width=\"24px\">\n",
              "    <path d=\"M0 0h24v24H0V0z\" fill=\"none\"/>\n",
              "    <path d=\"M18.56 5.44l.94 2.06.94-2.06 2.06-.94-2.06-.94-.94-2.06-.94 2.06-2.06.94zm-11 1L8.5 8.5l.94-2.06 2.06-.94-2.06-.94L8.5 2.5l-.94 2.06-2.06.94zm10 10l.94 2.06.94-2.06 2.06-.94-2.06-.94-.94-2.06-.94 2.06-2.06.94z\"/><path d=\"M17.41 7.96l-1.37-1.37c-.4-.4-.92-.59-1.43-.59-.52 0-1.04.2-1.43.59L10.3 9.45l-7.72 7.72c-.78.78-.78 2.05 0 2.83L4 21.41c.39.39.9.59 1.41.59.51 0 1.02-.2 1.41-.59l7.78-7.78 2.81-2.81c.8-.78.8-2.07 0-2.86zM5.41 20L4 18.59l7.72-7.72 1.47 1.35L5.41 20z\"/>\n",
              "  </svg>\n",
              "      </button>\n",
              "      \n",
              "  <style>\n",
              "    .colab-df-container {\n",
              "      display:flex;\n",
              "      flex-wrap:wrap;\n",
              "      gap: 12px;\n",
              "    }\n",
              "\n",
              "    .colab-df-convert {\n",
              "      background-color: #E8F0FE;\n",
              "      border: none;\n",
              "      border-radius: 50%;\n",
              "      cursor: pointer;\n",
              "      display: none;\n",
              "      fill: #1967D2;\n",
              "      height: 32px;\n",
              "      padding: 0 0 0 0;\n",
              "      width: 32px;\n",
              "    }\n",
              "\n",
              "    .colab-df-convert:hover {\n",
              "      background-color: #E2EBFA;\n",
              "      box-shadow: 0px 1px 2px rgba(60, 64, 67, 0.3), 0px 1px 3px 1px rgba(60, 64, 67, 0.15);\n",
              "      fill: #174EA6;\n",
              "    }\n",
              "\n",
              "    [theme=dark] .colab-df-convert {\n",
              "      background-color: #3B4455;\n",
              "      fill: #D2E3FC;\n",
              "    }\n",
              "\n",
              "    [theme=dark] .colab-df-convert:hover {\n",
              "      background-color: #434B5C;\n",
              "      box-shadow: 0px 1px 3px 1px rgba(0, 0, 0, 0.15);\n",
              "      filter: drop-shadow(0px 1px 2px rgba(0, 0, 0, 0.3));\n",
              "      fill: #FFFFFF;\n",
              "    }\n",
              "  </style>\n",
              "\n",
              "      <script>\n",
              "        const buttonEl =\n",
              "          document.querySelector('#df-9369e9e9-3a00-4986-9b01-989bb439cde3 button.colab-df-convert');\n",
              "        buttonEl.style.display =\n",
              "          google.colab.kernel.accessAllowed ? 'block' : 'none';\n",
              "\n",
              "        async function convertToInteractive(key) {\n",
              "          const element = document.querySelector('#df-9369e9e9-3a00-4986-9b01-989bb439cde3');\n",
              "          const dataTable =\n",
              "            await google.colab.kernel.invokeFunction('convertToInteractive',\n",
              "                                                     [key], {});\n",
              "          if (!dataTable) return;\n",
              "\n",
              "          const docLinkHtml = 'Like what you see? Visit the ' +\n",
              "            '<a target=\"_blank\" href=https://colab.research.google.com/notebooks/data_table.ipynb>data table notebook</a>'\n",
              "            + ' to learn more about interactive tables.';\n",
              "          element.innerHTML = '';\n",
              "          dataTable['output_type'] = 'display_data';\n",
              "          await google.colab.output.renderOutput(dataTable, element);\n",
              "          const docLink = document.createElement('div');\n",
              "          docLink.innerHTML = docLinkHtml;\n",
              "          element.appendChild(docLink);\n",
              "        }\n",
              "      </script>\n",
              "    </div>\n",
              "  </div>\n",
              "  "
            ]
          },
          "metadata": {},
          "execution_count": 12
        }
      ],
      "source": [
        "df_1.loc[np.where(df_1['x'] == 1.5)]"
      ]
    },
    {
      "cell_type": "code",
      "execution_count": 13,
      "metadata": {
        "id": "BlleTgWB8dFw"
      },
      "outputs": [],
      "source": [
        "# df_1.loc[np.where(df_1['x'] == 1.5)[0][0], 'y']\n",
        "res_y_010 = df_1.loc[np.where(df_1['x'] == 1.5)]['y'].values[0]\n",
        "res_y_005 = df_2.loc[np.where(df_2['x'] == 1.5)]['y'].values[0]"
      ]
    },
    {
      "cell_type": "code",
      "execution_count": 14,
      "metadata": {
        "id": "0IWz1RIZ8dFw",
        "outputId": "28e68686-b4e5-43cb-8bcb-dc273eb114ac",
        "colab": {
          "base_uri": "https://localhost:8080/"
        }
      },
      "outputs": [
        {
          "output_type": "stream",
          "name": "stdout",
          "text": [
            "Para h = 0.1, el valor aproximado de y(1.5) = 2.0802\n",
            "Para h = 0.05, el valor aproximado de y(1.5) = 2.0591\n"
          ]
        }
      ],
      "source": [
        "print(f'Para h = {h_1}, el valor aproximado de y(1.5) = {res_y_010}')\n",
        "print(f'Para h = {h_2}, el valor aproximado de y(1.5) = {res_y_005}')"
      ]
    },
    {
      "cell_type": "markdown",
      "metadata": {
        "id": "SPdI7cg68dFx"
      },
      "source": [
        "[Inicio de Página](#scrollTo=Vn5QSpZM8dFm)"
      ]
    },
    {
      "cell_type": "markdown",
      "metadata": {
        "id": "6p7gGrym8dFx"
      },
      "source": [
        "---\n",
        "\n",
        "### Ejercicio 2:\n",
        "\n",
        "$$y' = 4x - 2y, \\ y(0) = 2; \\ y(0.5)$$"
      ]
    },
    {
      "cell_type": "code",
      "execution_count": 15,
      "metadata": {
        "id": "KLtzAI8d8dFx",
        "outputId": "6e0860e2-a5f4-4fc8-dc3f-31a75fa482d9",
        "colab": {
          "base_uri": "https://localhost:8080/",
          "height": 0
        }
      },
      "outputs": [
        {
          "output_type": "execute_result",
          "data": {
            "text/plain": [
              "4*x - 2*y"
            ],
            "text/latex": "$\\displaystyle 4 x - 2 y$"
          },
          "metadata": {},
          "execution_count": 15
        }
      ],
      "source": [
        "f, x, y = symbols('f, x, y')\n",
        "x_0, y_0, n = 0, 2, 10\n",
        "\n",
        "f = 4*x - 2*y\n",
        "f"
      ]
    },
    {
      "cell_type": "markdown",
      "metadata": {
        "id": "MHak32qE8dFx"
      },
      "source": [
        "#### Para *h = 0.1*:"
      ]
    },
    {
      "cell_type": "code",
      "execution_count": 16,
      "metadata": {
        "id": "L0iG_aMa8dFx",
        "outputId": "5b5baa9d-9938-4786-c0a0-24591982e695",
        "colab": {
          "base_uri": "https://localhost:8080/"
        }
      },
      "outputs": [
        {
          "output_type": "stream",
          "name": "stdout",
          "text": [
            "Valores de x: [0.0, 0.1, 0.2, 0.3, 0.4, 0.5, 0.6, 0.7, 0.8, 0.9, 1.0]\n"
          ]
        }
      ],
      "source": [
        "x_n = []\n",
        "for i in range(n + 1):\n",
        "    x_n.append(round(x_0 + i*h_1, 4))\n",
        "print(f'Valores de x: {x_n}')"
      ]
    },
    {
      "cell_type": "code",
      "execution_count": 17,
      "metadata": {
        "id": "WFyUyU1y8dFy",
        "outputId": "5c78093c-63d4-4704-e930-a67cf2e66926",
        "colab": {
          "base_uri": "https://localhost:8080/",
          "height": 0
        }
      },
      "outputs": [
        {
          "output_type": "execute_result",
          "data": {
            "text/plain": [
              "1.6000"
            ],
            "text/latex": "$\\displaystyle 1.6$"
          },
          "metadata": {},
          "execution_count": 17
        }
      ],
      "source": [
        "yo_0 = round(y_0 + h_1 * f.subs({x: x_0, y: y_0}), 4)\n",
        "yo_0"
      ]
    },
    {
      "cell_type": "code",
      "execution_count": 18,
      "metadata": {
        "id": "4A1D_X148dFy",
        "outputId": "0d81861d-1039-44b2-d8df-aee00328285e",
        "colab": {
          "base_uri": "https://localhost:8080/"
        }
      },
      "outputs": [
        {
          "output_type": "stream",
          "name": "stdout",
          "text": [
            "Valores de y: [2, 1.6600, 1.4172, 1.2541, 1.1564, 1.1123, 1.1121, 1.1479, 1.2133, 1.3029, 1.4124]\n",
            "Valores de y*: [1.6000, 1.3680, 1.2138, 1.1233, 1.0851, 1.0898, 1.1297, 1.1983, 1.2906, 1.4023, 1.5299]\n"
          ]
        }
      ],
      "source": [
        "y_n = [y_0]\n",
        "yo_n = [yo_0]\n",
        "for i in range(n):\n",
        "   slope_mean = (1/2) * (f.subs({x: x_n[i], y: y_n[i]}) + f.subs({x: x_n[i+1], y: yo_n[i]}))\n",
        "   y_n.append(round(y_n[i] + h_1 * slope_mean, 4))\n",
        "   yo_n1 = y_n[i+1] + h_1 * f.subs({x: x_n[i+1], y: y_n[i+1]})\n",
        "   yo_n.append(round(yo_n1, 4))\n",
        "print(f'Valores de y: {y_n}')\n",
        "print(f'Valores de y*: {yo_n}')"
      ]
    },
    {
      "cell_type": "markdown",
      "metadata": {
        "id": "SRNN9Bpv8dFy"
      },
      "source": [
        "##### Conversión de las listas a un DataFrame"
      ]
    },
    {
      "cell_type": "code",
      "execution_count": 19,
      "metadata": {
        "id": "euv-is_H8dFy",
        "outputId": "e39d7b52-e73d-425b-fab5-27e702561c26",
        "colab": {
          "base_uri": "https://localhost:8080/",
          "height": 0
        }
      },
      "outputs": [
        {
          "output_type": "execute_result",
          "data": {
            "text/plain": [
              "      x       y      y*\n",
              "n                      \n",
              "0   0.0       2  1.6000\n",
              "1   0.1  1.6600  1.3680\n",
              "2   0.2  1.4172  1.2138\n",
              "3   0.3  1.2541  1.1233\n",
              "4   0.4  1.1564  1.0851\n",
              "5   0.5  1.1123  1.0898\n",
              "6   0.6  1.1121  1.1297\n",
              "7   0.7  1.1479  1.1983\n",
              "8   0.8  1.2133  1.2906\n",
              "9   0.9  1.3029  1.4023\n",
              "10  1.0  1.4124  1.5299"
            ],
            "text/html": [
              "\n",
              "  <div id=\"df-1006c09b-89f2-4400-8b02-0ee9f2974770\">\n",
              "    <div class=\"colab-df-container\">\n",
              "      <div>\n",
              "<style scoped>\n",
              "    .dataframe tbody tr th:only-of-type {\n",
              "        vertical-align: middle;\n",
              "    }\n",
              "\n",
              "    .dataframe tbody tr th {\n",
              "        vertical-align: top;\n",
              "    }\n",
              "\n",
              "    .dataframe thead th {\n",
              "        text-align: right;\n",
              "    }\n",
              "</style>\n",
              "<table border=\"1\" class=\"dataframe\">\n",
              "  <thead>\n",
              "    <tr style=\"text-align: right;\">\n",
              "      <th></th>\n",
              "      <th>x</th>\n",
              "      <th>y</th>\n",
              "      <th>y*</th>\n",
              "    </tr>\n",
              "    <tr>\n",
              "      <th>n</th>\n",
              "      <th></th>\n",
              "      <th></th>\n",
              "      <th></th>\n",
              "    </tr>\n",
              "  </thead>\n",
              "  <tbody>\n",
              "    <tr>\n",
              "      <th>0</th>\n",
              "      <td>0.0</td>\n",
              "      <td>2</td>\n",
              "      <td>1.6000</td>\n",
              "    </tr>\n",
              "    <tr>\n",
              "      <th>1</th>\n",
              "      <td>0.1</td>\n",
              "      <td>1.6600</td>\n",
              "      <td>1.3680</td>\n",
              "    </tr>\n",
              "    <tr>\n",
              "      <th>2</th>\n",
              "      <td>0.2</td>\n",
              "      <td>1.4172</td>\n",
              "      <td>1.2138</td>\n",
              "    </tr>\n",
              "    <tr>\n",
              "      <th>3</th>\n",
              "      <td>0.3</td>\n",
              "      <td>1.2541</td>\n",
              "      <td>1.1233</td>\n",
              "    </tr>\n",
              "    <tr>\n",
              "      <th>4</th>\n",
              "      <td>0.4</td>\n",
              "      <td>1.1564</td>\n",
              "      <td>1.0851</td>\n",
              "    </tr>\n",
              "    <tr>\n",
              "      <th>5</th>\n",
              "      <td>0.5</td>\n",
              "      <td>1.1123</td>\n",
              "      <td>1.0898</td>\n",
              "    </tr>\n",
              "    <tr>\n",
              "      <th>6</th>\n",
              "      <td>0.6</td>\n",
              "      <td>1.1121</td>\n",
              "      <td>1.1297</td>\n",
              "    </tr>\n",
              "    <tr>\n",
              "      <th>7</th>\n",
              "      <td>0.7</td>\n",
              "      <td>1.1479</td>\n",
              "      <td>1.1983</td>\n",
              "    </tr>\n",
              "    <tr>\n",
              "      <th>8</th>\n",
              "      <td>0.8</td>\n",
              "      <td>1.2133</td>\n",
              "      <td>1.2906</td>\n",
              "    </tr>\n",
              "    <tr>\n",
              "      <th>9</th>\n",
              "      <td>0.9</td>\n",
              "      <td>1.3029</td>\n",
              "      <td>1.4023</td>\n",
              "    </tr>\n",
              "    <tr>\n",
              "      <th>10</th>\n",
              "      <td>1.0</td>\n",
              "      <td>1.4124</td>\n",
              "      <td>1.5299</td>\n",
              "    </tr>\n",
              "  </tbody>\n",
              "</table>\n",
              "</div>\n",
              "      <button class=\"colab-df-convert\" onclick=\"convertToInteractive('df-1006c09b-89f2-4400-8b02-0ee9f2974770')\"\n",
              "              title=\"Convert this dataframe to an interactive table.\"\n",
              "              style=\"display:none;\">\n",
              "        \n",
              "  <svg xmlns=\"http://www.w3.org/2000/svg\" height=\"24px\"viewBox=\"0 0 24 24\"\n",
              "       width=\"24px\">\n",
              "    <path d=\"M0 0h24v24H0V0z\" fill=\"none\"/>\n",
              "    <path d=\"M18.56 5.44l.94 2.06.94-2.06 2.06-.94-2.06-.94-.94-2.06-.94 2.06-2.06.94zm-11 1L8.5 8.5l.94-2.06 2.06-.94-2.06-.94L8.5 2.5l-.94 2.06-2.06.94zm10 10l.94 2.06.94-2.06 2.06-.94-2.06-.94-.94-2.06-.94 2.06-2.06.94z\"/><path d=\"M17.41 7.96l-1.37-1.37c-.4-.4-.92-.59-1.43-.59-.52 0-1.04.2-1.43.59L10.3 9.45l-7.72 7.72c-.78.78-.78 2.05 0 2.83L4 21.41c.39.39.9.59 1.41.59.51 0 1.02-.2 1.41-.59l7.78-7.78 2.81-2.81c.8-.78.8-2.07 0-2.86zM5.41 20L4 18.59l7.72-7.72 1.47 1.35L5.41 20z\"/>\n",
              "  </svg>\n",
              "      </button>\n",
              "      \n",
              "  <style>\n",
              "    .colab-df-container {\n",
              "      display:flex;\n",
              "      flex-wrap:wrap;\n",
              "      gap: 12px;\n",
              "    }\n",
              "\n",
              "    .colab-df-convert {\n",
              "      background-color: #E8F0FE;\n",
              "      border: none;\n",
              "      border-radius: 50%;\n",
              "      cursor: pointer;\n",
              "      display: none;\n",
              "      fill: #1967D2;\n",
              "      height: 32px;\n",
              "      padding: 0 0 0 0;\n",
              "      width: 32px;\n",
              "    }\n",
              "\n",
              "    .colab-df-convert:hover {\n",
              "      background-color: #E2EBFA;\n",
              "      box-shadow: 0px 1px 2px rgba(60, 64, 67, 0.3), 0px 1px 3px 1px rgba(60, 64, 67, 0.15);\n",
              "      fill: #174EA6;\n",
              "    }\n",
              "\n",
              "    [theme=dark] .colab-df-convert {\n",
              "      background-color: #3B4455;\n",
              "      fill: #D2E3FC;\n",
              "    }\n",
              "\n",
              "    [theme=dark] .colab-df-convert:hover {\n",
              "      background-color: #434B5C;\n",
              "      box-shadow: 0px 1px 3px 1px rgba(0, 0, 0, 0.15);\n",
              "      filter: drop-shadow(0px 1px 2px rgba(0, 0, 0, 0.3));\n",
              "      fill: #FFFFFF;\n",
              "    }\n",
              "  </style>\n",
              "\n",
              "      <script>\n",
              "        const buttonEl =\n",
              "          document.querySelector('#df-1006c09b-89f2-4400-8b02-0ee9f2974770 button.colab-df-convert');\n",
              "        buttonEl.style.display =\n",
              "          google.colab.kernel.accessAllowed ? 'block' : 'none';\n",
              "\n",
              "        async function convertToInteractive(key) {\n",
              "          const element = document.querySelector('#df-1006c09b-89f2-4400-8b02-0ee9f2974770');\n",
              "          const dataTable =\n",
              "            await google.colab.kernel.invokeFunction('convertToInteractive',\n",
              "                                                     [key], {});\n",
              "          if (!dataTable) return;\n",
              "\n",
              "          const docLinkHtml = 'Like what you see? Visit the ' +\n",
              "            '<a target=\"_blank\" href=https://colab.research.google.com/notebooks/data_table.ipynb>data table notebook</a>'\n",
              "            + ' to learn more about interactive tables.';\n",
              "          element.innerHTML = '';\n",
              "          dataTable['output_type'] = 'display_data';\n",
              "          await google.colab.output.renderOutput(dataTable, element);\n",
              "          const docLink = document.createElement('div');\n",
              "          docLink.innerHTML = docLinkHtml;\n",
              "          element.appendChild(docLink);\n",
              "        }\n",
              "      </script>\n",
              "    </div>\n",
              "  </div>\n",
              "  "
            ]
          },
          "metadata": {},
          "execution_count": 19
        }
      ],
      "source": [
        "x_series_1 = pd.Series(x_n)\n",
        "y_series_1 = pd.Series(y_n)\n",
        "yo_series_1 = pd.Series(yo_n)\n",
        "df_1 = pd.DataFrame({'x': x_series_1, 'y': y_series_1, 'y*': yo_series_1})\n",
        "df_1.index.name = 'n'\n",
        "df_1"
      ]
    },
    {
      "cell_type": "markdown",
      "metadata": {
        "id": "K8PArBB08dFy"
      },
      "source": [
        "#### Para *h = 0.05*:"
      ]
    },
    {
      "cell_type": "code",
      "execution_count": 20,
      "metadata": {
        "id": "6wzdrjXg8dFz",
        "outputId": "2c35028e-0b62-4290-e68b-08a15f4a119c",
        "colab": {
          "base_uri": "https://localhost:8080/"
        }
      },
      "outputs": [
        {
          "output_type": "stream",
          "name": "stdout",
          "text": [
            "Valores de x: [0.0, 0.05, 0.1, 0.15, 0.2, 0.25, 0.3, 0.35, 0.4, 0.45, 0.5]\n"
          ]
        }
      ],
      "source": [
        "x_n = []\n",
        "for i in range(n + 1):\n",
        "    x_n.append(round(x_0 + i*h_2, 4))\n",
        "print(f'Valores de x: {x_n}')"
      ]
    },
    {
      "cell_type": "code",
      "execution_count": 21,
      "metadata": {
        "id": "uWGKzZ-B8dFz",
        "outputId": "ec628f51-fdc0-4bff-8608-ff83a96ba051",
        "colab": {
          "base_uri": "https://localhost:8080/",
          "height": 0
        }
      },
      "outputs": [
        {
          "output_type": "execute_result",
          "data": {
            "text/plain": [
              "1.8000"
            ],
            "text/latex": "$\\displaystyle 1.8$"
          },
          "metadata": {},
          "execution_count": 21
        }
      ],
      "source": [
        "yo_0 = round(y_0 + h_2 * f.subs({x: x_0, y: y_0}), 4)\n",
        "yo_0"
      ]
    },
    {
      "cell_type": "code",
      "execution_count": 22,
      "metadata": {
        "id": "UkxyPo848dFz",
        "outputId": "a7c99b1c-4aa0-4667-fb05-8ae40fa0bea3",
        "colab": {
          "base_uri": "https://localhost:8080/"
        }
      },
      "outputs": [
        {
          "output_type": "stream",
          "name": "stdout",
          "text": [
            "Valores de y: [2, 1.8150, 1.6571, 1.5237, 1.4125, 1.3213, 1.2483, 1.1917, 1.1500, 1.1217, 1.1056]\n",
            "Valores de y*: [1.8000, 1.6435, 1.5114, 1.4013, 1.3113, 1.2392, 1.1835, 1.1425, 1.1150, 1.0995, 1.0950]\n"
          ]
        }
      ],
      "source": [
        "y_n = [y_0]\n",
        "yo_n = [yo_0]\n",
        "for i in range(n):\n",
        "   slope_mean = (1/2) * (f.subs({x: x_n[i], y: y_n[i]}) + f.subs({x: x_n[i+1], y: yo_n[i]}))\n",
        "   y_n.append(round(y_n[i] + h_2 * slope_mean, 4))\n",
        "   yo_n1 = y_n[i+1] + h_2 * f.subs({x: x_n[i+1], y: y_n[i+1]})\n",
        "   yo_n.append(round(yo_n1, 4))\n",
        "print(f'Valores de y: {y_n}')\n",
        "print(f'Valores de y*: {yo_n}')"
      ]
    },
    {
      "cell_type": "markdown",
      "metadata": {
        "id": "rwrrWWED8dFz"
      },
      "source": [
        "##### Conversión de las listas a un DataFrame"
      ]
    },
    {
      "cell_type": "code",
      "execution_count": 23,
      "metadata": {
        "id": "uEOT_reF8dFz",
        "outputId": "acd2b515-0293-4f82-e740-13aa95ddb191",
        "colab": {
          "base_uri": "https://localhost:8080/",
          "height": 0
        }
      },
      "outputs": [
        {
          "output_type": "execute_result",
          "data": {
            "text/plain": [
              "       x       y      y*\n",
              "n                       \n",
              "0   0.00       2  1.8000\n",
              "1   0.05  1.8150  1.6435\n",
              "2   0.10  1.6571  1.5114\n",
              "3   0.15  1.5237  1.4013\n",
              "4   0.20  1.4125  1.3113\n",
              "5   0.25  1.3213  1.2392\n",
              "6   0.30  1.2483  1.1835\n",
              "7   0.35  1.1917  1.1425\n",
              "8   0.40  1.1500  1.1150\n",
              "9   0.45  1.1217  1.0995\n",
              "10  0.50  1.1056  1.0950"
            ],
            "text/html": [
              "\n",
              "  <div id=\"df-35b7de16-925b-489f-8624-5982971e807f\">\n",
              "    <div class=\"colab-df-container\">\n",
              "      <div>\n",
              "<style scoped>\n",
              "    .dataframe tbody tr th:only-of-type {\n",
              "        vertical-align: middle;\n",
              "    }\n",
              "\n",
              "    .dataframe tbody tr th {\n",
              "        vertical-align: top;\n",
              "    }\n",
              "\n",
              "    .dataframe thead th {\n",
              "        text-align: right;\n",
              "    }\n",
              "</style>\n",
              "<table border=\"1\" class=\"dataframe\">\n",
              "  <thead>\n",
              "    <tr style=\"text-align: right;\">\n",
              "      <th></th>\n",
              "      <th>x</th>\n",
              "      <th>y</th>\n",
              "      <th>y*</th>\n",
              "    </tr>\n",
              "    <tr>\n",
              "      <th>n</th>\n",
              "      <th></th>\n",
              "      <th></th>\n",
              "      <th></th>\n",
              "    </tr>\n",
              "  </thead>\n",
              "  <tbody>\n",
              "    <tr>\n",
              "      <th>0</th>\n",
              "      <td>0.00</td>\n",
              "      <td>2</td>\n",
              "      <td>1.8000</td>\n",
              "    </tr>\n",
              "    <tr>\n",
              "      <th>1</th>\n",
              "      <td>0.05</td>\n",
              "      <td>1.8150</td>\n",
              "      <td>1.6435</td>\n",
              "    </tr>\n",
              "    <tr>\n",
              "      <th>2</th>\n",
              "      <td>0.10</td>\n",
              "      <td>1.6571</td>\n",
              "      <td>1.5114</td>\n",
              "    </tr>\n",
              "    <tr>\n",
              "      <th>3</th>\n",
              "      <td>0.15</td>\n",
              "      <td>1.5237</td>\n",
              "      <td>1.4013</td>\n",
              "    </tr>\n",
              "    <tr>\n",
              "      <th>4</th>\n",
              "      <td>0.20</td>\n",
              "      <td>1.4125</td>\n",
              "      <td>1.3113</td>\n",
              "    </tr>\n",
              "    <tr>\n",
              "      <th>5</th>\n",
              "      <td>0.25</td>\n",
              "      <td>1.3213</td>\n",
              "      <td>1.2392</td>\n",
              "    </tr>\n",
              "    <tr>\n",
              "      <th>6</th>\n",
              "      <td>0.30</td>\n",
              "      <td>1.2483</td>\n",
              "      <td>1.1835</td>\n",
              "    </tr>\n",
              "    <tr>\n",
              "      <th>7</th>\n",
              "      <td>0.35</td>\n",
              "      <td>1.1917</td>\n",
              "      <td>1.1425</td>\n",
              "    </tr>\n",
              "    <tr>\n",
              "      <th>8</th>\n",
              "      <td>0.40</td>\n",
              "      <td>1.1500</td>\n",
              "      <td>1.1150</td>\n",
              "    </tr>\n",
              "    <tr>\n",
              "      <th>9</th>\n",
              "      <td>0.45</td>\n",
              "      <td>1.1217</td>\n",
              "      <td>1.0995</td>\n",
              "    </tr>\n",
              "    <tr>\n",
              "      <th>10</th>\n",
              "      <td>0.50</td>\n",
              "      <td>1.1056</td>\n",
              "      <td>1.0950</td>\n",
              "    </tr>\n",
              "  </tbody>\n",
              "</table>\n",
              "</div>\n",
              "      <button class=\"colab-df-convert\" onclick=\"convertToInteractive('df-35b7de16-925b-489f-8624-5982971e807f')\"\n",
              "              title=\"Convert this dataframe to an interactive table.\"\n",
              "              style=\"display:none;\">\n",
              "        \n",
              "  <svg xmlns=\"http://www.w3.org/2000/svg\" height=\"24px\"viewBox=\"0 0 24 24\"\n",
              "       width=\"24px\">\n",
              "    <path d=\"M0 0h24v24H0V0z\" fill=\"none\"/>\n",
              "    <path d=\"M18.56 5.44l.94 2.06.94-2.06 2.06-.94-2.06-.94-.94-2.06-.94 2.06-2.06.94zm-11 1L8.5 8.5l.94-2.06 2.06-.94-2.06-.94L8.5 2.5l-.94 2.06-2.06.94zm10 10l.94 2.06.94-2.06 2.06-.94-2.06-.94-.94-2.06-.94 2.06-2.06.94z\"/><path d=\"M17.41 7.96l-1.37-1.37c-.4-.4-.92-.59-1.43-.59-.52 0-1.04.2-1.43.59L10.3 9.45l-7.72 7.72c-.78.78-.78 2.05 0 2.83L4 21.41c.39.39.9.59 1.41.59.51 0 1.02-.2 1.41-.59l7.78-7.78 2.81-2.81c.8-.78.8-2.07 0-2.86zM5.41 20L4 18.59l7.72-7.72 1.47 1.35L5.41 20z\"/>\n",
              "  </svg>\n",
              "      </button>\n",
              "      \n",
              "  <style>\n",
              "    .colab-df-container {\n",
              "      display:flex;\n",
              "      flex-wrap:wrap;\n",
              "      gap: 12px;\n",
              "    }\n",
              "\n",
              "    .colab-df-convert {\n",
              "      background-color: #E8F0FE;\n",
              "      border: none;\n",
              "      border-radius: 50%;\n",
              "      cursor: pointer;\n",
              "      display: none;\n",
              "      fill: #1967D2;\n",
              "      height: 32px;\n",
              "      padding: 0 0 0 0;\n",
              "      width: 32px;\n",
              "    }\n",
              "\n",
              "    .colab-df-convert:hover {\n",
              "      background-color: #E2EBFA;\n",
              "      box-shadow: 0px 1px 2px rgba(60, 64, 67, 0.3), 0px 1px 3px 1px rgba(60, 64, 67, 0.15);\n",
              "      fill: #174EA6;\n",
              "    }\n",
              "\n",
              "    [theme=dark] .colab-df-convert {\n",
              "      background-color: #3B4455;\n",
              "      fill: #D2E3FC;\n",
              "    }\n",
              "\n",
              "    [theme=dark] .colab-df-convert:hover {\n",
              "      background-color: #434B5C;\n",
              "      box-shadow: 0px 1px 3px 1px rgba(0, 0, 0, 0.15);\n",
              "      filter: drop-shadow(0px 1px 2px rgba(0, 0, 0, 0.3));\n",
              "      fill: #FFFFFF;\n",
              "    }\n",
              "  </style>\n",
              "\n",
              "      <script>\n",
              "        const buttonEl =\n",
              "          document.querySelector('#df-35b7de16-925b-489f-8624-5982971e807f button.colab-df-convert');\n",
              "        buttonEl.style.display =\n",
              "          google.colab.kernel.accessAllowed ? 'block' : 'none';\n",
              "\n",
              "        async function convertToInteractive(key) {\n",
              "          const element = document.querySelector('#df-35b7de16-925b-489f-8624-5982971e807f');\n",
              "          const dataTable =\n",
              "            await google.colab.kernel.invokeFunction('convertToInteractive',\n",
              "                                                     [key], {});\n",
              "          if (!dataTable) return;\n",
              "\n",
              "          const docLinkHtml = 'Like what you see? Visit the ' +\n",
              "            '<a target=\"_blank\" href=https://colab.research.google.com/notebooks/data_table.ipynb>data table notebook</a>'\n",
              "            + ' to learn more about interactive tables.';\n",
              "          element.innerHTML = '';\n",
              "          dataTable['output_type'] = 'display_data';\n",
              "          await google.colab.output.renderOutput(dataTable, element);\n",
              "          const docLink = document.createElement('div');\n",
              "          docLink.innerHTML = docLinkHtml;\n",
              "          element.appendChild(docLink);\n",
              "        }\n",
              "      </script>\n",
              "    </div>\n",
              "  </div>\n",
              "  "
            ]
          },
          "metadata": {},
          "execution_count": 23
        }
      ],
      "source": [
        "x_series_2 = pd.Series(x_n)\n",
        "y_series_2 = pd.Series(y_n)\n",
        "yo_series_2 = pd.Series(yo_n)\n",
        "df_2 = pd.DataFrame({'x': x_series_2, 'y': y_series_2, 'y*': yo_series_2})\n",
        "df_2.index.name = 'n'\n",
        "df_2"
      ]
    },
    {
      "cell_type": "markdown",
      "metadata": {
        "id": "OrU3wvDp8dFz"
      },
      "source": [
        "#### Resultados:"
      ]
    },
    {
      "cell_type": "code",
      "execution_count": 24,
      "metadata": {
        "id": "0Du9I-iP8dF0",
        "outputId": "45ce10a6-ae8f-4674-eb66-2c1d50e40e32",
        "colab": {
          "base_uri": "https://localhost:8080/",
          "height": 0
        }
      },
      "outputs": [
        {
          "output_type": "execute_result",
          "data": {
            "text/plain": [
              "     x       y      y*\n",
              "n                     \n",
              "5  0.5  1.1123  1.0898"
            ],
            "text/html": [
              "\n",
              "  <div id=\"df-cc9b954e-2295-492c-a7ba-2dc664910b00\">\n",
              "    <div class=\"colab-df-container\">\n",
              "      <div>\n",
              "<style scoped>\n",
              "    .dataframe tbody tr th:only-of-type {\n",
              "        vertical-align: middle;\n",
              "    }\n",
              "\n",
              "    .dataframe tbody tr th {\n",
              "        vertical-align: top;\n",
              "    }\n",
              "\n",
              "    .dataframe thead th {\n",
              "        text-align: right;\n",
              "    }\n",
              "</style>\n",
              "<table border=\"1\" class=\"dataframe\">\n",
              "  <thead>\n",
              "    <tr style=\"text-align: right;\">\n",
              "      <th></th>\n",
              "      <th>x</th>\n",
              "      <th>y</th>\n",
              "      <th>y*</th>\n",
              "    </tr>\n",
              "    <tr>\n",
              "      <th>n</th>\n",
              "      <th></th>\n",
              "      <th></th>\n",
              "      <th></th>\n",
              "    </tr>\n",
              "  </thead>\n",
              "  <tbody>\n",
              "    <tr>\n",
              "      <th>5</th>\n",
              "      <td>0.5</td>\n",
              "      <td>1.1123</td>\n",
              "      <td>1.0898</td>\n",
              "    </tr>\n",
              "  </tbody>\n",
              "</table>\n",
              "</div>\n",
              "      <button class=\"colab-df-convert\" onclick=\"convertToInteractive('df-cc9b954e-2295-492c-a7ba-2dc664910b00')\"\n",
              "              title=\"Convert this dataframe to an interactive table.\"\n",
              "              style=\"display:none;\">\n",
              "        \n",
              "  <svg xmlns=\"http://www.w3.org/2000/svg\" height=\"24px\"viewBox=\"0 0 24 24\"\n",
              "       width=\"24px\">\n",
              "    <path d=\"M0 0h24v24H0V0z\" fill=\"none\"/>\n",
              "    <path d=\"M18.56 5.44l.94 2.06.94-2.06 2.06-.94-2.06-.94-.94-2.06-.94 2.06-2.06.94zm-11 1L8.5 8.5l.94-2.06 2.06-.94-2.06-.94L8.5 2.5l-.94 2.06-2.06.94zm10 10l.94 2.06.94-2.06 2.06-.94-2.06-.94-.94-2.06-.94 2.06-2.06.94z\"/><path d=\"M17.41 7.96l-1.37-1.37c-.4-.4-.92-.59-1.43-.59-.52 0-1.04.2-1.43.59L10.3 9.45l-7.72 7.72c-.78.78-.78 2.05 0 2.83L4 21.41c.39.39.9.59 1.41.59.51 0 1.02-.2 1.41-.59l7.78-7.78 2.81-2.81c.8-.78.8-2.07 0-2.86zM5.41 20L4 18.59l7.72-7.72 1.47 1.35L5.41 20z\"/>\n",
              "  </svg>\n",
              "      </button>\n",
              "      \n",
              "  <style>\n",
              "    .colab-df-container {\n",
              "      display:flex;\n",
              "      flex-wrap:wrap;\n",
              "      gap: 12px;\n",
              "    }\n",
              "\n",
              "    .colab-df-convert {\n",
              "      background-color: #E8F0FE;\n",
              "      border: none;\n",
              "      border-radius: 50%;\n",
              "      cursor: pointer;\n",
              "      display: none;\n",
              "      fill: #1967D2;\n",
              "      height: 32px;\n",
              "      padding: 0 0 0 0;\n",
              "      width: 32px;\n",
              "    }\n",
              "\n",
              "    .colab-df-convert:hover {\n",
              "      background-color: #E2EBFA;\n",
              "      box-shadow: 0px 1px 2px rgba(60, 64, 67, 0.3), 0px 1px 3px 1px rgba(60, 64, 67, 0.15);\n",
              "      fill: #174EA6;\n",
              "    }\n",
              "\n",
              "    [theme=dark] .colab-df-convert {\n",
              "      background-color: #3B4455;\n",
              "      fill: #D2E3FC;\n",
              "    }\n",
              "\n",
              "    [theme=dark] .colab-df-convert:hover {\n",
              "      background-color: #434B5C;\n",
              "      box-shadow: 0px 1px 3px 1px rgba(0, 0, 0, 0.15);\n",
              "      filter: drop-shadow(0px 1px 2px rgba(0, 0, 0, 0.3));\n",
              "      fill: #FFFFFF;\n",
              "    }\n",
              "  </style>\n",
              "\n",
              "      <script>\n",
              "        const buttonEl =\n",
              "          document.querySelector('#df-cc9b954e-2295-492c-a7ba-2dc664910b00 button.colab-df-convert');\n",
              "        buttonEl.style.display =\n",
              "          google.colab.kernel.accessAllowed ? 'block' : 'none';\n",
              "\n",
              "        async function convertToInteractive(key) {\n",
              "          const element = document.querySelector('#df-cc9b954e-2295-492c-a7ba-2dc664910b00');\n",
              "          const dataTable =\n",
              "            await google.colab.kernel.invokeFunction('convertToInteractive',\n",
              "                                                     [key], {});\n",
              "          if (!dataTable) return;\n",
              "\n",
              "          const docLinkHtml = 'Like what you see? Visit the ' +\n",
              "            '<a target=\"_blank\" href=https://colab.research.google.com/notebooks/data_table.ipynb>data table notebook</a>'\n",
              "            + ' to learn more about interactive tables.';\n",
              "          element.innerHTML = '';\n",
              "          dataTable['output_type'] = 'display_data';\n",
              "          await google.colab.output.renderOutput(dataTable, element);\n",
              "          const docLink = document.createElement('div');\n",
              "          docLink.innerHTML = docLinkHtml;\n",
              "          element.appendChild(docLink);\n",
              "        }\n",
              "      </script>\n",
              "    </div>\n",
              "  </div>\n",
              "  "
            ]
          },
          "metadata": {},
          "execution_count": 24
        }
      ],
      "source": [
        "df_1.loc[np.where(df_1['x'] == 0.5)]"
      ]
    },
    {
      "cell_type": "code",
      "execution_count": 25,
      "metadata": {
        "id": "TXmWQpmE8dF0"
      },
      "outputs": [],
      "source": [
        "res_y_010 = df_1.loc[np.where(df_1['x'] == 0.5)]['y'].values[0]\n",
        "res_y_005 = df_2.loc[np.where(df_2['x'] == 0.5)]['y'].values[0]"
      ]
    },
    {
      "cell_type": "code",
      "execution_count": 26,
      "metadata": {
        "id": "FpW7wrQC8dF0",
        "outputId": "18c5a105-f2b3-457a-8506-7226e13bf0c6",
        "colab": {
          "base_uri": "https://localhost:8080/"
        }
      },
      "outputs": [
        {
          "output_type": "stream",
          "name": "stdout",
          "text": [
            "Para h = 0.1, el valor aproximado de y(0.5) = 1.1123\n",
            "Para h = 0.05, el valor aproximado de y(0.5) = 1.1056\n"
          ]
        }
      ],
      "source": [
        "print(f'Para h = {h_1}, el valor aproximado de y(0.5) = {res_y_010}')\n",
        "print(f'Para h = {h_2}, el valor aproximado de y(0.5) = {res_y_005}')"
      ]
    },
    {
      "cell_type": "markdown",
      "metadata": {
        "id": "hQN4Yk1D8dF0"
      },
      "source": [
        "[Inicio de Página](#scrollTo=Vn5QSpZM8dFm)"
      ]
    },
    {
      "cell_type": "markdown",
      "metadata": {
        "id": "nixlzupo8dF0"
      },
      "source": [
        "---\n",
        "\n",
        "### Ejercicio 3:\n",
        "\n",
        "$$y' = 1 + e^x, \\ y(0) = 2; \\ y(0.5)$$"
      ]
    },
    {
      "cell_type": "code",
      "execution_count": 27,
      "metadata": {
        "id": "ZDllhzzd8dF0",
        "outputId": "6ec4919c-6c2c-4d53-bb7a-25f28bb8072e",
        "colab": {
          "base_uri": "https://localhost:8080/",
          "height": 0
        }
      },
      "outputs": [
        {
          "output_type": "execute_result",
          "data": {
            "text/plain": [
              "y**2 + 1"
            ],
            "text/latex": "$\\displaystyle y^{2} + 1$"
          },
          "metadata": {},
          "execution_count": 27
        }
      ],
      "source": [
        "f, x, y = symbols('f, x, y')\n",
        "x_0, y_0, n = 0, 0, 10\n",
        "\n",
        "f = 1 + y**2\n",
        "f"
      ]
    },
    {
      "cell_type": "markdown",
      "metadata": {
        "id": "tWebMVCj8dF1"
      },
      "source": [
        "#### Para *h = 0.1*:"
      ]
    },
    {
      "cell_type": "code",
      "execution_count": 28,
      "metadata": {
        "id": "qg7fMkXV8dF1",
        "outputId": "c0f11d2e-5735-4e38-a0c6-e5374239a15a",
        "colab": {
          "base_uri": "https://localhost:8080/"
        }
      },
      "outputs": [
        {
          "output_type": "stream",
          "name": "stdout",
          "text": [
            "Valores de x: [0.0, 0.1, 0.2, 0.3, 0.4, 0.5, 0.6, 0.7, 0.8, 0.9, 1.0]\n"
          ]
        }
      ],
      "source": [
        "x_n = []\n",
        "for i in range(n + 1):\n",
        "    x_n.append(round(x_0 + i*h_1, 4))\n",
        "print(f'Valores de x: {x_n}')"
      ]
    },
    {
      "cell_type": "code",
      "execution_count": 29,
      "metadata": {
        "id": "jHpDh6Wv8dF1",
        "outputId": "e8aa6a84-b97c-4723-b75c-68735e21f3f1",
        "colab": {
          "base_uri": "https://localhost:8080/",
          "height": 0
        }
      },
      "outputs": [
        {
          "output_type": "execute_result",
          "data": {
            "text/plain": [
              "0.1000"
            ],
            "text/latex": "$\\displaystyle 0.1$"
          },
          "metadata": {},
          "execution_count": 29
        }
      ],
      "source": [
        "yo_0 = round(y_0 + h_1 * f.subs({x: x_0, y: y_0}), 4)\n",
        "yo_0"
      ]
    },
    {
      "cell_type": "code",
      "execution_count": 30,
      "metadata": {
        "id": "8aXIyU-N8dF1",
        "outputId": "35dd72e0-b64f-45fd-c038-8ecda78799d0",
        "colab": {
          "base_uri": "https://localhost:8080/"
        }
      },
      "outputs": [
        {
          "output_type": "stream",
          "name": "stdout",
          "text": [
            "Valores de y: [0, 0.1005, 0.2030, 0.3098, 0.4234, 0.5470, 0.6849, 0.8429, 1.0298, 1.2592, 1.5537]\n",
            "Valores de y*: [0.1000, 0.2015, 0.3071, 0.4194, 0.5413, 0.6769, 0.8318, 1.0140, 1.2358, 1.5178, 1.8951]\n"
          ]
        }
      ],
      "source": [
        "y_n = [y_0]\n",
        "yo_n = [yo_0]\n",
        "for i in range(n):\n",
        "   slope_mean = (1/2) * (f.subs({x: x_n[i], y: y_n[i]}) + f.subs({x: x_n[i+1], y: yo_n[i]}))\n",
        "   y_n.append(round(y_n[i] + h_1 * slope_mean, 4))\n",
        "   yo_n1 = y_n[i+1] + h_1 * f.subs({x: x_n[i+1], y: y_n[i+1]})\n",
        "   yo_n.append(round(yo_n1, 4))\n",
        "print(f'Valores de y: {y_n}')\n",
        "print(f'Valores de y*: {yo_n}')"
      ]
    },
    {
      "cell_type": "markdown",
      "metadata": {
        "id": "TIw85hDI8dF1"
      },
      "source": [
        "##### Conversión de las listas a un DataFrame"
      ]
    },
    {
      "cell_type": "code",
      "execution_count": 31,
      "metadata": {
        "id": "0bTQOe2n8dF1",
        "outputId": "67bf5715-6ad2-40a4-e2f2-4c801f5ae6ea",
        "colab": {
          "base_uri": "https://localhost:8080/",
          "height": 0
        }
      },
      "outputs": [
        {
          "output_type": "execute_result",
          "data": {
            "text/plain": [
              "      x       y      y*\n",
              "n                      \n",
              "0   0.0       0  0.1000\n",
              "1   0.1  0.1005  0.2015\n",
              "2   0.2  0.2030  0.3071\n",
              "3   0.3  0.3098  0.4194\n",
              "4   0.4  0.4234  0.5413\n",
              "5   0.5  0.5470  0.6769\n",
              "6   0.6  0.6849  0.8318\n",
              "7   0.7  0.8429  1.0140\n",
              "8   0.8  1.0298  1.2358\n",
              "9   0.9  1.2592  1.5178\n",
              "10  1.0  1.5537  1.8951"
            ],
            "text/html": [
              "\n",
              "  <div id=\"df-8fae5b69-8e68-46be-9804-689a9bd1077f\">\n",
              "    <div class=\"colab-df-container\">\n",
              "      <div>\n",
              "<style scoped>\n",
              "    .dataframe tbody tr th:only-of-type {\n",
              "        vertical-align: middle;\n",
              "    }\n",
              "\n",
              "    .dataframe tbody tr th {\n",
              "        vertical-align: top;\n",
              "    }\n",
              "\n",
              "    .dataframe thead th {\n",
              "        text-align: right;\n",
              "    }\n",
              "</style>\n",
              "<table border=\"1\" class=\"dataframe\">\n",
              "  <thead>\n",
              "    <tr style=\"text-align: right;\">\n",
              "      <th></th>\n",
              "      <th>x</th>\n",
              "      <th>y</th>\n",
              "      <th>y*</th>\n",
              "    </tr>\n",
              "    <tr>\n",
              "      <th>n</th>\n",
              "      <th></th>\n",
              "      <th></th>\n",
              "      <th></th>\n",
              "    </tr>\n",
              "  </thead>\n",
              "  <tbody>\n",
              "    <tr>\n",
              "      <th>0</th>\n",
              "      <td>0.0</td>\n",
              "      <td>0</td>\n",
              "      <td>0.1000</td>\n",
              "    </tr>\n",
              "    <tr>\n",
              "      <th>1</th>\n",
              "      <td>0.1</td>\n",
              "      <td>0.1005</td>\n",
              "      <td>0.2015</td>\n",
              "    </tr>\n",
              "    <tr>\n",
              "      <th>2</th>\n",
              "      <td>0.2</td>\n",
              "      <td>0.2030</td>\n",
              "      <td>0.3071</td>\n",
              "    </tr>\n",
              "    <tr>\n",
              "      <th>3</th>\n",
              "      <td>0.3</td>\n",
              "      <td>0.3098</td>\n",
              "      <td>0.4194</td>\n",
              "    </tr>\n",
              "    <tr>\n",
              "      <th>4</th>\n",
              "      <td>0.4</td>\n",
              "      <td>0.4234</td>\n",
              "      <td>0.5413</td>\n",
              "    </tr>\n",
              "    <tr>\n",
              "      <th>5</th>\n",
              "      <td>0.5</td>\n",
              "      <td>0.5470</td>\n",
              "      <td>0.6769</td>\n",
              "    </tr>\n",
              "    <tr>\n",
              "      <th>6</th>\n",
              "      <td>0.6</td>\n",
              "      <td>0.6849</td>\n",
              "      <td>0.8318</td>\n",
              "    </tr>\n",
              "    <tr>\n",
              "      <th>7</th>\n",
              "      <td>0.7</td>\n",
              "      <td>0.8429</td>\n",
              "      <td>1.0140</td>\n",
              "    </tr>\n",
              "    <tr>\n",
              "      <th>8</th>\n",
              "      <td>0.8</td>\n",
              "      <td>1.0298</td>\n",
              "      <td>1.2358</td>\n",
              "    </tr>\n",
              "    <tr>\n",
              "      <th>9</th>\n",
              "      <td>0.9</td>\n",
              "      <td>1.2592</td>\n",
              "      <td>1.5178</td>\n",
              "    </tr>\n",
              "    <tr>\n",
              "      <th>10</th>\n",
              "      <td>1.0</td>\n",
              "      <td>1.5537</td>\n",
              "      <td>1.8951</td>\n",
              "    </tr>\n",
              "  </tbody>\n",
              "</table>\n",
              "</div>\n",
              "      <button class=\"colab-df-convert\" onclick=\"convertToInteractive('df-8fae5b69-8e68-46be-9804-689a9bd1077f')\"\n",
              "              title=\"Convert this dataframe to an interactive table.\"\n",
              "              style=\"display:none;\">\n",
              "        \n",
              "  <svg xmlns=\"http://www.w3.org/2000/svg\" height=\"24px\"viewBox=\"0 0 24 24\"\n",
              "       width=\"24px\">\n",
              "    <path d=\"M0 0h24v24H0V0z\" fill=\"none\"/>\n",
              "    <path d=\"M18.56 5.44l.94 2.06.94-2.06 2.06-.94-2.06-.94-.94-2.06-.94 2.06-2.06.94zm-11 1L8.5 8.5l.94-2.06 2.06-.94-2.06-.94L8.5 2.5l-.94 2.06-2.06.94zm10 10l.94 2.06.94-2.06 2.06-.94-2.06-.94-.94-2.06-.94 2.06-2.06.94z\"/><path d=\"M17.41 7.96l-1.37-1.37c-.4-.4-.92-.59-1.43-.59-.52 0-1.04.2-1.43.59L10.3 9.45l-7.72 7.72c-.78.78-.78 2.05 0 2.83L4 21.41c.39.39.9.59 1.41.59.51 0 1.02-.2 1.41-.59l7.78-7.78 2.81-2.81c.8-.78.8-2.07 0-2.86zM5.41 20L4 18.59l7.72-7.72 1.47 1.35L5.41 20z\"/>\n",
              "  </svg>\n",
              "      </button>\n",
              "      \n",
              "  <style>\n",
              "    .colab-df-container {\n",
              "      display:flex;\n",
              "      flex-wrap:wrap;\n",
              "      gap: 12px;\n",
              "    }\n",
              "\n",
              "    .colab-df-convert {\n",
              "      background-color: #E8F0FE;\n",
              "      border: none;\n",
              "      border-radius: 50%;\n",
              "      cursor: pointer;\n",
              "      display: none;\n",
              "      fill: #1967D2;\n",
              "      height: 32px;\n",
              "      padding: 0 0 0 0;\n",
              "      width: 32px;\n",
              "    }\n",
              "\n",
              "    .colab-df-convert:hover {\n",
              "      background-color: #E2EBFA;\n",
              "      box-shadow: 0px 1px 2px rgba(60, 64, 67, 0.3), 0px 1px 3px 1px rgba(60, 64, 67, 0.15);\n",
              "      fill: #174EA6;\n",
              "    }\n",
              "\n",
              "    [theme=dark] .colab-df-convert {\n",
              "      background-color: #3B4455;\n",
              "      fill: #D2E3FC;\n",
              "    }\n",
              "\n",
              "    [theme=dark] .colab-df-convert:hover {\n",
              "      background-color: #434B5C;\n",
              "      box-shadow: 0px 1px 3px 1px rgba(0, 0, 0, 0.15);\n",
              "      filter: drop-shadow(0px 1px 2px rgba(0, 0, 0, 0.3));\n",
              "      fill: #FFFFFF;\n",
              "    }\n",
              "  </style>\n",
              "\n",
              "      <script>\n",
              "        const buttonEl =\n",
              "          document.querySelector('#df-8fae5b69-8e68-46be-9804-689a9bd1077f button.colab-df-convert');\n",
              "        buttonEl.style.display =\n",
              "          google.colab.kernel.accessAllowed ? 'block' : 'none';\n",
              "\n",
              "        async function convertToInteractive(key) {\n",
              "          const element = document.querySelector('#df-8fae5b69-8e68-46be-9804-689a9bd1077f');\n",
              "          const dataTable =\n",
              "            await google.colab.kernel.invokeFunction('convertToInteractive',\n",
              "                                                     [key], {});\n",
              "          if (!dataTable) return;\n",
              "\n",
              "          const docLinkHtml = 'Like what you see? Visit the ' +\n",
              "            '<a target=\"_blank\" href=https://colab.research.google.com/notebooks/data_table.ipynb>data table notebook</a>'\n",
              "            + ' to learn more about interactive tables.';\n",
              "          element.innerHTML = '';\n",
              "          dataTable['output_type'] = 'display_data';\n",
              "          await google.colab.output.renderOutput(dataTable, element);\n",
              "          const docLink = document.createElement('div');\n",
              "          docLink.innerHTML = docLinkHtml;\n",
              "          element.appendChild(docLink);\n",
              "        }\n",
              "      </script>\n",
              "    </div>\n",
              "  </div>\n",
              "  "
            ]
          },
          "metadata": {},
          "execution_count": 31
        }
      ],
      "source": [
        "x_series_1 = pd.Series(x_n)\n",
        "y_series_1 = pd.Series(y_n)\n",
        "yo_series_1 = pd.Series(yo_n)\n",
        "df_1 = pd.DataFrame({'x': x_series_1, 'y': y_series_1, 'y*': yo_series_1})\n",
        "df_1.index.name = 'n'\n",
        "df_1"
      ]
    },
    {
      "cell_type": "markdown",
      "metadata": {
        "id": "BbzhwTQ88dF2"
      },
      "source": [
        "#### Para *h = 0.05*:"
      ]
    },
    {
      "cell_type": "code",
      "execution_count": 32,
      "metadata": {
        "id": "Vshc4HTN8dF2",
        "outputId": "35e66fc6-59b8-485f-f339-71a62a12e86b",
        "colab": {
          "base_uri": "https://localhost:8080/"
        }
      },
      "outputs": [
        {
          "output_type": "stream",
          "name": "stdout",
          "text": [
            "Valores de x: [0.0, 0.05, 0.1, 0.15, 0.2, 0.25, 0.3, 0.35, 0.4, 0.45, 0.5]\n"
          ]
        }
      ],
      "source": [
        "x_n = []\n",
        "for i in range(n + 1):\n",
        "    x_n.append(round(x_0 + i*h_2, 4))\n",
        "print(f'Valores de x: {x_n}')"
      ]
    },
    {
      "cell_type": "code",
      "execution_count": 33,
      "metadata": {
        "id": "UZxRUu-T8dF2",
        "outputId": "93546cfc-6a19-4d12-b410-ff8b9119d828",
        "colab": {
          "base_uri": "https://localhost:8080/",
          "height": 0
        }
      },
      "outputs": [
        {
          "output_type": "execute_result",
          "data": {
            "text/plain": [
              "0.0500"
            ],
            "text/latex": "$\\displaystyle 0.05$"
          },
          "metadata": {},
          "execution_count": 33
        }
      ],
      "source": [
        "yo_0 = round(y_0 + h_2 * f.subs({x: x_0, y: y_0}), 4)\n",
        "yo_0"
      ]
    },
    {
      "cell_type": "code",
      "execution_count": 34,
      "metadata": {
        "id": "gJB7omp_8dF2",
        "outputId": "4c0bffee-2398-4b7c-a494-774a30ef0731",
        "colab": {
          "base_uri": "https://localhost:8080/"
        }
      },
      "outputs": [
        {
          "output_type": "stream",
          "name": "stdout",
          "text": [
            "Valores de y: [0, 0.0501, 0.1004, 0.1512, 0.2028, 0.2555, 0.3095, 0.3652, 0.4230, 0.4833, 0.5466]\n",
            "Valores de y*: [0.0500, 0.1002, 0.1509, 0.2023, 0.2549, 0.3088, 0.3643, 0.4219, 0.4819, 0.5450, 0.6115]\n"
          ]
        }
      ],
      "source": [
        "y_n = [y_0]\n",
        "yo_n = [yo_0]\n",
        "for i in range(n):\n",
        "   slope_mean = (1/2) * (f.subs({x: x_n[i], y: y_n[i]}) + f.subs({x: x_n[i+1], y: yo_n[i]}))\n",
        "   y_n.append(round(y_n[i] + h_2 * slope_mean, 4))\n",
        "   yo_n1 = y_n[i+1] + h_2 * f.subs({x: x_n[i+1], y: y_n[i+1]})\n",
        "   yo_n.append(round(yo_n1, 4))\n",
        "print(f'Valores de y: {y_n}')\n",
        "print(f'Valores de y*: {yo_n}')"
      ]
    },
    {
      "cell_type": "markdown",
      "metadata": {
        "id": "Ffop0dDj8dF2"
      },
      "source": [
        "##### Conversión de las listas a un DataFrame"
      ]
    },
    {
      "cell_type": "code",
      "execution_count": 35,
      "metadata": {
        "id": "2u3QMOmD8dF2",
        "outputId": "8c78e483-9c8c-42dd-faf8-ec1295de34c1",
        "colab": {
          "base_uri": "https://localhost:8080/",
          "height": 0
        }
      },
      "outputs": [
        {
          "output_type": "execute_result",
          "data": {
            "text/plain": [
              "       x       y      y*\n",
              "n                       \n",
              "0   0.00       0  0.0500\n",
              "1   0.05  0.0501  0.1002\n",
              "2   0.10  0.1004  0.1509\n",
              "3   0.15  0.1512  0.2023\n",
              "4   0.20  0.2028  0.2549\n",
              "5   0.25  0.2555  0.3088\n",
              "6   0.30  0.3095  0.3643\n",
              "7   0.35  0.3652  0.4219\n",
              "8   0.40  0.4230  0.4819\n",
              "9   0.45  0.4833  0.5450\n",
              "10  0.50  0.5466  0.6115"
            ],
            "text/html": [
              "\n",
              "  <div id=\"df-fe5c92a9-74b8-4abd-b06e-0cec2197824c\">\n",
              "    <div class=\"colab-df-container\">\n",
              "      <div>\n",
              "<style scoped>\n",
              "    .dataframe tbody tr th:only-of-type {\n",
              "        vertical-align: middle;\n",
              "    }\n",
              "\n",
              "    .dataframe tbody tr th {\n",
              "        vertical-align: top;\n",
              "    }\n",
              "\n",
              "    .dataframe thead th {\n",
              "        text-align: right;\n",
              "    }\n",
              "</style>\n",
              "<table border=\"1\" class=\"dataframe\">\n",
              "  <thead>\n",
              "    <tr style=\"text-align: right;\">\n",
              "      <th></th>\n",
              "      <th>x</th>\n",
              "      <th>y</th>\n",
              "      <th>y*</th>\n",
              "    </tr>\n",
              "    <tr>\n",
              "      <th>n</th>\n",
              "      <th></th>\n",
              "      <th></th>\n",
              "      <th></th>\n",
              "    </tr>\n",
              "  </thead>\n",
              "  <tbody>\n",
              "    <tr>\n",
              "      <th>0</th>\n",
              "      <td>0.00</td>\n",
              "      <td>0</td>\n",
              "      <td>0.0500</td>\n",
              "    </tr>\n",
              "    <tr>\n",
              "      <th>1</th>\n",
              "      <td>0.05</td>\n",
              "      <td>0.0501</td>\n",
              "      <td>0.1002</td>\n",
              "    </tr>\n",
              "    <tr>\n",
              "      <th>2</th>\n",
              "      <td>0.10</td>\n",
              "      <td>0.1004</td>\n",
              "      <td>0.1509</td>\n",
              "    </tr>\n",
              "    <tr>\n",
              "      <th>3</th>\n",
              "      <td>0.15</td>\n",
              "      <td>0.1512</td>\n",
              "      <td>0.2023</td>\n",
              "    </tr>\n",
              "    <tr>\n",
              "      <th>4</th>\n",
              "      <td>0.20</td>\n",
              "      <td>0.2028</td>\n",
              "      <td>0.2549</td>\n",
              "    </tr>\n",
              "    <tr>\n",
              "      <th>5</th>\n",
              "      <td>0.25</td>\n",
              "      <td>0.2555</td>\n",
              "      <td>0.3088</td>\n",
              "    </tr>\n",
              "    <tr>\n",
              "      <th>6</th>\n",
              "      <td>0.30</td>\n",
              "      <td>0.3095</td>\n",
              "      <td>0.3643</td>\n",
              "    </tr>\n",
              "    <tr>\n",
              "      <th>7</th>\n",
              "      <td>0.35</td>\n",
              "      <td>0.3652</td>\n",
              "      <td>0.4219</td>\n",
              "    </tr>\n",
              "    <tr>\n",
              "      <th>8</th>\n",
              "      <td>0.40</td>\n",
              "      <td>0.4230</td>\n",
              "      <td>0.4819</td>\n",
              "    </tr>\n",
              "    <tr>\n",
              "      <th>9</th>\n",
              "      <td>0.45</td>\n",
              "      <td>0.4833</td>\n",
              "      <td>0.5450</td>\n",
              "    </tr>\n",
              "    <tr>\n",
              "      <th>10</th>\n",
              "      <td>0.50</td>\n",
              "      <td>0.5466</td>\n",
              "      <td>0.6115</td>\n",
              "    </tr>\n",
              "  </tbody>\n",
              "</table>\n",
              "</div>\n",
              "      <button class=\"colab-df-convert\" onclick=\"convertToInteractive('df-fe5c92a9-74b8-4abd-b06e-0cec2197824c')\"\n",
              "              title=\"Convert this dataframe to an interactive table.\"\n",
              "              style=\"display:none;\">\n",
              "        \n",
              "  <svg xmlns=\"http://www.w3.org/2000/svg\" height=\"24px\"viewBox=\"0 0 24 24\"\n",
              "       width=\"24px\">\n",
              "    <path d=\"M0 0h24v24H0V0z\" fill=\"none\"/>\n",
              "    <path d=\"M18.56 5.44l.94 2.06.94-2.06 2.06-.94-2.06-.94-.94-2.06-.94 2.06-2.06.94zm-11 1L8.5 8.5l.94-2.06 2.06-.94-2.06-.94L8.5 2.5l-.94 2.06-2.06.94zm10 10l.94 2.06.94-2.06 2.06-.94-2.06-.94-.94-2.06-.94 2.06-2.06.94z\"/><path d=\"M17.41 7.96l-1.37-1.37c-.4-.4-.92-.59-1.43-.59-.52 0-1.04.2-1.43.59L10.3 9.45l-7.72 7.72c-.78.78-.78 2.05 0 2.83L4 21.41c.39.39.9.59 1.41.59.51 0 1.02-.2 1.41-.59l7.78-7.78 2.81-2.81c.8-.78.8-2.07 0-2.86zM5.41 20L4 18.59l7.72-7.72 1.47 1.35L5.41 20z\"/>\n",
              "  </svg>\n",
              "      </button>\n",
              "      \n",
              "  <style>\n",
              "    .colab-df-container {\n",
              "      display:flex;\n",
              "      flex-wrap:wrap;\n",
              "      gap: 12px;\n",
              "    }\n",
              "\n",
              "    .colab-df-convert {\n",
              "      background-color: #E8F0FE;\n",
              "      border: none;\n",
              "      border-radius: 50%;\n",
              "      cursor: pointer;\n",
              "      display: none;\n",
              "      fill: #1967D2;\n",
              "      height: 32px;\n",
              "      padding: 0 0 0 0;\n",
              "      width: 32px;\n",
              "    }\n",
              "\n",
              "    .colab-df-convert:hover {\n",
              "      background-color: #E2EBFA;\n",
              "      box-shadow: 0px 1px 2px rgba(60, 64, 67, 0.3), 0px 1px 3px 1px rgba(60, 64, 67, 0.15);\n",
              "      fill: #174EA6;\n",
              "    }\n",
              "\n",
              "    [theme=dark] .colab-df-convert {\n",
              "      background-color: #3B4455;\n",
              "      fill: #D2E3FC;\n",
              "    }\n",
              "\n",
              "    [theme=dark] .colab-df-convert:hover {\n",
              "      background-color: #434B5C;\n",
              "      box-shadow: 0px 1px 3px 1px rgba(0, 0, 0, 0.15);\n",
              "      filter: drop-shadow(0px 1px 2px rgba(0, 0, 0, 0.3));\n",
              "      fill: #FFFFFF;\n",
              "    }\n",
              "  </style>\n",
              "\n",
              "      <script>\n",
              "        const buttonEl =\n",
              "          document.querySelector('#df-fe5c92a9-74b8-4abd-b06e-0cec2197824c button.colab-df-convert');\n",
              "        buttonEl.style.display =\n",
              "          google.colab.kernel.accessAllowed ? 'block' : 'none';\n",
              "\n",
              "        async function convertToInteractive(key) {\n",
              "          const element = document.querySelector('#df-fe5c92a9-74b8-4abd-b06e-0cec2197824c');\n",
              "          const dataTable =\n",
              "            await google.colab.kernel.invokeFunction('convertToInteractive',\n",
              "                                                     [key], {});\n",
              "          if (!dataTable) return;\n",
              "\n",
              "          const docLinkHtml = 'Like what you see? Visit the ' +\n",
              "            '<a target=\"_blank\" href=https://colab.research.google.com/notebooks/data_table.ipynb>data table notebook</a>'\n",
              "            + ' to learn more about interactive tables.';\n",
              "          element.innerHTML = '';\n",
              "          dataTable['output_type'] = 'display_data';\n",
              "          await google.colab.output.renderOutput(dataTable, element);\n",
              "          const docLink = document.createElement('div');\n",
              "          docLink.innerHTML = docLinkHtml;\n",
              "          element.appendChild(docLink);\n",
              "        }\n",
              "      </script>\n",
              "    </div>\n",
              "  </div>\n",
              "  "
            ]
          },
          "metadata": {},
          "execution_count": 35
        }
      ],
      "source": [
        "x_series_2 = pd.Series(x_n)\n",
        "y_series_2 = pd.Series(y_n)\n",
        "yo_series_2 = pd.Series(yo_n)\n",
        "df_2 = pd.DataFrame({'x': x_series_2, 'y': y_series_2, 'y*': yo_series_2})\n",
        "df_2.index.name = 'n'\n",
        "df_2"
      ]
    },
    {
      "cell_type": "markdown",
      "metadata": {
        "id": "w8P9rPiL8dF3"
      },
      "source": [
        "#### Resultados:"
      ]
    },
    {
      "cell_type": "code",
      "execution_count": 36,
      "metadata": {
        "id": "uK5HuSW98dF3"
      },
      "outputs": [],
      "source": [
        "res_y_010 = df_1.loc[np.where(df_1['x'] == 0.5)]['y'].values[0]\n",
        "res_y_005 = df_2.loc[np.where(df_2['x'] == 0.5)]['y'].values[0]"
      ]
    },
    {
      "cell_type": "code",
      "execution_count": 37,
      "metadata": {
        "id": "WbjHQWDh8dF3",
        "outputId": "d013f1b9-0b4b-4f15-db6b-aa3a923d32bb",
        "colab": {
          "base_uri": "https://localhost:8080/"
        }
      },
      "outputs": [
        {
          "output_type": "stream",
          "name": "stdout",
          "text": [
            "Para h = 0.1, el valor aproximado de y(0.5) = 0.5470\n",
            "Para h = 0.05, el valor aproximado de y(0.5) = 0.5466\n"
          ]
        }
      ],
      "source": [
        "print(f'Para h = {h_1}, el valor aproximado de y(0.5) = {res_y_010}')\n",
        "print(f'Para h = {h_2}, el valor aproximado de y(0.5) = {res_y_005}')"
      ]
    },
    {
      "cell_type": "markdown",
      "metadata": {
        "id": "npehNLcq8dF3"
      },
      "source": [
        "[Inicio de Página](#scrollTo=Vn5QSpZM8dFm)"
      ]
    },
    {
      "cell_type": "markdown",
      "metadata": {
        "id": "c1Xxxebc8dF3"
      },
      "source": [
        "---\n",
        "\n",
        "### Ejercicio 4:\n",
        "\n",
        "$$y' = x^2 + y^2, \\ y(0) = 1; \\ y(0.5)$$"
      ]
    },
    {
      "cell_type": "code",
      "execution_count": 38,
      "metadata": {
        "id": "xJTh0XRc8dF4",
        "outputId": "5e0250d8-22aa-4935-ae84-f58191458469",
        "colab": {
          "base_uri": "https://localhost:8080/",
          "height": 0
        }
      },
      "outputs": [
        {
          "output_type": "execute_result",
          "data": {
            "text/plain": [
              "x**2 + y**2"
            ],
            "text/latex": "$\\displaystyle x^{2} + y^{2}$"
          },
          "metadata": {},
          "execution_count": 38
        }
      ],
      "source": [
        "f, x, y = symbols('f, x, y')\n",
        "x_0, y_0, n = 0, 1, 10\n",
        "\n",
        "f = x**2 + y**2\n",
        "f"
      ]
    },
    {
      "cell_type": "markdown",
      "metadata": {
        "id": "PZJXtbtM8dF4"
      },
      "source": [
        "#### Para *h = 0.1*:"
      ]
    },
    {
      "cell_type": "code",
      "execution_count": 39,
      "metadata": {
        "id": "jWdgESia8dF4",
        "outputId": "760afca5-afdd-428d-d4bf-147d2145f1bf",
        "colab": {
          "base_uri": "https://localhost:8080/"
        }
      },
      "outputs": [
        {
          "output_type": "stream",
          "name": "stdout",
          "text": [
            "Valores de x: [0.0, 0.1, 0.2, 0.3, 0.4, 0.5, 0.6, 0.7, 0.8, 0.9, 1.0]\n"
          ]
        }
      ],
      "source": [
        "x_n = []\n",
        "for i in range(n + 1):\n",
        "    x_n.append(round(x_0 + i*h_1, 4))\n",
        "print(f'Valores de x: {x_n}')"
      ]
    },
    {
      "cell_type": "code",
      "execution_count": 40,
      "metadata": {
        "id": "JKla5OAR8dF4",
        "outputId": "507c5e61-8f2f-4199-dcba-be3bb8daa8df",
        "colab": {
          "base_uri": "https://localhost:8080/",
          "height": 0
        }
      },
      "outputs": [
        {
          "output_type": "execute_result",
          "data": {
            "text/plain": [
              "1.1000"
            ],
            "text/latex": "$\\displaystyle 1.1$"
          },
          "metadata": {},
          "execution_count": 40
        }
      ],
      "source": [
        "yo_0 = round(y_0 + h_1 * f.subs({x: x_0, y: y_0}), 4)\n",
        "yo_0"
      ]
    },
    {
      "cell_type": "code",
      "execution_count": 41,
      "metadata": {
        "id": "siQBZgL48dF4",
        "outputId": "8217d4c2-a20d-4a7f-9829-959b2f8dd3eb",
        "colab": {
          "base_uri": "https://localhost:8080/"
        }
      },
      "outputs": [
        {
          "output_type": "stream",
          "name": "stdout",
          "text": [
            "Valores de y: [1, 1.1110, 1.2515, 1.4360, 1.6879, 2.0486, 2.5998, 3.5286, 5.3706, 10.3455, 38.1100]\n",
            "Valores de y*: [1.1000, 1.2354, 1.4121, 1.6512, 1.9888, 2.4933, 3.3117, 4.8227, 8.3189, 21.1294, 183.4472]\n"
          ]
        }
      ],
      "source": [
        "y_n = [y_0]\n",
        "yo_n = [yo_0]\n",
        "for i in range(n):\n",
        "   slope_mean = (1/2) * (f.subs({x: x_n[i], y: y_n[i]}) + f.subs({x: x_n[i+1], y: yo_n[i]}))\n",
        "   y_n.append(round(y_n[i] + h_1 * slope_mean, 4))\n",
        "   yo_n1 = y_n[i+1] + h_1 * f.subs({x: x_n[i+1], y: y_n[i+1]})\n",
        "   yo_n.append(round(yo_n1, 4))\n",
        "print(f'Valores de y: {y_n}')\n",
        "print(f'Valores de y*: {yo_n}')"
      ]
    },
    {
      "cell_type": "markdown",
      "metadata": {
        "id": "EQc7kIFJ8dF5"
      },
      "source": [
        "##### Conversión de las listas a un DataFrame"
      ]
    },
    {
      "cell_type": "code",
      "execution_count": 42,
      "metadata": {
        "id": "1qXRRidn8dF5",
        "outputId": "213635a1-8b10-41b3-c676-458ac561c9ee",
        "colab": {
          "base_uri": "https://localhost:8080/",
          "height": 0
        }
      },
      "outputs": [
        {
          "output_type": "execute_result",
          "data": {
            "text/plain": [
              "      x        y        y*\n",
              "n                         \n",
              "0   0.0        1    1.1000\n",
              "1   0.1   1.1110    1.2354\n",
              "2   0.2   1.2515    1.4121\n",
              "3   0.3   1.4360    1.6512\n",
              "4   0.4   1.6879    1.9888\n",
              "5   0.5   2.0486    2.4933\n",
              "6   0.6   2.5998    3.3117\n",
              "7   0.7   3.5286    4.8227\n",
              "8   0.8   5.3706    8.3189\n",
              "9   0.9  10.3455   21.1294\n",
              "10  1.0  38.1100  183.4472"
            ],
            "text/html": [
              "\n",
              "  <div id=\"df-661ddf09-1ecc-435c-a1aa-e7182148005c\">\n",
              "    <div class=\"colab-df-container\">\n",
              "      <div>\n",
              "<style scoped>\n",
              "    .dataframe tbody tr th:only-of-type {\n",
              "        vertical-align: middle;\n",
              "    }\n",
              "\n",
              "    .dataframe tbody tr th {\n",
              "        vertical-align: top;\n",
              "    }\n",
              "\n",
              "    .dataframe thead th {\n",
              "        text-align: right;\n",
              "    }\n",
              "</style>\n",
              "<table border=\"1\" class=\"dataframe\">\n",
              "  <thead>\n",
              "    <tr style=\"text-align: right;\">\n",
              "      <th></th>\n",
              "      <th>x</th>\n",
              "      <th>y</th>\n",
              "      <th>y*</th>\n",
              "    </tr>\n",
              "    <tr>\n",
              "      <th>n</th>\n",
              "      <th></th>\n",
              "      <th></th>\n",
              "      <th></th>\n",
              "    </tr>\n",
              "  </thead>\n",
              "  <tbody>\n",
              "    <tr>\n",
              "      <th>0</th>\n",
              "      <td>0.0</td>\n",
              "      <td>1</td>\n",
              "      <td>1.1000</td>\n",
              "    </tr>\n",
              "    <tr>\n",
              "      <th>1</th>\n",
              "      <td>0.1</td>\n",
              "      <td>1.1110</td>\n",
              "      <td>1.2354</td>\n",
              "    </tr>\n",
              "    <tr>\n",
              "      <th>2</th>\n",
              "      <td>0.2</td>\n",
              "      <td>1.2515</td>\n",
              "      <td>1.4121</td>\n",
              "    </tr>\n",
              "    <tr>\n",
              "      <th>3</th>\n",
              "      <td>0.3</td>\n",
              "      <td>1.4360</td>\n",
              "      <td>1.6512</td>\n",
              "    </tr>\n",
              "    <tr>\n",
              "      <th>4</th>\n",
              "      <td>0.4</td>\n",
              "      <td>1.6879</td>\n",
              "      <td>1.9888</td>\n",
              "    </tr>\n",
              "    <tr>\n",
              "      <th>5</th>\n",
              "      <td>0.5</td>\n",
              "      <td>2.0486</td>\n",
              "      <td>2.4933</td>\n",
              "    </tr>\n",
              "    <tr>\n",
              "      <th>6</th>\n",
              "      <td>0.6</td>\n",
              "      <td>2.5998</td>\n",
              "      <td>3.3117</td>\n",
              "    </tr>\n",
              "    <tr>\n",
              "      <th>7</th>\n",
              "      <td>0.7</td>\n",
              "      <td>3.5286</td>\n",
              "      <td>4.8227</td>\n",
              "    </tr>\n",
              "    <tr>\n",
              "      <th>8</th>\n",
              "      <td>0.8</td>\n",
              "      <td>5.3706</td>\n",
              "      <td>8.3189</td>\n",
              "    </tr>\n",
              "    <tr>\n",
              "      <th>9</th>\n",
              "      <td>0.9</td>\n",
              "      <td>10.3455</td>\n",
              "      <td>21.1294</td>\n",
              "    </tr>\n",
              "    <tr>\n",
              "      <th>10</th>\n",
              "      <td>1.0</td>\n",
              "      <td>38.1100</td>\n",
              "      <td>183.4472</td>\n",
              "    </tr>\n",
              "  </tbody>\n",
              "</table>\n",
              "</div>\n",
              "      <button class=\"colab-df-convert\" onclick=\"convertToInteractive('df-661ddf09-1ecc-435c-a1aa-e7182148005c')\"\n",
              "              title=\"Convert this dataframe to an interactive table.\"\n",
              "              style=\"display:none;\">\n",
              "        \n",
              "  <svg xmlns=\"http://www.w3.org/2000/svg\" height=\"24px\"viewBox=\"0 0 24 24\"\n",
              "       width=\"24px\">\n",
              "    <path d=\"M0 0h24v24H0V0z\" fill=\"none\"/>\n",
              "    <path d=\"M18.56 5.44l.94 2.06.94-2.06 2.06-.94-2.06-.94-.94-2.06-.94 2.06-2.06.94zm-11 1L8.5 8.5l.94-2.06 2.06-.94-2.06-.94L8.5 2.5l-.94 2.06-2.06.94zm10 10l.94 2.06.94-2.06 2.06-.94-2.06-.94-.94-2.06-.94 2.06-2.06.94z\"/><path d=\"M17.41 7.96l-1.37-1.37c-.4-.4-.92-.59-1.43-.59-.52 0-1.04.2-1.43.59L10.3 9.45l-7.72 7.72c-.78.78-.78 2.05 0 2.83L4 21.41c.39.39.9.59 1.41.59.51 0 1.02-.2 1.41-.59l7.78-7.78 2.81-2.81c.8-.78.8-2.07 0-2.86zM5.41 20L4 18.59l7.72-7.72 1.47 1.35L5.41 20z\"/>\n",
              "  </svg>\n",
              "      </button>\n",
              "      \n",
              "  <style>\n",
              "    .colab-df-container {\n",
              "      display:flex;\n",
              "      flex-wrap:wrap;\n",
              "      gap: 12px;\n",
              "    }\n",
              "\n",
              "    .colab-df-convert {\n",
              "      background-color: #E8F0FE;\n",
              "      border: none;\n",
              "      border-radius: 50%;\n",
              "      cursor: pointer;\n",
              "      display: none;\n",
              "      fill: #1967D2;\n",
              "      height: 32px;\n",
              "      padding: 0 0 0 0;\n",
              "      width: 32px;\n",
              "    }\n",
              "\n",
              "    .colab-df-convert:hover {\n",
              "      background-color: #E2EBFA;\n",
              "      box-shadow: 0px 1px 2px rgba(60, 64, 67, 0.3), 0px 1px 3px 1px rgba(60, 64, 67, 0.15);\n",
              "      fill: #174EA6;\n",
              "    }\n",
              "\n",
              "    [theme=dark] .colab-df-convert {\n",
              "      background-color: #3B4455;\n",
              "      fill: #D2E3FC;\n",
              "    }\n",
              "\n",
              "    [theme=dark] .colab-df-convert:hover {\n",
              "      background-color: #434B5C;\n",
              "      box-shadow: 0px 1px 3px 1px rgba(0, 0, 0, 0.15);\n",
              "      filter: drop-shadow(0px 1px 2px rgba(0, 0, 0, 0.3));\n",
              "      fill: #FFFFFF;\n",
              "    }\n",
              "  </style>\n",
              "\n",
              "      <script>\n",
              "        const buttonEl =\n",
              "          document.querySelector('#df-661ddf09-1ecc-435c-a1aa-e7182148005c button.colab-df-convert');\n",
              "        buttonEl.style.display =\n",
              "          google.colab.kernel.accessAllowed ? 'block' : 'none';\n",
              "\n",
              "        async function convertToInteractive(key) {\n",
              "          const element = document.querySelector('#df-661ddf09-1ecc-435c-a1aa-e7182148005c');\n",
              "          const dataTable =\n",
              "            await google.colab.kernel.invokeFunction('convertToInteractive',\n",
              "                                                     [key], {});\n",
              "          if (!dataTable) return;\n",
              "\n",
              "          const docLinkHtml = 'Like what you see? Visit the ' +\n",
              "            '<a target=\"_blank\" href=https://colab.research.google.com/notebooks/data_table.ipynb>data table notebook</a>'\n",
              "            + ' to learn more about interactive tables.';\n",
              "          element.innerHTML = '';\n",
              "          dataTable['output_type'] = 'display_data';\n",
              "          await google.colab.output.renderOutput(dataTable, element);\n",
              "          const docLink = document.createElement('div');\n",
              "          docLink.innerHTML = docLinkHtml;\n",
              "          element.appendChild(docLink);\n",
              "        }\n",
              "      </script>\n",
              "    </div>\n",
              "  </div>\n",
              "  "
            ]
          },
          "metadata": {},
          "execution_count": 42
        }
      ],
      "source": [
        "x_series_1 = pd.Series(x_n)\n",
        "y_series_1 = pd.Series(y_n)\n",
        "yo_series_1 = pd.Series(yo_n)\n",
        "df_1 = pd.DataFrame({'x': x_series_1, 'y': y_series_1, 'y*': yo_series_1})\n",
        "df_1.index.name = 'n'\n",
        "df_1"
      ]
    },
    {
      "cell_type": "markdown",
      "metadata": {
        "id": "zo2QQnON8dF5"
      },
      "source": [
        "#### Para *h = 0.05*:"
      ]
    },
    {
      "cell_type": "code",
      "execution_count": 43,
      "metadata": {
        "id": "Nc-96ENS8dF5",
        "outputId": "8cb1512c-a60e-4830-e39e-866d1d34f41d",
        "colab": {
          "base_uri": "https://localhost:8080/"
        }
      },
      "outputs": [
        {
          "output_type": "stream",
          "name": "stdout",
          "text": [
            "Valores de x: [0.0, 0.05, 0.1, 0.15, 0.2, 0.25, 0.3, 0.35, 0.4, 0.45, 0.5]\n"
          ]
        }
      ],
      "source": [
        "x_n = []\n",
        "for i in range(n + 1):\n",
        "    x_n.append(round(x_0 + i*h_2, 4))\n",
        "print(f'Valores de x: {x_n}')"
      ]
    },
    {
      "cell_type": "code",
      "execution_count": 44,
      "metadata": {
        "id": "awSBQgHm8dF5",
        "outputId": "47d9dd07-827b-4a12-b236-42667a0f9411",
        "colab": {
          "base_uri": "https://localhost:8080/",
          "height": 0
        }
      },
      "outputs": [
        {
          "output_type": "execute_result",
          "data": {
            "text/plain": [
              "1.0500"
            ],
            "text/latex": "$\\displaystyle 1.05$"
          },
          "metadata": {},
          "execution_count": 44
        }
      ],
      "source": [
        "yo_0 = round(y_0 + h_2 * f.subs({x: x_0, y: y_0}), 4)\n",
        "yo_0"
      ]
    },
    {
      "cell_type": "code",
      "execution_count": 45,
      "metadata": {
        "id": "fFuwEbuS8dF6",
        "outputId": "286e24d0-c0a5-43fd-b8f6-611a1cee3797",
        "colab": {
          "base_uri": "https://localhost:8080/"
        }
      },
      "outputs": [
        {
          "output_type": "stream",
          "name": "stdout",
          "text": [
            "Valores de y: [1, 1.0526, 1.1113, 1.1774, 1.2525, 1.3387, 1.4385, 1.5553, 1.6936, 1.8595, 2.0616]\n",
            "Valores de y*: [1.0500, 1.1081, 1.1735, 1.2478, 1.3329, 1.4314, 1.5465, 1.6824, 1.8450, 2.0425, 2.2866]\n"
          ]
        }
      ],
      "source": [
        "y_n = [y_0]\n",
        "yo_n = [yo_0]\n",
        "for i in range(n):\n",
        "   slope_mean = (1/2) * (f.subs({x: x_n[i], y: y_n[i]}) + f.subs({x: x_n[i+1], y: yo_n[i]}))\n",
        "   y_n.append(round(y_n[i] + h_2 * slope_mean, 4))\n",
        "   yo_n1 = y_n[i+1] + h_2 * f.subs({x: x_n[i+1], y: y_n[i+1]})\n",
        "   yo_n.append(round(yo_n1, 4))\n",
        "print(f'Valores de y: {y_n}')\n",
        "print(f'Valores de y*: {yo_n}')"
      ]
    },
    {
      "cell_type": "markdown",
      "metadata": {
        "id": "m1HJLbvl8dF6"
      },
      "source": [
        "##### Conversión de las listas a un DataFrame"
      ]
    },
    {
      "cell_type": "code",
      "execution_count": 46,
      "metadata": {
        "id": "ADpWwFHk8dF6",
        "outputId": "5082bf59-6519-489a-f96f-1a2e79be7a5e",
        "colab": {
          "base_uri": "https://localhost:8080/",
          "height": 0
        }
      },
      "outputs": [
        {
          "output_type": "execute_result",
          "data": {
            "text/plain": [
              "       x       y      y*\n",
              "n                       \n",
              "0   0.00       1  1.0500\n",
              "1   0.05  1.0526  1.1081\n",
              "2   0.10  1.1113  1.1735\n",
              "3   0.15  1.1774  1.2478\n",
              "4   0.20  1.2525  1.3329\n",
              "5   0.25  1.3387  1.4314\n",
              "6   0.30  1.4385  1.5465\n",
              "7   0.35  1.5553  1.6824\n",
              "8   0.40  1.6936  1.8450\n",
              "9   0.45  1.8595  2.0425\n",
              "10  0.50  2.0616  2.2866"
            ],
            "text/html": [
              "\n",
              "  <div id=\"df-bffd02ef-c7fc-43db-bcb5-ebd86c2e0280\">\n",
              "    <div class=\"colab-df-container\">\n",
              "      <div>\n",
              "<style scoped>\n",
              "    .dataframe tbody tr th:only-of-type {\n",
              "        vertical-align: middle;\n",
              "    }\n",
              "\n",
              "    .dataframe tbody tr th {\n",
              "        vertical-align: top;\n",
              "    }\n",
              "\n",
              "    .dataframe thead th {\n",
              "        text-align: right;\n",
              "    }\n",
              "</style>\n",
              "<table border=\"1\" class=\"dataframe\">\n",
              "  <thead>\n",
              "    <tr style=\"text-align: right;\">\n",
              "      <th></th>\n",
              "      <th>x</th>\n",
              "      <th>y</th>\n",
              "      <th>y*</th>\n",
              "    </tr>\n",
              "    <tr>\n",
              "      <th>n</th>\n",
              "      <th></th>\n",
              "      <th></th>\n",
              "      <th></th>\n",
              "    </tr>\n",
              "  </thead>\n",
              "  <tbody>\n",
              "    <tr>\n",
              "      <th>0</th>\n",
              "      <td>0.00</td>\n",
              "      <td>1</td>\n",
              "      <td>1.0500</td>\n",
              "    </tr>\n",
              "    <tr>\n",
              "      <th>1</th>\n",
              "      <td>0.05</td>\n",
              "      <td>1.0526</td>\n",
              "      <td>1.1081</td>\n",
              "    </tr>\n",
              "    <tr>\n",
              "      <th>2</th>\n",
              "      <td>0.10</td>\n",
              "      <td>1.1113</td>\n",
              "      <td>1.1735</td>\n",
              "    </tr>\n",
              "    <tr>\n",
              "      <th>3</th>\n",
              "      <td>0.15</td>\n",
              "      <td>1.1774</td>\n",
              "      <td>1.2478</td>\n",
              "    </tr>\n",
              "    <tr>\n",
              "      <th>4</th>\n",
              "      <td>0.20</td>\n",
              "      <td>1.2525</td>\n",
              "      <td>1.3329</td>\n",
              "    </tr>\n",
              "    <tr>\n",
              "      <th>5</th>\n",
              "      <td>0.25</td>\n",
              "      <td>1.3387</td>\n",
              "      <td>1.4314</td>\n",
              "    </tr>\n",
              "    <tr>\n",
              "      <th>6</th>\n",
              "      <td>0.30</td>\n",
              "      <td>1.4385</td>\n",
              "      <td>1.5465</td>\n",
              "    </tr>\n",
              "    <tr>\n",
              "      <th>7</th>\n",
              "      <td>0.35</td>\n",
              "      <td>1.5553</td>\n",
              "      <td>1.6824</td>\n",
              "    </tr>\n",
              "    <tr>\n",
              "      <th>8</th>\n",
              "      <td>0.40</td>\n",
              "      <td>1.6936</td>\n",
              "      <td>1.8450</td>\n",
              "    </tr>\n",
              "    <tr>\n",
              "      <th>9</th>\n",
              "      <td>0.45</td>\n",
              "      <td>1.8595</td>\n",
              "      <td>2.0425</td>\n",
              "    </tr>\n",
              "    <tr>\n",
              "      <th>10</th>\n",
              "      <td>0.50</td>\n",
              "      <td>2.0616</td>\n",
              "      <td>2.2866</td>\n",
              "    </tr>\n",
              "  </tbody>\n",
              "</table>\n",
              "</div>\n",
              "      <button class=\"colab-df-convert\" onclick=\"convertToInteractive('df-bffd02ef-c7fc-43db-bcb5-ebd86c2e0280')\"\n",
              "              title=\"Convert this dataframe to an interactive table.\"\n",
              "              style=\"display:none;\">\n",
              "        \n",
              "  <svg xmlns=\"http://www.w3.org/2000/svg\" height=\"24px\"viewBox=\"0 0 24 24\"\n",
              "       width=\"24px\">\n",
              "    <path d=\"M0 0h24v24H0V0z\" fill=\"none\"/>\n",
              "    <path d=\"M18.56 5.44l.94 2.06.94-2.06 2.06-.94-2.06-.94-.94-2.06-.94 2.06-2.06.94zm-11 1L8.5 8.5l.94-2.06 2.06-.94-2.06-.94L8.5 2.5l-.94 2.06-2.06.94zm10 10l.94 2.06.94-2.06 2.06-.94-2.06-.94-.94-2.06-.94 2.06-2.06.94z\"/><path d=\"M17.41 7.96l-1.37-1.37c-.4-.4-.92-.59-1.43-.59-.52 0-1.04.2-1.43.59L10.3 9.45l-7.72 7.72c-.78.78-.78 2.05 0 2.83L4 21.41c.39.39.9.59 1.41.59.51 0 1.02-.2 1.41-.59l7.78-7.78 2.81-2.81c.8-.78.8-2.07 0-2.86zM5.41 20L4 18.59l7.72-7.72 1.47 1.35L5.41 20z\"/>\n",
              "  </svg>\n",
              "      </button>\n",
              "      \n",
              "  <style>\n",
              "    .colab-df-container {\n",
              "      display:flex;\n",
              "      flex-wrap:wrap;\n",
              "      gap: 12px;\n",
              "    }\n",
              "\n",
              "    .colab-df-convert {\n",
              "      background-color: #E8F0FE;\n",
              "      border: none;\n",
              "      border-radius: 50%;\n",
              "      cursor: pointer;\n",
              "      display: none;\n",
              "      fill: #1967D2;\n",
              "      height: 32px;\n",
              "      padding: 0 0 0 0;\n",
              "      width: 32px;\n",
              "    }\n",
              "\n",
              "    .colab-df-convert:hover {\n",
              "      background-color: #E2EBFA;\n",
              "      box-shadow: 0px 1px 2px rgba(60, 64, 67, 0.3), 0px 1px 3px 1px rgba(60, 64, 67, 0.15);\n",
              "      fill: #174EA6;\n",
              "    }\n",
              "\n",
              "    [theme=dark] .colab-df-convert {\n",
              "      background-color: #3B4455;\n",
              "      fill: #D2E3FC;\n",
              "    }\n",
              "\n",
              "    [theme=dark] .colab-df-convert:hover {\n",
              "      background-color: #434B5C;\n",
              "      box-shadow: 0px 1px 3px 1px rgba(0, 0, 0, 0.15);\n",
              "      filter: drop-shadow(0px 1px 2px rgba(0, 0, 0, 0.3));\n",
              "      fill: #FFFFFF;\n",
              "    }\n",
              "  </style>\n",
              "\n",
              "      <script>\n",
              "        const buttonEl =\n",
              "          document.querySelector('#df-bffd02ef-c7fc-43db-bcb5-ebd86c2e0280 button.colab-df-convert');\n",
              "        buttonEl.style.display =\n",
              "          google.colab.kernel.accessAllowed ? 'block' : 'none';\n",
              "\n",
              "        async function convertToInteractive(key) {\n",
              "          const element = document.querySelector('#df-bffd02ef-c7fc-43db-bcb5-ebd86c2e0280');\n",
              "          const dataTable =\n",
              "            await google.colab.kernel.invokeFunction('convertToInteractive',\n",
              "                                                     [key], {});\n",
              "          if (!dataTable) return;\n",
              "\n",
              "          const docLinkHtml = 'Like what you see? Visit the ' +\n",
              "            '<a target=\"_blank\" href=https://colab.research.google.com/notebooks/data_table.ipynb>data table notebook</a>'\n",
              "            + ' to learn more about interactive tables.';\n",
              "          element.innerHTML = '';\n",
              "          dataTable['output_type'] = 'display_data';\n",
              "          await google.colab.output.renderOutput(dataTable, element);\n",
              "          const docLink = document.createElement('div');\n",
              "          docLink.innerHTML = docLinkHtml;\n",
              "          element.appendChild(docLink);\n",
              "        }\n",
              "      </script>\n",
              "    </div>\n",
              "  </div>\n",
              "  "
            ]
          },
          "metadata": {},
          "execution_count": 46
        }
      ],
      "source": [
        "x_series_2 = pd.Series(x_n)\n",
        "y_series_2 = pd.Series(y_n)\n",
        "yo_series_2 = pd.Series(yo_n)\n",
        "df_2 = pd.DataFrame({'x': x_series_2, 'y': y_series_2, 'y*': yo_series_2})\n",
        "df_2.index.name = 'n'\n",
        "df_2"
      ]
    },
    {
      "cell_type": "markdown",
      "metadata": {
        "id": "pCs5ZkfZ8dF6"
      },
      "source": [
        "#### Resultados:"
      ]
    },
    {
      "cell_type": "code",
      "execution_count": 47,
      "metadata": {
        "id": "OfY-gJT98dF6"
      },
      "outputs": [],
      "source": [
        "res_y_010 = df_1.loc[np.where(df_1['x'] == 0.5)]['y'].values[0]\n",
        "res_y_005 = df_2.loc[np.where(df_2['x'] == 0.5)]['y'].values[0]"
      ]
    },
    {
      "cell_type": "code",
      "execution_count": 48,
      "metadata": {
        "id": "jVOmBM3T8dF6",
        "outputId": "badeaf83-c69f-4bb5-b2a2-ae313c1eec58",
        "colab": {
          "base_uri": "https://localhost:8080/"
        }
      },
      "outputs": [
        {
          "output_type": "stream",
          "name": "stdout",
          "text": [
            "Para h = 0.1, el valor aproximado de y(0.5) = 2.0486\n",
            "Para h = 0.05, el valor aproximado de y(0.5) = 2.0616\n"
          ]
        }
      ],
      "source": [
        "print(f'Para h = {h_1}, el valor aproximado de y(0.5) = {res_y_010}')\n",
        "print(f'Para h = {h_2}, el valor aproximado de y(0.5) = {res_y_005}')"
      ]
    },
    {
      "cell_type": "markdown",
      "metadata": {
        "id": "3QMv9yS28dF7"
      },
      "source": [
        "[Inicio de Página](#scrollTo=Vn5QSpZM8dFm)"
      ]
    },
    {
      "cell_type": "markdown",
      "metadata": {
        "id": "V0D9vV2Q8dF7"
      },
      "source": [
        "---\n",
        "\n",
        "### Ejercicio 5:\n",
        "\n",
        "$$y' = e^{-y}, \\ y(0) = 0; \\ y(0.5)$$"
      ]
    },
    {
      "cell_type": "code",
      "execution_count": 49,
      "metadata": {
        "id": "gd1fgbJ08dF7",
        "outputId": "f5b844fc-d504-4467-a744-5b64039a9b27",
        "colab": {
          "base_uri": "https://localhost:8080/",
          "height": 0
        }
      },
      "outputs": [
        {
          "output_type": "execute_result",
          "data": {
            "text/plain": [
              "exp(-y)"
            ],
            "text/latex": "$\\displaystyle e^{- y}$"
          },
          "metadata": {},
          "execution_count": 49
        }
      ],
      "source": [
        "f, x, y = symbols('f, x, y')\n",
        "x_0, y_0, n = 0, 0, 10\n",
        "\n",
        "f = exp(-y)\n",
        "f"
      ]
    },
    {
      "cell_type": "markdown",
      "metadata": {
        "id": "STU0xorx8dF7"
      },
      "source": [
        "#### Para *h = 0.1*:"
      ]
    },
    {
      "cell_type": "code",
      "execution_count": 50,
      "metadata": {
        "id": "P_BjkTIL8dF7",
        "outputId": "ca6ca82f-4fcc-407b-eb07-a889f7bf64f1",
        "colab": {
          "base_uri": "https://localhost:8080/"
        }
      },
      "outputs": [
        {
          "output_type": "stream",
          "name": "stdout",
          "text": [
            "Valores de x: [0.0, 0.1, 0.2, 0.3, 0.4, 0.5, 0.6, 0.7, 0.8, 0.9, 1.0]\n"
          ]
        }
      ],
      "source": [
        "x_n = []\n",
        "for i in range(n + 1):\n",
        "    x_n.append(round(x_0 + i*h_1, 4))\n",
        "print(f'Valores de x: {x_n}')"
      ]
    },
    {
      "cell_type": "code",
      "execution_count": 51,
      "metadata": {
        "id": "Jnu8sgHT8dF8",
        "outputId": "43e80400-4699-44e7-ee80-a3e630cec0f3",
        "colab": {
          "base_uri": "https://localhost:8080/",
          "height": 0
        }
      },
      "outputs": [
        {
          "output_type": "execute_result",
          "data": {
            "text/plain": [
              "0.1000"
            ],
            "text/latex": "$\\displaystyle 0.1$"
          },
          "metadata": {},
          "execution_count": 51
        }
      ],
      "source": [
        "yo_0 = round(y_0 + h_1 * f.subs({x: x_0, y: y_0}), 4)\n",
        "yo_0"
      ]
    },
    {
      "cell_type": "code",
      "execution_count": 52,
      "metadata": {
        "id": "5U3umMY28dF8",
        "outputId": "6538eb6f-1f94-4b15-8548-21c11b775f8d",
        "colab": {
          "base_uri": "https://localhost:8080/"
        }
      },
      "outputs": [
        {
          "output_type": "stream",
          "name": "stdout",
          "text": [
            "Valores de y: [0, 0.0952, 0.1822, 0.2622, 0.3363, 0.4053, 0.4698, 0.5304, 0.5876, 0.6417, 0.6930]\n",
            "Valores de y*: [0.1000, 0.1861, 0.2655, 0.3391, 0.4077, 0.4720, 0.5323, 0.5892, 0.6432, 0.6943, 0.7430]\n"
          ]
        }
      ],
      "source": [
        "y_n = [y_0]\n",
        "yo_n = [yo_0]\n",
        "for i in range(n):\n",
        "   slope_mean = (1/2) * (f.subs({x: x_n[i], y: y_n[i]}) + f.subs({x: x_n[i+1], y: yo_n[i]}))\n",
        "   y_n.append(round(y_n[i] + h_1 * slope_mean, 4))\n",
        "   yo_n1 = y_n[i+1] + h_1 * f.subs({x: x_n[i+1], y: y_n[i+1]})\n",
        "   yo_n.append(round(yo_n1, 4))\n",
        "print(f'Valores de y: {y_n}')\n",
        "print(f'Valores de y*: {yo_n}')"
      ]
    },
    {
      "cell_type": "markdown",
      "metadata": {
        "id": "bqkdNvJ78dF8"
      },
      "source": [
        "##### Conversión de las listas a un DataFrame"
      ]
    },
    {
      "cell_type": "code",
      "execution_count": 53,
      "metadata": {
        "id": "UVo06vX68dF8",
        "outputId": "4b094354-6f11-4d14-e68d-76d60112f173",
        "colab": {
          "base_uri": "https://localhost:8080/",
          "height": 0
        }
      },
      "outputs": [
        {
          "output_type": "execute_result",
          "data": {
            "text/plain": [
              "      x       y      y*\n",
              "n                      \n",
              "0   0.0       0  0.1000\n",
              "1   0.1  0.0952  0.1861\n",
              "2   0.2  0.1822  0.2655\n",
              "3   0.3  0.2622  0.3391\n",
              "4   0.4  0.3363  0.4077\n",
              "5   0.5  0.4053  0.4720\n",
              "6   0.6  0.4698  0.5323\n",
              "7   0.7  0.5304  0.5892\n",
              "8   0.8  0.5876  0.6432\n",
              "9   0.9  0.6417  0.6943\n",
              "10  1.0  0.6930  0.7430"
            ],
            "text/html": [
              "\n",
              "  <div id=\"df-cd1a2208-1425-4e23-ae69-acd3348fc82a\">\n",
              "    <div class=\"colab-df-container\">\n",
              "      <div>\n",
              "<style scoped>\n",
              "    .dataframe tbody tr th:only-of-type {\n",
              "        vertical-align: middle;\n",
              "    }\n",
              "\n",
              "    .dataframe tbody tr th {\n",
              "        vertical-align: top;\n",
              "    }\n",
              "\n",
              "    .dataframe thead th {\n",
              "        text-align: right;\n",
              "    }\n",
              "</style>\n",
              "<table border=\"1\" class=\"dataframe\">\n",
              "  <thead>\n",
              "    <tr style=\"text-align: right;\">\n",
              "      <th></th>\n",
              "      <th>x</th>\n",
              "      <th>y</th>\n",
              "      <th>y*</th>\n",
              "    </tr>\n",
              "    <tr>\n",
              "      <th>n</th>\n",
              "      <th></th>\n",
              "      <th></th>\n",
              "      <th></th>\n",
              "    </tr>\n",
              "  </thead>\n",
              "  <tbody>\n",
              "    <tr>\n",
              "      <th>0</th>\n",
              "      <td>0.0</td>\n",
              "      <td>0</td>\n",
              "      <td>0.1000</td>\n",
              "    </tr>\n",
              "    <tr>\n",
              "      <th>1</th>\n",
              "      <td>0.1</td>\n",
              "      <td>0.0952</td>\n",
              "      <td>0.1861</td>\n",
              "    </tr>\n",
              "    <tr>\n",
              "      <th>2</th>\n",
              "      <td>0.2</td>\n",
              "      <td>0.1822</td>\n",
              "      <td>0.2655</td>\n",
              "    </tr>\n",
              "    <tr>\n",
              "      <th>3</th>\n",
              "      <td>0.3</td>\n",
              "      <td>0.2622</td>\n",
              "      <td>0.3391</td>\n",
              "    </tr>\n",
              "    <tr>\n",
              "      <th>4</th>\n",
              "      <td>0.4</td>\n",
              "      <td>0.3363</td>\n",
              "      <td>0.4077</td>\n",
              "    </tr>\n",
              "    <tr>\n",
              "      <th>5</th>\n",
              "      <td>0.5</td>\n",
              "      <td>0.4053</td>\n",
              "      <td>0.4720</td>\n",
              "    </tr>\n",
              "    <tr>\n",
              "      <th>6</th>\n",
              "      <td>0.6</td>\n",
              "      <td>0.4698</td>\n",
              "      <td>0.5323</td>\n",
              "    </tr>\n",
              "    <tr>\n",
              "      <th>7</th>\n",
              "      <td>0.7</td>\n",
              "      <td>0.5304</td>\n",
              "      <td>0.5892</td>\n",
              "    </tr>\n",
              "    <tr>\n",
              "      <th>8</th>\n",
              "      <td>0.8</td>\n",
              "      <td>0.5876</td>\n",
              "      <td>0.6432</td>\n",
              "    </tr>\n",
              "    <tr>\n",
              "      <th>9</th>\n",
              "      <td>0.9</td>\n",
              "      <td>0.6417</td>\n",
              "      <td>0.6943</td>\n",
              "    </tr>\n",
              "    <tr>\n",
              "      <th>10</th>\n",
              "      <td>1.0</td>\n",
              "      <td>0.6930</td>\n",
              "      <td>0.7430</td>\n",
              "    </tr>\n",
              "  </tbody>\n",
              "</table>\n",
              "</div>\n",
              "      <button class=\"colab-df-convert\" onclick=\"convertToInteractive('df-cd1a2208-1425-4e23-ae69-acd3348fc82a')\"\n",
              "              title=\"Convert this dataframe to an interactive table.\"\n",
              "              style=\"display:none;\">\n",
              "        \n",
              "  <svg xmlns=\"http://www.w3.org/2000/svg\" height=\"24px\"viewBox=\"0 0 24 24\"\n",
              "       width=\"24px\">\n",
              "    <path d=\"M0 0h24v24H0V0z\" fill=\"none\"/>\n",
              "    <path d=\"M18.56 5.44l.94 2.06.94-2.06 2.06-.94-2.06-.94-.94-2.06-.94 2.06-2.06.94zm-11 1L8.5 8.5l.94-2.06 2.06-.94-2.06-.94L8.5 2.5l-.94 2.06-2.06.94zm10 10l.94 2.06.94-2.06 2.06-.94-2.06-.94-.94-2.06-.94 2.06-2.06.94z\"/><path d=\"M17.41 7.96l-1.37-1.37c-.4-.4-.92-.59-1.43-.59-.52 0-1.04.2-1.43.59L10.3 9.45l-7.72 7.72c-.78.78-.78 2.05 0 2.83L4 21.41c.39.39.9.59 1.41.59.51 0 1.02-.2 1.41-.59l7.78-7.78 2.81-2.81c.8-.78.8-2.07 0-2.86zM5.41 20L4 18.59l7.72-7.72 1.47 1.35L5.41 20z\"/>\n",
              "  </svg>\n",
              "      </button>\n",
              "      \n",
              "  <style>\n",
              "    .colab-df-container {\n",
              "      display:flex;\n",
              "      flex-wrap:wrap;\n",
              "      gap: 12px;\n",
              "    }\n",
              "\n",
              "    .colab-df-convert {\n",
              "      background-color: #E8F0FE;\n",
              "      border: none;\n",
              "      border-radius: 50%;\n",
              "      cursor: pointer;\n",
              "      display: none;\n",
              "      fill: #1967D2;\n",
              "      height: 32px;\n",
              "      padding: 0 0 0 0;\n",
              "      width: 32px;\n",
              "    }\n",
              "\n",
              "    .colab-df-convert:hover {\n",
              "      background-color: #E2EBFA;\n",
              "      box-shadow: 0px 1px 2px rgba(60, 64, 67, 0.3), 0px 1px 3px 1px rgba(60, 64, 67, 0.15);\n",
              "      fill: #174EA6;\n",
              "    }\n",
              "\n",
              "    [theme=dark] .colab-df-convert {\n",
              "      background-color: #3B4455;\n",
              "      fill: #D2E3FC;\n",
              "    }\n",
              "\n",
              "    [theme=dark] .colab-df-convert:hover {\n",
              "      background-color: #434B5C;\n",
              "      box-shadow: 0px 1px 3px 1px rgba(0, 0, 0, 0.15);\n",
              "      filter: drop-shadow(0px 1px 2px rgba(0, 0, 0, 0.3));\n",
              "      fill: #FFFFFF;\n",
              "    }\n",
              "  </style>\n",
              "\n",
              "      <script>\n",
              "        const buttonEl =\n",
              "          document.querySelector('#df-cd1a2208-1425-4e23-ae69-acd3348fc82a button.colab-df-convert');\n",
              "        buttonEl.style.display =\n",
              "          google.colab.kernel.accessAllowed ? 'block' : 'none';\n",
              "\n",
              "        async function convertToInteractive(key) {\n",
              "          const element = document.querySelector('#df-cd1a2208-1425-4e23-ae69-acd3348fc82a');\n",
              "          const dataTable =\n",
              "            await google.colab.kernel.invokeFunction('convertToInteractive',\n",
              "                                                     [key], {});\n",
              "          if (!dataTable) return;\n",
              "\n",
              "          const docLinkHtml = 'Like what you see? Visit the ' +\n",
              "            '<a target=\"_blank\" href=https://colab.research.google.com/notebooks/data_table.ipynb>data table notebook</a>'\n",
              "            + ' to learn more about interactive tables.';\n",
              "          element.innerHTML = '';\n",
              "          dataTable['output_type'] = 'display_data';\n",
              "          await google.colab.output.renderOutput(dataTable, element);\n",
              "          const docLink = document.createElement('div');\n",
              "          docLink.innerHTML = docLinkHtml;\n",
              "          element.appendChild(docLink);\n",
              "        }\n",
              "      </script>\n",
              "    </div>\n",
              "  </div>\n",
              "  "
            ]
          },
          "metadata": {},
          "execution_count": 53
        }
      ],
      "source": [
        "x_series_1 = pd.Series(x_n)\n",
        "y_series_1 = pd.Series(y_n)\n",
        "yo_series_1 = pd.Series(yo_n)\n",
        "df_1 = pd.DataFrame({'x': x_series_1, 'y': y_series_1, 'y*': yo_series_1})\n",
        "df_1.index.name = 'n'\n",
        "df_1"
      ]
    },
    {
      "cell_type": "markdown",
      "metadata": {
        "id": "ffZNGi-g8dF8"
      },
      "source": [
        "#### Para *h = 0.05*:"
      ]
    },
    {
      "cell_type": "code",
      "execution_count": 54,
      "metadata": {
        "id": "jXYZcQpZ8dF8",
        "outputId": "116a2b5d-15ab-4d2e-c949-7562e2ecf927",
        "colab": {
          "base_uri": "https://localhost:8080/"
        }
      },
      "outputs": [
        {
          "output_type": "stream",
          "name": "stdout",
          "text": [
            "Valores de x: [0.0, 0.05, 0.1, 0.15, 0.2, 0.25, 0.3, 0.35, 0.4, 0.45, 0.5]\n"
          ]
        }
      ],
      "source": [
        "x_n = []\n",
        "for i in range(n + 1):\n",
        "    x_n.append(round(x_0 + i*h_2, 4))\n",
        "print(f'Valores de x: {x_n}')"
      ]
    },
    {
      "cell_type": "code",
      "execution_count": 55,
      "metadata": {
        "id": "8quYw5z98dF9",
        "outputId": "68eff26c-7586-478d-ef15-8f0f5d3861c9",
        "colab": {
          "base_uri": "https://localhost:8080/",
          "height": 0
        }
      },
      "outputs": [
        {
          "output_type": "execute_result",
          "data": {
            "text/plain": [
              "0.0500"
            ],
            "text/latex": "$\\displaystyle 0.05$"
          },
          "metadata": {},
          "execution_count": 55
        }
      ],
      "source": [
        "yo_0 = round(y_0 + h_2 * f.subs({x: x_0, y: y_0}), 4)\n",
        "yo_0"
      ]
    },
    {
      "cell_type": "code",
      "execution_count": 56,
      "metadata": {
        "id": "x00G3FHQ8dF9",
        "outputId": "154cfb71-59a9-4441-c7a0-e5ee5fbb3f80",
        "colab": {
          "base_uri": "https://localhost:8080/"
        }
      },
      "outputs": [
        {
          "output_type": "stream",
          "name": "stdout",
          "text": [
            "Valores de y: [0, 0.0488, 0.0953, 0.1397, 0.1823, 0.2231, 0.2623, 0.3000, 0.3364, 0.3715, 0.4054]\n",
            "Valores de y*: [0.0500, 0.0964, 0.1408, 0.1832, 0.2240, 0.2631, 0.3008, 0.3370, 0.3721, 0.4060, 0.4387]\n"
          ]
        }
      ],
      "source": [
        "y_n = [y_0]\n",
        "yo_n = [yo_0]\n",
        "for i in range(n):\n",
        "   slope_mean = (1/2) * (f.subs({x: x_n[i], y: y_n[i]}) + f.subs({x: x_n[i+1], y: yo_n[i]}))\n",
        "   y_n.append(round(y_n[i] + h_2 * slope_mean, 4))\n",
        "   yo_n1 = y_n[i+1] + h_2 * f.subs({x: x_n[i+1], y: y_n[i+1]})\n",
        "   yo_n.append(round(yo_n1, 4))\n",
        "print(f'Valores de y: {y_n}')\n",
        "print(f'Valores de y*: {yo_n}')"
      ]
    },
    {
      "cell_type": "markdown",
      "metadata": {
        "id": "BCkQqzAt8dF9"
      },
      "source": [
        "##### Conversión de las listas a un DataFrame"
      ]
    },
    {
      "cell_type": "code",
      "execution_count": 57,
      "metadata": {
        "id": "evRWv9n88dF9",
        "outputId": "51023c41-62cb-405c-851a-a86ea15e943e",
        "colab": {
          "base_uri": "https://localhost:8080/",
          "height": 0
        }
      },
      "outputs": [
        {
          "output_type": "execute_result",
          "data": {
            "text/plain": [
              "       x       y      y*\n",
              "n                       \n",
              "0   0.00       0  0.0500\n",
              "1   0.05  0.0488  0.0964\n",
              "2   0.10  0.0953  0.1408\n",
              "3   0.15  0.1397  0.1832\n",
              "4   0.20  0.1823  0.2240\n",
              "5   0.25  0.2231  0.2631\n",
              "6   0.30  0.2623  0.3008\n",
              "7   0.35  0.3000  0.3370\n",
              "8   0.40  0.3364  0.3721\n",
              "9   0.45  0.3715  0.4060\n",
              "10  0.50  0.4054  0.4387"
            ],
            "text/html": [
              "\n",
              "  <div id=\"df-f72072ae-cfe7-4d25-8da2-4e95f5c52fa8\">\n",
              "    <div class=\"colab-df-container\">\n",
              "      <div>\n",
              "<style scoped>\n",
              "    .dataframe tbody tr th:only-of-type {\n",
              "        vertical-align: middle;\n",
              "    }\n",
              "\n",
              "    .dataframe tbody tr th {\n",
              "        vertical-align: top;\n",
              "    }\n",
              "\n",
              "    .dataframe thead th {\n",
              "        text-align: right;\n",
              "    }\n",
              "</style>\n",
              "<table border=\"1\" class=\"dataframe\">\n",
              "  <thead>\n",
              "    <tr style=\"text-align: right;\">\n",
              "      <th></th>\n",
              "      <th>x</th>\n",
              "      <th>y</th>\n",
              "      <th>y*</th>\n",
              "    </tr>\n",
              "    <tr>\n",
              "      <th>n</th>\n",
              "      <th></th>\n",
              "      <th></th>\n",
              "      <th></th>\n",
              "    </tr>\n",
              "  </thead>\n",
              "  <tbody>\n",
              "    <tr>\n",
              "      <th>0</th>\n",
              "      <td>0.00</td>\n",
              "      <td>0</td>\n",
              "      <td>0.0500</td>\n",
              "    </tr>\n",
              "    <tr>\n",
              "      <th>1</th>\n",
              "      <td>0.05</td>\n",
              "      <td>0.0488</td>\n",
              "      <td>0.0964</td>\n",
              "    </tr>\n",
              "    <tr>\n",
              "      <th>2</th>\n",
              "      <td>0.10</td>\n",
              "      <td>0.0953</td>\n",
              "      <td>0.1408</td>\n",
              "    </tr>\n",
              "    <tr>\n",
              "      <th>3</th>\n",
              "      <td>0.15</td>\n",
              "      <td>0.1397</td>\n",
              "      <td>0.1832</td>\n",
              "    </tr>\n",
              "    <tr>\n",
              "      <th>4</th>\n",
              "      <td>0.20</td>\n",
              "      <td>0.1823</td>\n",
              "      <td>0.2240</td>\n",
              "    </tr>\n",
              "    <tr>\n",
              "      <th>5</th>\n",
              "      <td>0.25</td>\n",
              "      <td>0.2231</td>\n",
              "      <td>0.2631</td>\n",
              "    </tr>\n",
              "    <tr>\n",
              "      <th>6</th>\n",
              "      <td>0.30</td>\n",
              "      <td>0.2623</td>\n",
              "      <td>0.3008</td>\n",
              "    </tr>\n",
              "    <tr>\n",
              "      <th>7</th>\n",
              "      <td>0.35</td>\n",
              "      <td>0.3000</td>\n",
              "      <td>0.3370</td>\n",
              "    </tr>\n",
              "    <tr>\n",
              "      <th>8</th>\n",
              "      <td>0.40</td>\n",
              "      <td>0.3364</td>\n",
              "      <td>0.3721</td>\n",
              "    </tr>\n",
              "    <tr>\n",
              "      <th>9</th>\n",
              "      <td>0.45</td>\n",
              "      <td>0.3715</td>\n",
              "      <td>0.4060</td>\n",
              "    </tr>\n",
              "    <tr>\n",
              "      <th>10</th>\n",
              "      <td>0.50</td>\n",
              "      <td>0.4054</td>\n",
              "      <td>0.4387</td>\n",
              "    </tr>\n",
              "  </tbody>\n",
              "</table>\n",
              "</div>\n",
              "      <button class=\"colab-df-convert\" onclick=\"convertToInteractive('df-f72072ae-cfe7-4d25-8da2-4e95f5c52fa8')\"\n",
              "              title=\"Convert this dataframe to an interactive table.\"\n",
              "              style=\"display:none;\">\n",
              "        \n",
              "  <svg xmlns=\"http://www.w3.org/2000/svg\" height=\"24px\"viewBox=\"0 0 24 24\"\n",
              "       width=\"24px\">\n",
              "    <path d=\"M0 0h24v24H0V0z\" fill=\"none\"/>\n",
              "    <path d=\"M18.56 5.44l.94 2.06.94-2.06 2.06-.94-2.06-.94-.94-2.06-.94 2.06-2.06.94zm-11 1L8.5 8.5l.94-2.06 2.06-.94-2.06-.94L8.5 2.5l-.94 2.06-2.06.94zm10 10l.94 2.06.94-2.06 2.06-.94-2.06-.94-.94-2.06-.94 2.06-2.06.94z\"/><path d=\"M17.41 7.96l-1.37-1.37c-.4-.4-.92-.59-1.43-.59-.52 0-1.04.2-1.43.59L10.3 9.45l-7.72 7.72c-.78.78-.78 2.05 0 2.83L4 21.41c.39.39.9.59 1.41.59.51 0 1.02-.2 1.41-.59l7.78-7.78 2.81-2.81c.8-.78.8-2.07 0-2.86zM5.41 20L4 18.59l7.72-7.72 1.47 1.35L5.41 20z\"/>\n",
              "  </svg>\n",
              "      </button>\n",
              "      \n",
              "  <style>\n",
              "    .colab-df-container {\n",
              "      display:flex;\n",
              "      flex-wrap:wrap;\n",
              "      gap: 12px;\n",
              "    }\n",
              "\n",
              "    .colab-df-convert {\n",
              "      background-color: #E8F0FE;\n",
              "      border: none;\n",
              "      border-radius: 50%;\n",
              "      cursor: pointer;\n",
              "      display: none;\n",
              "      fill: #1967D2;\n",
              "      height: 32px;\n",
              "      padding: 0 0 0 0;\n",
              "      width: 32px;\n",
              "    }\n",
              "\n",
              "    .colab-df-convert:hover {\n",
              "      background-color: #E2EBFA;\n",
              "      box-shadow: 0px 1px 2px rgba(60, 64, 67, 0.3), 0px 1px 3px 1px rgba(60, 64, 67, 0.15);\n",
              "      fill: #174EA6;\n",
              "    }\n",
              "\n",
              "    [theme=dark] .colab-df-convert {\n",
              "      background-color: #3B4455;\n",
              "      fill: #D2E3FC;\n",
              "    }\n",
              "\n",
              "    [theme=dark] .colab-df-convert:hover {\n",
              "      background-color: #434B5C;\n",
              "      box-shadow: 0px 1px 3px 1px rgba(0, 0, 0, 0.15);\n",
              "      filter: drop-shadow(0px 1px 2px rgba(0, 0, 0, 0.3));\n",
              "      fill: #FFFFFF;\n",
              "    }\n",
              "  </style>\n",
              "\n",
              "      <script>\n",
              "        const buttonEl =\n",
              "          document.querySelector('#df-f72072ae-cfe7-4d25-8da2-4e95f5c52fa8 button.colab-df-convert');\n",
              "        buttonEl.style.display =\n",
              "          google.colab.kernel.accessAllowed ? 'block' : 'none';\n",
              "\n",
              "        async function convertToInteractive(key) {\n",
              "          const element = document.querySelector('#df-f72072ae-cfe7-4d25-8da2-4e95f5c52fa8');\n",
              "          const dataTable =\n",
              "            await google.colab.kernel.invokeFunction('convertToInteractive',\n",
              "                                                     [key], {});\n",
              "          if (!dataTable) return;\n",
              "\n",
              "          const docLinkHtml = 'Like what you see? Visit the ' +\n",
              "            '<a target=\"_blank\" href=https://colab.research.google.com/notebooks/data_table.ipynb>data table notebook</a>'\n",
              "            + ' to learn more about interactive tables.';\n",
              "          element.innerHTML = '';\n",
              "          dataTable['output_type'] = 'display_data';\n",
              "          await google.colab.output.renderOutput(dataTable, element);\n",
              "          const docLink = document.createElement('div');\n",
              "          docLink.innerHTML = docLinkHtml;\n",
              "          element.appendChild(docLink);\n",
              "        }\n",
              "      </script>\n",
              "    </div>\n",
              "  </div>\n",
              "  "
            ]
          },
          "metadata": {},
          "execution_count": 57
        }
      ],
      "source": [
        "x_series_2 = pd.Series(x_n)\n",
        "y_series_2 = pd.Series(y_n)\n",
        "yo_series_2 = pd.Series(yo_n)\n",
        "df_2 = pd.DataFrame({'x': x_series_2, 'y': y_series_2, 'y*': yo_series_2})\n",
        "df_2.index.name = 'n'\n",
        "df_2"
      ]
    },
    {
      "cell_type": "markdown",
      "metadata": {
        "id": "cSENls--8dF9"
      },
      "source": [
        "#### Resultados:"
      ]
    },
    {
      "cell_type": "code",
      "execution_count": 58,
      "metadata": {
        "id": "kAznP9LY8dF9"
      },
      "outputs": [],
      "source": [
        "res_y_010 = df_1.loc[np.where(df_1['x'] == 0.5)]['y'].values[0]\n",
        "res_y_005 = df_2.loc[np.where(df_2['x'] == 0.5)]['y'].values[0]"
      ]
    },
    {
      "cell_type": "code",
      "execution_count": 59,
      "metadata": {
        "id": "qdSyZ0z98dF-",
        "outputId": "f247b6f3-b55d-48db-bd3c-5c8365c40f25",
        "colab": {
          "base_uri": "https://localhost:8080/"
        }
      },
      "outputs": [
        {
          "output_type": "stream",
          "name": "stdout",
          "text": [
            "Para h = 0.1, el valor aproximado de y(0.5) = 0.4053\n",
            "Para h = 0.05, el valor aproximado de y(0.5) = 0.4054\n"
          ]
        }
      ],
      "source": [
        "print(f'Para h = {h_1}, el valor aproximado de y(0.5) = {res_y_010}')\n",
        "print(f'Para h = {h_2}, el valor aproximado de y(0.5) = {res_y_005}')"
      ]
    },
    {
      "cell_type": "markdown",
      "metadata": {
        "id": "q7Ds8xLV8dF-"
      },
      "source": [
        "[Inicio de Página](#scrollTo=Vn5QSpZM8dFm)"
      ]
    },
    {
      "cell_type": "markdown",
      "metadata": {
        "id": "Nqn3jHr18dF-"
      },
      "source": [
        "---\n",
        "\n",
        "## Método RK4"
      ]
    },
    {
      "cell_type": "code",
      "execution_count": 60,
      "metadata": {
        "id": "7_Cr112m8dF-"
      },
      "outputs": [],
      "source": [
        "h = 0.1"
      ]
    },
    {
      "cell_type": "markdown",
      "metadata": {
        "id": "qX42zSy18dF-"
      },
      "source": [
        "---\n",
        "\n",
        "### Ejercicio 1:\n",
        "\n",
        "$$y' = 2x - 3y + 1, \\ y(1) = 5; \\ y(1.5)$$"
      ]
    },
    {
      "cell_type": "code",
      "execution_count": 61,
      "metadata": {
        "id": "n8ccnNLW8dF-",
        "outputId": "39e217cf-2e3a-4784-d23c-b39fe36a5638",
        "colab": {
          "base_uri": "https://localhost:8080/",
          "height": 0
        }
      },
      "outputs": [
        {
          "output_type": "execute_result",
          "data": {
            "text/plain": [
              "2*x - 3*y + 1"
            ],
            "text/latex": "$\\displaystyle 2 x - 3 y + 1$"
          },
          "metadata": {},
          "execution_count": 61
        }
      ],
      "source": [
        "f, x, y = symbols('f, x, y')\n",
        "x_0, y_0, n = 1, 5, 10\n",
        "\n",
        "f = 2*x - 3*y + 1\n",
        "f"
      ]
    },
    {
      "cell_type": "markdown",
      "metadata": {
        "id": "pXUug_I-8dF-"
      },
      "source": [
        "#### Para *h = 0.1*:"
      ]
    },
    {
      "cell_type": "code",
      "execution_count": 62,
      "metadata": {
        "id": "HTAWH-Ja8dF_",
        "outputId": "87bd4ca0-9acb-4ee1-fbdb-a8639bef7008",
        "colab": {
          "base_uri": "https://localhost:8080/"
        }
      },
      "outputs": [
        {
          "output_type": "stream",
          "name": "stdout",
          "text": [
            "Valores de x: [1.0, 1.1, 1.2, 1.3, 1.4, 1.5, 1.6, 1.7, 1.8, 1.9, 2.0]\n"
          ]
        }
      ],
      "source": [
        "x_n = []\n",
        "for i in range(n + 1):\n",
        "    x_n.append(round(x_0 + i*h, 4))\n",
        "print(f'Valores de x: {x_n}')"
      ]
    },
    {
      "cell_type": "code",
      "execution_count": 63,
      "metadata": {
        "id": "c-t0fogo8dF_"
      },
      "outputs": [],
      "source": [
        "y_n = [y_0]\n",
        "k_n1 = []\n",
        "k_n2 = []\n",
        "k_n3 = []\n",
        "k_n4 = []\n",
        "\n",
        "for i in range(n + 1):\n",
        "    k1 = f.subs({x: x_n[i], y: y_n[i]})\n",
        "    k_n1.append(round(k1, 4))\n",
        "    k2 = f.subs({x: x_n[i] + h/2, y: y_n[i] + h/2 * k1})\n",
        "    k_n2.append(round(k2, 4))\n",
        "    k3 = f.subs({x: x_n[i] + h/2, y: y_n[i] + h/2 * k2})\n",
        "    k_n3.append(round(k3, 4))\n",
        "    k4 = f.subs({x: x_n[i] + h, y: y_n[i] + h * k3})\n",
        "    k_n4.append(round(k4, 4))\n",
        "    y_n1 = y_n[i] + h/6 * (k1 + 2*k2 + 2*k3 + k4)\n",
        "    y_n.append(round(y_n1, 4))\n",
        "y_n_1 = y_n[1:]\n",
        "y_n = y_n[:-1]"
      ]
    },
    {
      "cell_type": "markdown",
      "metadata": {
        "id": "cHiKBDst8dF_"
      },
      "source": [
        "##### Conversión de las listas a un DataFrame"
      ]
    },
    {
      "cell_type": "code",
      "execution_count": 64,
      "metadata": {
        "id": "jUz9-YpF8dF_",
        "outputId": "ac9b6d90-096f-4172-ddf7-9ecdd00ae2e7",
        "colab": {
          "base_uri": "https://localhost:8080/",
          "height": 0
        }
      },
      "outputs": [
        {
          "output_type": "execute_result",
          "data": {
            "text/plain": [
              "    x_n     y_n               k1_n      k2_n      k3_n     k4_n   y_n+1\n",
              "n                                                                      \n",
              "0   1.0       5  -12.0000000000000  -10.1000  -10.3850  -8.6845  3.9724\n",
              "1   1.1  3.9724            -8.7172   -7.3096   -7.5208  -6.2610  3.2284\n",
              "2   1.2  3.2284            -6.2852   -5.2424   -5.3988  -4.4656  2.6945\n",
              "3   1.3  2.6945            -4.4835   -3.7110   -3.8269  -3.1354  2.3163\n",
              "4   1.4  2.3163            -3.1489   -2.5766   -2.6624  -2.1502  2.0533\n",
              "5   1.5  2.0533            -2.1599   -1.7359   -1.7995  -1.4200  1.8758\n",
              "6   1.6  1.8758            -1.4274   -1.1133   -1.1604  -0.8793  1.7616\n",
              "7   1.7  1.7616            -0.8848   -0.6521   -0.6870  -0.4787  1.6942\n",
              "8   1.8  1.6942            -0.4826   -0.3102   -0.3361  -0.1818  1.6616\n",
              "9   1.9  1.6616            -0.1848   -0.0571   -0.0762   0.0381  1.6547\n",
              "10  2.0  1.6547             0.0359    0.1305    0.1163   0.2010  1.6669"
            ],
            "text/html": [
              "\n",
              "  <div id=\"df-7f2c0866-567d-4ec4-8ecf-ce5866777e8e\">\n",
              "    <div class=\"colab-df-container\">\n",
              "      <div>\n",
              "<style scoped>\n",
              "    .dataframe tbody tr th:only-of-type {\n",
              "        vertical-align: middle;\n",
              "    }\n",
              "\n",
              "    .dataframe tbody tr th {\n",
              "        vertical-align: top;\n",
              "    }\n",
              "\n",
              "    .dataframe thead th {\n",
              "        text-align: right;\n",
              "    }\n",
              "</style>\n",
              "<table border=\"1\" class=\"dataframe\">\n",
              "  <thead>\n",
              "    <tr style=\"text-align: right;\">\n",
              "      <th></th>\n",
              "      <th>x_n</th>\n",
              "      <th>y_n</th>\n",
              "      <th>k1_n</th>\n",
              "      <th>k2_n</th>\n",
              "      <th>k3_n</th>\n",
              "      <th>k4_n</th>\n",
              "      <th>y_n+1</th>\n",
              "    </tr>\n",
              "    <tr>\n",
              "      <th>n</th>\n",
              "      <th></th>\n",
              "      <th></th>\n",
              "      <th></th>\n",
              "      <th></th>\n",
              "      <th></th>\n",
              "      <th></th>\n",
              "      <th></th>\n",
              "    </tr>\n",
              "  </thead>\n",
              "  <tbody>\n",
              "    <tr>\n",
              "      <th>0</th>\n",
              "      <td>1.0</td>\n",
              "      <td>5</td>\n",
              "      <td>-12.0000000000000</td>\n",
              "      <td>-10.1000</td>\n",
              "      <td>-10.3850</td>\n",
              "      <td>-8.6845</td>\n",
              "      <td>3.9724</td>\n",
              "    </tr>\n",
              "    <tr>\n",
              "      <th>1</th>\n",
              "      <td>1.1</td>\n",
              "      <td>3.9724</td>\n",
              "      <td>-8.7172</td>\n",
              "      <td>-7.3096</td>\n",
              "      <td>-7.5208</td>\n",
              "      <td>-6.2610</td>\n",
              "      <td>3.2284</td>\n",
              "    </tr>\n",
              "    <tr>\n",
              "      <th>2</th>\n",
              "      <td>1.2</td>\n",
              "      <td>3.2284</td>\n",
              "      <td>-6.2852</td>\n",
              "      <td>-5.2424</td>\n",
              "      <td>-5.3988</td>\n",
              "      <td>-4.4656</td>\n",
              "      <td>2.6945</td>\n",
              "    </tr>\n",
              "    <tr>\n",
              "      <th>3</th>\n",
              "      <td>1.3</td>\n",
              "      <td>2.6945</td>\n",
              "      <td>-4.4835</td>\n",
              "      <td>-3.7110</td>\n",
              "      <td>-3.8269</td>\n",
              "      <td>-3.1354</td>\n",
              "      <td>2.3163</td>\n",
              "    </tr>\n",
              "    <tr>\n",
              "      <th>4</th>\n",
              "      <td>1.4</td>\n",
              "      <td>2.3163</td>\n",
              "      <td>-3.1489</td>\n",
              "      <td>-2.5766</td>\n",
              "      <td>-2.6624</td>\n",
              "      <td>-2.1502</td>\n",
              "      <td>2.0533</td>\n",
              "    </tr>\n",
              "    <tr>\n",
              "      <th>5</th>\n",
              "      <td>1.5</td>\n",
              "      <td>2.0533</td>\n",
              "      <td>-2.1599</td>\n",
              "      <td>-1.7359</td>\n",
              "      <td>-1.7995</td>\n",
              "      <td>-1.4200</td>\n",
              "      <td>1.8758</td>\n",
              "    </tr>\n",
              "    <tr>\n",
              "      <th>6</th>\n",
              "      <td>1.6</td>\n",
              "      <td>1.8758</td>\n",
              "      <td>-1.4274</td>\n",
              "      <td>-1.1133</td>\n",
              "      <td>-1.1604</td>\n",
              "      <td>-0.8793</td>\n",
              "      <td>1.7616</td>\n",
              "    </tr>\n",
              "    <tr>\n",
              "      <th>7</th>\n",
              "      <td>1.7</td>\n",
              "      <td>1.7616</td>\n",
              "      <td>-0.8848</td>\n",
              "      <td>-0.6521</td>\n",
              "      <td>-0.6870</td>\n",
              "      <td>-0.4787</td>\n",
              "      <td>1.6942</td>\n",
              "    </tr>\n",
              "    <tr>\n",
              "      <th>8</th>\n",
              "      <td>1.8</td>\n",
              "      <td>1.6942</td>\n",
              "      <td>-0.4826</td>\n",
              "      <td>-0.3102</td>\n",
              "      <td>-0.3361</td>\n",
              "      <td>-0.1818</td>\n",
              "      <td>1.6616</td>\n",
              "    </tr>\n",
              "    <tr>\n",
              "      <th>9</th>\n",
              "      <td>1.9</td>\n",
              "      <td>1.6616</td>\n",
              "      <td>-0.1848</td>\n",
              "      <td>-0.0571</td>\n",
              "      <td>-0.0762</td>\n",
              "      <td>0.0381</td>\n",
              "      <td>1.6547</td>\n",
              "    </tr>\n",
              "    <tr>\n",
              "      <th>10</th>\n",
              "      <td>2.0</td>\n",
              "      <td>1.6547</td>\n",
              "      <td>0.0359</td>\n",
              "      <td>0.1305</td>\n",
              "      <td>0.1163</td>\n",
              "      <td>0.2010</td>\n",
              "      <td>1.6669</td>\n",
              "    </tr>\n",
              "  </tbody>\n",
              "</table>\n",
              "</div>\n",
              "      <button class=\"colab-df-convert\" onclick=\"convertToInteractive('df-7f2c0866-567d-4ec4-8ecf-ce5866777e8e')\"\n",
              "              title=\"Convert this dataframe to an interactive table.\"\n",
              "              style=\"display:none;\">\n",
              "        \n",
              "  <svg xmlns=\"http://www.w3.org/2000/svg\" height=\"24px\"viewBox=\"0 0 24 24\"\n",
              "       width=\"24px\">\n",
              "    <path d=\"M0 0h24v24H0V0z\" fill=\"none\"/>\n",
              "    <path d=\"M18.56 5.44l.94 2.06.94-2.06 2.06-.94-2.06-.94-.94-2.06-.94 2.06-2.06.94zm-11 1L8.5 8.5l.94-2.06 2.06-.94-2.06-.94L8.5 2.5l-.94 2.06-2.06.94zm10 10l.94 2.06.94-2.06 2.06-.94-2.06-.94-.94-2.06-.94 2.06-2.06.94z\"/><path d=\"M17.41 7.96l-1.37-1.37c-.4-.4-.92-.59-1.43-.59-.52 0-1.04.2-1.43.59L10.3 9.45l-7.72 7.72c-.78.78-.78 2.05 0 2.83L4 21.41c.39.39.9.59 1.41.59.51 0 1.02-.2 1.41-.59l7.78-7.78 2.81-2.81c.8-.78.8-2.07 0-2.86zM5.41 20L4 18.59l7.72-7.72 1.47 1.35L5.41 20z\"/>\n",
              "  </svg>\n",
              "      </button>\n",
              "      \n",
              "  <style>\n",
              "    .colab-df-container {\n",
              "      display:flex;\n",
              "      flex-wrap:wrap;\n",
              "      gap: 12px;\n",
              "    }\n",
              "\n",
              "    .colab-df-convert {\n",
              "      background-color: #E8F0FE;\n",
              "      border: none;\n",
              "      border-radius: 50%;\n",
              "      cursor: pointer;\n",
              "      display: none;\n",
              "      fill: #1967D2;\n",
              "      height: 32px;\n",
              "      padding: 0 0 0 0;\n",
              "      width: 32px;\n",
              "    }\n",
              "\n",
              "    .colab-df-convert:hover {\n",
              "      background-color: #E2EBFA;\n",
              "      box-shadow: 0px 1px 2px rgba(60, 64, 67, 0.3), 0px 1px 3px 1px rgba(60, 64, 67, 0.15);\n",
              "      fill: #174EA6;\n",
              "    }\n",
              "\n",
              "    [theme=dark] .colab-df-convert {\n",
              "      background-color: #3B4455;\n",
              "      fill: #D2E3FC;\n",
              "    }\n",
              "\n",
              "    [theme=dark] .colab-df-convert:hover {\n",
              "      background-color: #434B5C;\n",
              "      box-shadow: 0px 1px 3px 1px rgba(0, 0, 0, 0.15);\n",
              "      filter: drop-shadow(0px 1px 2px rgba(0, 0, 0, 0.3));\n",
              "      fill: #FFFFFF;\n",
              "    }\n",
              "  </style>\n",
              "\n",
              "      <script>\n",
              "        const buttonEl =\n",
              "          document.querySelector('#df-7f2c0866-567d-4ec4-8ecf-ce5866777e8e button.colab-df-convert');\n",
              "        buttonEl.style.display =\n",
              "          google.colab.kernel.accessAllowed ? 'block' : 'none';\n",
              "\n",
              "        async function convertToInteractive(key) {\n",
              "          const element = document.querySelector('#df-7f2c0866-567d-4ec4-8ecf-ce5866777e8e');\n",
              "          const dataTable =\n",
              "            await google.colab.kernel.invokeFunction('convertToInteractive',\n",
              "                                                     [key], {});\n",
              "          if (!dataTable) return;\n",
              "\n",
              "          const docLinkHtml = 'Like what you see? Visit the ' +\n",
              "            '<a target=\"_blank\" href=https://colab.research.google.com/notebooks/data_table.ipynb>data table notebook</a>'\n",
              "            + ' to learn more about interactive tables.';\n",
              "          element.innerHTML = '';\n",
              "          dataTable['output_type'] = 'display_data';\n",
              "          await google.colab.output.renderOutput(dataTable, element);\n",
              "          const docLink = document.createElement('div');\n",
              "          docLink.innerHTML = docLinkHtml;\n",
              "          element.appendChild(docLink);\n",
              "        }\n",
              "      </script>\n",
              "    </div>\n",
              "  </div>\n",
              "  "
            ]
          },
          "metadata": {},
          "execution_count": 64
        }
      ],
      "source": [
        "xn_series = pd.Series(x_n)\n",
        "yn_series = pd.Series(y_n)\n",
        "k1n_series = pd.Series(k_n1)\n",
        "k2n_series = pd.Series(k_n2)\n",
        "k3n_series = pd.Series(k_n3)\n",
        "k4n_series = pd.Series(k_n4)\n",
        "yn1_series = pd.Series(y_n_1)\n",
        "df = pd.DataFrame({'x_n': xn_series, 'y_n': yn_series, 'k1_n': k1n_series, 'k2_n': k2n_series, 'k3_n': k3n_series, 'k4_n': k4n_series, 'y_n+1': yn1_series})\n",
        "df.index.name = 'n'\n",
        "df"
      ]
    },
    {
      "cell_type": "markdown",
      "metadata": {
        "id": "YkO1uH738dF_"
      },
      "source": [
        "#### Resultados:"
      ]
    },
    {
      "cell_type": "code",
      "execution_count": 65,
      "metadata": {
        "id": "LHgsADbN8dGA",
        "outputId": "3b60e9a0-192e-469d-fe2a-d330b2f73a94",
        "colab": {
          "base_uri": "https://localhost:8080/"
        }
      },
      "outputs": [
        {
          "output_type": "stream",
          "name": "stdout",
          "text": [
            "Para h = 0.1, el valor aproximado de y(1.5) = 2.0533\n"
          ]
        }
      ],
      "source": [
        "res_y_n = df.loc[np.where(df['x_n'] == 1.5)]['y_n'].values[0]\n",
        "print(f'Para h = {h}, el valor aproximado de y(1.5) = {res_y_n}')"
      ]
    },
    {
      "cell_type": "markdown",
      "metadata": {
        "id": "aVeFDStx8dGA"
      },
      "source": [
        "[Inicio de Página](#scrollTo=Vn5QSpZM8dFm)"
      ]
    },
    {
      "cell_type": "markdown",
      "metadata": {
        "id": "QN42DhL68dGA"
      },
      "source": [
        "---\n",
        "\n",
        "### Ejercicio 2:\n",
        "\n",
        "$$y' = 4x - 2y, \\ y(0) = 2; \\ y(0.5)$$"
      ]
    },
    {
      "cell_type": "code",
      "execution_count": 66,
      "metadata": {
        "id": "6kbJsmQr8dGA",
        "outputId": "474140ca-07c8-4ae1-ff02-1dd03e585707",
        "colab": {
          "base_uri": "https://localhost:8080/",
          "height": 0
        }
      },
      "outputs": [
        {
          "output_type": "execute_result",
          "data": {
            "text/plain": [
              "4*x - 2*y"
            ],
            "text/latex": "$\\displaystyle 4 x - 2 y$"
          },
          "metadata": {},
          "execution_count": 66
        }
      ],
      "source": [
        "f, x, y = symbols('f, x, y')\n",
        "x_0, y_0, n = 0, 2, 10\n",
        "\n",
        "f = 4*x - 2*y\n",
        "f"
      ]
    },
    {
      "cell_type": "markdown",
      "metadata": {
        "id": "yiEIykPw8dGA"
      },
      "source": [
        "#### Para *h = 0.1*:"
      ]
    },
    {
      "cell_type": "code",
      "execution_count": 67,
      "metadata": {
        "id": "ysLiVHmF8dGA",
        "outputId": "6d171fed-f5a4-4ce4-b7b7-d06ac190c465",
        "colab": {
          "base_uri": "https://localhost:8080/"
        }
      },
      "outputs": [
        {
          "output_type": "stream",
          "name": "stdout",
          "text": [
            "Valores de x: [0.0, 0.1, 0.2, 0.3, 0.4, 0.5, 0.6, 0.7, 0.8, 0.9, 1.0]\n"
          ]
        }
      ],
      "source": [
        "x_n = []\n",
        "for i in range(n + 1):\n",
        "    x_n.append(round(x_0 + i*h, 4))\n",
        "print(f'Valores de x: {x_n}')"
      ]
    },
    {
      "cell_type": "code",
      "execution_count": 68,
      "metadata": {
        "id": "mq4B94ek8dGB"
      },
      "outputs": [],
      "source": [
        "y_n = [y_0]\n",
        "k_n1 = []\n",
        "k_n2 = []\n",
        "k_n3 = []\n",
        "k_n4 = []\n",
        "\n",
        "for i in range(n + 1):\n",
        "    k1 = f.subs({x: x_n[i], y: y_n[i]})\n",
        "    k_n1.append(round(k1, 4))\n",
        "    k2 = f.subs({x: x_n[i] + h/2, y: y_n[i] + h/2 * k1})\n",
        "    k_n2.append(round(k2, 4))\n",
        "    k3 = f.subs({x: x_n[i] + h/2, y: y_n[i] + h/2 * k2})\n",
        "    k_n3.append(round(k3, 4))\n",
        "    k4 = f.subs({x: x_n[i] + h, y: y_n[i] + h * k3})\n",
        "    k_n4.append(round(k4, 4))\n",
        "    y_n1 = y_n[i] + h/6 * (k1 + 2*k2 + 2*k3 + k4)\n",
        "    y_n.append(round(y_n1, 4))\n",
        "y_n_1 = y_n[1:]\n",
        "y_n = y_n[:-1]"
      ]
    },
    {
      "cell_type": "markdown",
      "metadata": {
        "id": "FN2vPPuM8dGB"
      },
      "source": [
        "##### Conversión de las listas a un DataFrame"
      ]
    },
    {
      "cell_type": "code",
      "execution_count": 69,
      "metadata": {
        "id": "7fuEjemf8dGB",
        "outputId": "106d1f20-c868-4e50-8214-3d26af0f3ee5",
        "colab": {
          "base_uri": "https://localhost:8080/",
          "height": 0
        }
      },
      "outputs": [
        {
          "output_type": "execute_result",
          "data": {
            "text/plain": [
              "    x_n     y_n     k1_n     k2_n     k3_n     k4_n   y_n+1\n",
              "n                                                          \n",
              "0   0.0       2       -4  -3.4000  -3.4600  -2.9080  1.6562\n",
              "1   0.1  1.6562  -2.9124  -2.4212  -2.4703  -2.0183  1.4110\n",
              "2   0.2  1.4110  -2.0220  -1.6198  -1.6600  -1.2900  1.2465\n",
              "3   0.3  1.2465  -1.2930  -0.9637  -0.9966  -0.6937  1.1480\n",
              "4   0.4  1.1480  -0.6960  -0.4264  -0.4534  -0.2053  1.1037\n",
              "5   0.5  1.1037  -0.2074   0.0133  -0.0087   0.1943  1.1036\n",
              "6   0.6  1.1036   0.1928   0.3735   0.3554   0.5217  1.1398\n",
              "7   0.7  1.1398   0.5204   0.6684   0.6536   0.7897  1.2057\n",
              "8   0.8  1.2057   0.7886   0.9097   0.8976   1.0091  1.2959\n",
              "9   0.9  1.2959   1.0082   1.1074   1.0975   1.1887  1.4060\n",
              "10  1.0  1.4060   1.1880   1.2692   1.2611   1.3358  1.5324"
            ],
            "text/html": [
              "\n",
              "  <div id=\"df-afe0dfc0-e804-473a-aee2-ace4755d4332\">\n",
              "    <div class=\"colab-df-container\">\n",
              "      <div>\n",
              "<style scoped>\n",
              "    .dataframe tbody tr th:only-of-type {\n",
              "        vertical-align: middle;\n",
              "    }\n",
              "\n",
              "    .dataframe tbody tr th {\n",
              "        vertical-align: top;\n",
              "    }\n",
              "\n",
              "    .dataframe thead th {\n",
              "        text-align: right;\n",
              "    }\n",
              "</style>\n",
              "<table border=\"1\" class=\"dataframe\">\n",
              "  <thead>\n",
              "    <tr style=\"text-align: right;\">\n",
              "      <th></th>\n",
              "      <th>x_n</th>\n",
              "      <th>y_n</th>\n",
              "      <th>k1_n</th>\n",
              "      <th>k2_n</th>\n",
              "      <th>k3_n</th>\n",
              "      <th>k4_n</th>\n",
              "      <th>y_n+1</th>\n",
              "    </tr>\n",
              "    <tr>\n",
              "      <th>n</th>\n",
              "      <th></th>\n",
              "      <th></th>\n",
              "      <th></th>\n",
              "      <th></th>\n",
              "      <th></th>\n",
              "      <th></th>\n",
              "      <th></th>\n",
              "    </tr>\n",
              "  </thead>\n",
              "  <tbody>\n",
              "    <tr>\n",
              "      <th>0</th>\n",
              "      <td>0.0</td>\n",
              "      <td>2</td>\n",
              "      <td>-4</td>\n",
              "      <td>-3.4000</td>\n",
              "      <td>-3.4600</td>\n",
              "      <td>-2.9080</td>\n",
              "      <td>1.6562</td>\n",
              "    </tr>\n",
              "    <tr>\n",
              "      <th>1</th>\n",
              "      <td>0.1</td>\n",
              "      <td>1.6562</td>\n",
              "      <td>-2.9124</td>\n",
              "      <td>-2.4212</td>\n",
              "      <td>-2.4703</td>\n",
              "      <td>-2.0183</td>\n",
              "      <td>1.4110</td>\n",
              "    </tr>\n",
              "    <tr>\n",
              "      <th>2</th>\n",
              "      <td>0.2</td>\n",
              "      <td>1.4110</td>\n",
              "      <td>-2.0220</td>\n",
              "      <td>-1.6198</td>\n",
              "      <td>-1.6600</td>\n",
              "      <td>-1.2900</td>\n",
              "      <td>1.2465</td>\n",
              "    </tr>\n",
              "    <tr>\n",
              "      <th>3</th>\n",
              "      <td>0.3</td>\n",
              "      <td>1.2465</td>\n",
              "      <td>-1.2930</td>\n",
              "      <td>-0.9637</td>\n",
              "      <td>-0.9966</td>\n",
              "      <td>-0.6937</td>\n",
              "      <td>1.1480</td>\n",
              "    </tr>\n",
              "    <tr>\n",
              "      <th>4</th>\n",
              "      <td>0.4</td>\n",
              "      <td>1.1480</td>\n",
              "      <td>-0.6960</td>\n",
              "      <td>-0.4264</td>\n",
              "      <td>-0.4534</td>\n",
              "      <td>-0.2053</td>\n",
              "      <td>1.1037</td>\n",
              "    </tr>\n",
              "    <tr>\n",
              "      <th>5</th>\n",
              "      <td>0.5</td>\n",
              "      <td>1.1037</td>\n",
              "      <td>-0.2074</td>\n",
              "      <td>0.0133</td>\n",
              "      <td>-0.0087</td>\n",
              "      <td>0.1943</td>\n",
              "      <td>1.1036</td>\n",
              "    </tr>\n",
              "    <tr>\n",
              "      <th>6</th>\n",
              "      <td>0.6</td>\n",
              "      <td>1.1036</td>\n",
              "      <td>0.1928</td>\n",
              "      <td>0.3735</td>\n",
              "      <td>0.3554</td>\n",
              "      <td>0.5217</td>\n",
              "      <td>1.1398</td>\n",
              "    </tr>\n",
              "    <tr>\n",
              "      <th>7</th>\n",
              "      <td>0.7</td>\n",
              "      <td>1.1398</td>\n",
              "      <td>0.5204</td>\n",
              "      <td>0.6684</td>\n",
              "      <td>0.6536</td>\n",
              "      <td>0.7897</td>\n",
              "      <td>1.2057</td>\n",
              "    </tr>\n",
              "    <tr>\n",
              "      <th>8</th>\n",
              "      <td>0.8</td>\n",
              "      <td>1.2057</td>\n",
              "      <td>0.7886</td>\n",
              "      <td>0.9097</td>\n",
              "      <td>0.8976</td>\n",
              "      <td>1.0091</td>\n",
              "      <td>1.2959</td>\n",
              "    </tr>\n",
              "    <tr>\n",
              "      <th>9</th>\n",
              "      <td>0.9</td>\n",
              "      <td>1.2959</td>\n",
              "      <td>1.0082</td>\n",
              "      <td>1.1074</td>\n",
              "      <td>1.0975</td>\n",
              "      <td>1.1887</td>\n",
              "      <td>1.4060</td>\n",
              "    </tr>\n",
              "    <tr>\n",
              "      <th>10</th>\n",
              "      <td>1.0</td>\n",
              "      <td>1.4060</td>\n",
              "      <td>1.1880</td>\n",
              "      <td>1.2692</td>\n",
              "      <td>1.2611</td>\n",
              "      <td>1.3358</td>\n",
              "      <td>1.5324</td>\n",
              "    </tr>\n",
              "  </tbody>\n",
              "</table>\n",
              "</div>\n",
              "      <button class=\"colab-df-convert\" onclick=\"convertToInteractive('df-afe0dfc0-e804-473a-aee2-ace4755d4332')\"\n",
              "              title=\"Convert this dataframe to an interactive table.\"\n",
              "              style=\"display:none;\">\n",
              "        \n",
              "  <svg xmlns=\"http://www.w3.org/2000/svg\" height=\"24px\"viewBox=\"0 0 24 24\"\n",
              "       width=\"24px\">\n",
              "    <path d=\"M0 0h24v24H0V0z\" fill=\"none\"/>\n",
              "    <path d=\"M18.56 5.44l.94 2.06.94-2.06 2.06-.94-2.06-.94-.94-2.06-.94 2.06-2.06.94zm-11 1L8.5 8.5l.94-2.06 2.06-.94-2.06-.94L8.5 2.5l-.94 2.06-2.06.94zm10 10l.94 2.06.94-2.06 2.06-.94-2.06-.94-.94-2.06-.94 2.06-2.06.94z\"/><path d=\"M17.41 7.96l-1.37-1.37c-.4-.4-.92-.59-1.43-.59-.52 0-1.04.2-1.43.59L10.3 9.45l-7.72 7.72c-.78.78-.78 2.05 0 2.83L4 21.41c.39.39.9.59 1.41.59.51 0 1.02-.2 1.41-.59l7.78-7.78 2.81-2.81c.8-.78.8-2.07 0-2.86zM5.41 20L4 18.59l7.72-7.72 1.47 1.35L5.41 20z\"/>\n",
              "  </svg>\n",
              "      </button>\n",
              "      \n",
              "  <style>\n",
              "    .colab-df-container {\n",
              "      display:flex;\n",
              "      flex-wrap:wrap;\n",
              "      gap: 12px;\n",
              "    }\n",
              "\n",
              "    .colab-df-convert {\n",
              "      background-color: #E8F0FE;\n",
              "      border: none;\n",
              "      border-radius: 50%;\n",
              "      cursor: pointer;\n",
              "      display: none;\n",
              "      fill: #1967D2;\n",
              "      height: 32px;\n",
              "      padding: 0 0 0 0;\n",
              "      width: 32px;\n",
              "    }\n",
              "\n",
              "    .colab-df-convert:hover {\n",
              "      background-color: #E2EBFA;\n",
              "      box-shadow: 0px 1px 2px rgba(60, 64, 67, 0.3), 0px 1px 3px 1px rgba(60, 64, 67, 0.15);\n",
              "      fill: #174EA6;\n",
              "    }\n",
              "\n",
              "    [theme=dark] .colab-df-convert {\n",
              "      background-color: #3B4455;\n",
              "      fill: #D2E3FC;\n",
              "    }\n",
              "\n",
              "    [theme=dark] .colab-df-convert:hover {\n",
              "      background-color: #434B5C;\n",
              "      box-shadow: 0px 1px 3px 1px rgba(0, 0, 0, 0.15);\n",
              "      filter: drop-shadow(0px 1px 2px rgba(0, 0, 0, 0.3));\n",
              "      fill: #FFFFFF;\n",
              "    }\n",
              "  </style>\n",
              "\n",
              "      <script>\n",
              "        const buttonEl =\n",
              "          document.querySelector('#df-afe0dfc0-e804-473a-aee2-ace4755d4332 button.colab-df-convert');\n",
              "        buttonEl.style.display =\n",
              "          google.colab.kernel.accessAllowed ? 'block' : 'none';\n",
              "\n",
              "        async function convertToInteractive(key) {\n",
              "          const element = document.querySelector('#df-afe0dfc0-e804-473a-aee2-ace4755d4332');\n",
              "          const dataTable =\n",
              "            await google.colab.kernel.invokeFunction('convertToInteractive',\n",
              "                                                     [key], {});\n",
              "          if (!dataTable) return;\n",
              "\n",
              "          const docLinkHtml = 'Like what you see? Visit the ' +\n",
              "            '<a target=\"_blank\" href=https://colab.research.google.com/notebooks/data_table.ipynb>data table notebook</a>'\n",
              "            + ' to learn more about interactive tables.';\n",
              "          element.innerHTML = '';\n",
              "          dataTable['output_type'] = 'display_data';\n",
              "          await google.colab.output.renderOutput(dataTable, element);\n",
              "          const docLink = document.createElement('div');\n",
              "          docLink.innerHTML = docLinkHtml;\n",
              "          element.appendChild(docLink);\n",
              "        }\n",
              "      </script>\n",
              "    </div>\n",
              "  </div>\n",
              "  "
            ]
          },
          "metadata": {},
          "execution_count": 69
        }
      ],
      "source": [
        "xn_series = pd.Series(x_n)\n",
        "yn_series = pd.Series(y_n)\n",
        "k1n_series = pd.Series(k_n1)\n",
        "k2n_series = pd.Series(k_n2)\n",
        "k3n_series = pd.Series(k_n3)\n",
        "k4n_series = pd.Series(k_n4)\n",
        "yn1_series = pd.Series(y_n_1)\n",
        "df = pd.DataFrame({'x_n': xn_series, 'y_n': yn_series, 'k1_n': k1n_series, 'k2_n': k2n_series, 'k3_n': k3n_series, 'k4_n': k4n_series, 'y_n+1': yn1_series})\n",
        "df.index.name = 'n'\n",
        "df"
      ]
    },
    {
      "cell_type": "markdown",
      "metadata": {
        "id": "MLJ32hMJ8dGB"
      },
      "source": [
        "#### Resultados:"
      ]
    },
    {
      "cell_type": "code",
      "execution_count": 70,
      "metadata": {
        "id": "QuOt2Ang8dGB",
        "outputId": "cb6e918d-6323-4577-ced2-93a8ab90123f",
        "colab": {
          "base_uri": "https://localhost:8080/"
        }
      },
      "outputs": [
        {
          "output_type": "stream",
          "name": "stdout",
          "text": [
            "Para h = 0.1, el valor aproximado de y(0.5) = 1.1037\n"
          ]
        }
      ],
      "source": [
        "res_y_n = df.loc[np.where(df['x_n'] == 0.5)]['y_n'].values[0]\n",
        "print(f'Para h = {h}, el valor aproximado de y(0.5) = {res_y_n}')"
      ]
    },
    {
      "cell_type": "markdown",
      "metadata": {
        "id": "w8z7Y26b8dGC"
      },
      "source": [
        "[Inicio de Página](#scrollTo=Vn5QSpZM8dFm)"
      ]
    },
    {
      "cell_type": "markdown",
      "metadata": {
        "id": "95mxvqX38dGC"
      },
      "source": [
        "---\n",
        "\n",
        "### Ejercicio 3:\n",
        "\n",
        "$$y' = 1 + e^x, \\ y(0) = 2; \\ y(0.5)$$"
      ]
    },
    {
      "cell_type": "code",
      "execution_count": 71,
      "metadata": {
        "id": "OQZ8jWfz8dGC",
        "outputId": "cc2c4549-cfc4-4eca-921e-02e26354892a",
        "colab": {
          "base_uri": "https://localhost:8080/",
          "height": 0
        }
      },
      "outputs": [
        {
          "output_type": "execute_result",
          "data": {
            "text/plain": [
              "y**2 + 1"
            ],
            "text/latex": "$\\displaystyle y^{2} + 1$"
          },
          "metadata": {},
          "execution_count": 71
        }
      ],
      "source": [
        "f, x, y = symbols('f, x, y')\n",
        "x_0, y_0, n = 0, 0, 10\n",
        "\n",
        "f = 1 + y**2\n",
        "f"
      ]
    },
    {
      "cell_type": "markdown",
      "metadata": {
        "id": "9MvEd8T08dGC"
      },
      "source": [
        "#### Para *h = 0.1*:"
      ]
    },
    {
      "cell_type": "code",
      "execution_count": 72,
      "metadata": {
        "id": "1jmmd5lG8dGC",
        "outputId": "4493e65c-13ec-4b05-d974-1af0f81d7cff",
        "colab": {
          "base_uri": "https://localhost:8080/"
        }
      },
      "outputs": [
        {
          "output_type": "stream",
          "name": "stdout",
          "text": [
            "Valores de x: [0.0, 0.1, 0.2, 0.3, 0.4, 0.5, 0.6, 0.7, 0.8, 0.9, 1.0]\n"
          ]
        }
      ],
      "source": [
        "x_n = []\n",
        "for i in range(n + 1):\n",
        "    x_n.append(round(x_0 + i*h, 4))\n",
        "print(f'Valores de x: {x_n}')"
      ]
    },
    {
      "cell_type": "code",
      "execution_count": 73,
      "metadata": {
        "id": "fCSTD8P08dGD"
      },
      "outputs": [],
      "source": [
        "y_n = [y_0]\n",
        "k_n1 = []\n",
        "k_n2 = []\n",
        "k_n3 = []\n",
        "k_n4 = []\n",
        "\n",
        "for i in range(n + 1):\n",
        "    k1 = f.subs({x: x_n[i], y: y_n[i]})\n",
        "    k_n1.append(round(k1, 4))\n",
        "    k2 = f.subs({x: x_n[i] + h/2, y: y_n[i] + h/2 * k1})\n",
        "    k_n2.append(round(k2, 4))\n",
        "    k3 = f.subs({x: x_n[i] + h/2, y: y_n[i] + h/2 * k2})\n",
        "    k_n3.append(round(k3, 4))\n",
        "    k4 = f.subs({x: x_n[i] + h, y: y_n[i] + h * k3})\n",
        "    k_n4.append(round(k4, 4))\n",
        "    y_n1 = y_n[i] + h/6 * (k1 + 2*k2 + 2*k3 + k4)\n",
        "    y_n.append(round(y_n1, 4))\n",
        "y_n_1 = y_n[1:]\n",
        "y_n = y_n[:-1]"
      ]
    },
    {
      "cell_type": "markdown",
      "metadata": {
        "id": "eJv9tByQ8dGD"
      },
      "source": [
        "##### Conversión de las listas a un DataFrame"
      ]
    },
    {
      "cell_type": "code",
      "execution_count": 74,
      "metadata": {
        "id": "k7w6Ho7W8dGD",
        "outputId": "aa5e50a5-f38b-46cd-9d07-2fe370d07f2c",
        "colab": {
          "base_uri": "https://localhost:8080/",
          "height": 0
        }
      },
      "outputs": [
        {
          "output_type": "execute_result",
          "data": {
            "text/plain": [
              "    x_n     y_n    k1_n    k2_n    k3_n    k4_n   y_n+1\n",
              "n                                                      \n",
              "0   0.0       0       1  1.0025  1.0025  1.0101  0.1003\n",
              "1   0.1  0.1003   1.010  1.0227  1.0229  1.0410  0.2027\n",
              "2   0.2  0.2027   1.041  1.0649  1.0655  1.0956  0.3093\n",
              "3   0.3  0.3093   1.096  1.1326  1.1339  1.1787  0.4228\n",
              "4   0.4  0.4228   1.179  1.2321  1.2346  1.2984  0.5463\n",
              "5   0.5  0.5463   1.298  1.3736  1.3782  1.4680  0.6841\n",
              "6   0.6  0.6841   1.468  1.5738  1.5818  1.7094  0.8422\n",
              "7   0.7  0.8422   1.709  1.8606  1.8747  2.0602  1.0295\n",
              "8   0.8  1.0295  2.0599  2.2825  2.3079  2.5883  1.2600\n",
              "9   0.9  1.2600  2.5876  2.9304  2.9783  3.4268  1.5572\n",
              "10  1.0  1.5572  3.4249  3.9875  4.0856  4.8642  1.9645"
            ],
            "text/html": [
              "\n",
              "  <div id=\"df-a5808b13-ef54-43de-824b-d05cb5b89fab\">\n",
              "    <div class=\"colab-df-container\">\n",
              "      <div>\n",
              "<style scoped>\n",
              "    .dataframe tbody tr th:only-of-type {\n",
              "        vertical-align: middle;\n",
              "    }\n",
              "\n",
              "    .dataframe tbody tr th {\n",
              "        vertical-align: top;\n",
              "    }\n",
              "\n",
              "    .dataframe thead th {\n",
              "        text-align: right;\n",
              "    }\n",
              "</style>\n",
              "<table border=\"1\" class=\"dataframe\">\n",
              "  <thead>\n",
              "    <tr style=\"text-align: right;\">\n",
              "      <th></th>\n",
              "      <th>x_n</th>\n",
              "      <th>y_n</th>\n",
              "      <th>k1_n</th>\n",
              "      <th>k2_n</th>\n",
              "      <th>k3_n</th>\n",
              "      <th>k4_n</th>\n",
              "      <th>y_n+1</th>\n",
              "    </tr>\n",
              "    <tr>\n",
              "      <th>n</th>\n",
              "      <th></th>\n",
              "      <th></th>\n",
              "      <th></th>\n",
              "      <th></th>\n",
              "      <th></th>\n",
              "      <th></th>\n",
              "      <th></th>\n",
              "    </tr>\n",
              "  </thead>\n",
              "  <tbody>\n",
              "    <tr>\n",
              "      <th>0</th>\n",
              "      <td>0.0</td>\n",
              "      <td>0</td>\n",
              "      <td>1</td>\n",
              "      <td>1.0025</td>\n",
              "      <td>1.0025</td>\n",
              "      <td>1.0101</td>\n",
              "      <td>0.1003</td>\n",
              "    </tr>\n",
              "    <tr>\n",
              "      <th>1</th>\n",
              "      <td>0.1</td>\n",
              "      <td>0.1003</td>\n",
              "      <td>1.010</td>\n",
              "      <td>1.0227</td>\n",
              "      <td>1.0229</td>\n",
              "      <td>1.0410</td>\n",
              "      <td>0.2027</td>\n",
              "    </tr>\n",
              "    <tr>\n",
              "      <th>2</th>\n",
              "      <td>0.2</td>\n",
              "      <td>0.2027</td>\n",
              "      <td>1.041</td>\n",
              "      <td>1.0649</td>\n",
              "      <td>1.0655</td>\n",
              "      <td>1.0956</td>\n",
              "      <td>0.3093</td>\n",
              "    </tr>\n",
              "    <tr>\n",
              "      <th>3</th>\n",
              "      <td>0.3</td>\n",
              "      <td>0.3093</td>\n",
              "      <td>1.096</td>\n",
              "      <td>1.1326</td>\n",
              "      <td>1.1339</td>\n",
              "      <td>1.1787</td>\n",
              "      <td>0.4228</td>\n",
              "    </tr>\n",
              "    <tr>\n",
              "      <th>4</th>\n",
              "      <td>0.4</td>\n",
              "      <td>0.4228</td>\n",
              "      <td>1.179</td>\n",
              "      <td>1.2321</td>\n",
              "      <td>1.2346</td>\n",
              "      <td>1.2984</td>\n",
              "      <td>0.5463</td>\n",
              "    </tr>\n",
              "    <tr>\n",
              "      <th>5</th>\n",
              "      <td>0.5</td>\n",
              "      <td>0.5463</td>\n",
              "      <td>1.298</td>\n",
              "      <td>1.3736</td>\n",
              "      <td>1.3782</td>\n",
              "      <td>1.4680</td>\n",
              "      <td>0.6841</td>\n",
              "    </tr>\n",
              "    <tr>\n",
              "      <th>6</th>\n",
              "      <td>0.6</td>\n",
              "      <td>0.6841</td>\n",
              "      <td>1.468</td>\n",
              "      <td>1.5738</td>\n",
              "      <td>1.5818</td>\n",
              "      <td>1.7094</td>\n",
              "      <td>0.8422</td>\n",
              "    </tr>\n",
              "    <tr>\n",
              "      <th>7</th>\n",
              "      <td>0.7</td>\n",
              "      <td>0.8422</td>\n",
              "      <td>1.709</td>\n",
              "      <td>1.8606</td>\n",
              "      <td>1.8747</td>\n",
              "      <td>2.0602</td>\n",
              "      <td>1.0295</td>\n",
              "    </tr>\n",
              "    <tr>\n",
              "      <th>8</th>\n",
              "      <td>0.8</td>\n",
              "      <td>1.0295</td>\n",
              "      <td>2.0599</td>\n",
              "      <td>2.2825</td>\n",
              "      <td>2.3079</td>\n",
              "      <td>2.5883</td>\n",
              "      <td>1.2600</td>\n",
              "    </tr>\n",
              "    <tr>\n",
              "      <th>9</th>\n",
              "      <td>0.9</td>\n",
              "      <td>1.2600</td>\n",
              "      <td>2.5876</td>\n",
              "      <td>2.9304</td>\n",
              "      <td>2.9783</td>\n",
              "      <td>3.4268</td>\n",
              "      <td>1.5572</td>\n",
              "    </tr>\n",
              "    <tr>\n",
              "      <th>10</th>\n",
              "      <td>1.0</td>\n",
              "      <td>1.5572</td>\n",
              "      <td>3.4249</td>\n",
              "      <td>3.9875</td>\n",
              "      <td>4.0856</td>\n",
              "      <td>4.8642</td>\n",
              "      <td>1.9645</td>\n",
              "    </tr>\n",
              "  </tbody>\n",
              "</table>\n",
              "</div>\n",
              "      <button class=\"colab-df-convert\" onclick=\"convertToInteractive('df-a5808b13-ef54-43de-824b-d05cb5b89fab')\"\n",
              "              title=\"Convert this dataframe to an interactive table.\"\n",
              "              style=\"display:none;\">\n",
              "        \n",
              "  <svg xmlns=\"http://www.w3.org/2000/svg\" height=\"24px\"viewBox=\"0 0 24 24\"\n",
              "       width=\"24px\">\n",
              "    <path d=\"M0 0h24v24H0V0z\" fill=\"none\"/>\n",
              "    <path d=\"M18.56 5.44l.94 2.06.94-2.06 2.06-.94-2.06-.94-.94-2.06-.94 2.06-2.06.94zm-11 1L8.5 8.5l.94-2.06 2.06-.94-2.06-.94L8.5 2.5l-.94 2.06-2.06.94zm10 10l.94 2.06.94-2.06 2.06-.94-2.06-.94-.94-2.06-.94 2.06-2.06.94z\"/><path d=\"M17.41 7.96l-1.37-1.37c-.4-.4-.92-.59-1.43-.59-.52 0-1.04.2-1.43.59L10.3 9.45l-7.72 7.72c-.78.78-.78 2.05 0 2.83L4 21.41c.39.39.9.59 1.41.59.51 0 1.02-.2 1.41-.59l7.78-7.78 2.81-2.81c.8-.78.8-2.07 0-2.86zM5.41 20L4 18.59l7.72-7.72 1.47 1.35L5.41 20z\"/>\n",
              "  </svg>\n",
              "      </button>\n",
              "      \n",
              "  <style>\n",
              "    .colab-df-container {\n",
              "      display:flex;\n",
              "      flex-wrap:wrap;\n",
              "      gap: 12px;\n",
              "    }\n",
              "\n",
              "    .colab-df-convert {\n",
              "      background-color: #E8F0FE;\n",
              "      border: none;\n",
              "      border-radius: 50%;\n",
              "      cursor: pointer;\n",
              "      display: none;\n",
              "      fill: #1967D2;\n",
              "      height: 32px;\n",
              "      padding: 0 0 0 0;\n",
              "      width: 32px;\n",
              "    }\n",
              "\n",
              "    .colab-df-convert:hover {\n",
              "      background-color: #E2EBFA;\n",
              "      box-shadow: 0px 1px 2px rgba(60, 64, 67, 0.3), 0px 1px 3px 1px rgba(60, 64, 67, 0.15);\n",
              "      fill: #174EA6;\n",
              "    }\n",
              "\n",
              "    [theme=dark] .colab-df-convert {\n",
              "      background-color: #3B4455;\n",
              "      fill: #D2E3FC;\n",
              "    }\n",
              "\n",
              "    [theme=dark] .colab-df-convert:hover {\n",
              "      background-color: #434B5C;\n",
              "      box-shadow: 0px 1px 3px 1px rgba(0, 0, 0, 0.15);\n",
              "      filter: drop-shadow(0px 1px 2px rgba(0, 0, 0, 0.3));\n",
              "      fill: #FFFFFF;\n",
              "    }\n",
              "  </style>\n",
              "\n",
              "      <script>\n",
              "        const buttonEl =\n",
              "          document.querySelector('#df-a5808b13-ef54-43de-824b-d05cb5b89fab button.colab-df-convert');\n",
              "        buttonEl.style.display =\n",
              "          google.colab.kernel.accessAllowed ? 'block' : 'none';\n",
              "\n",
              "        async function convertToInteractive(key) {\n",
              "          const element = document.querySelector('#df-a5808b13-ef54-43de-824b-d05cb5b89fab');\n",
              "          const dataTable =\n",
              "            await google.colab.kernel.invokeFunction('convertToInteractive',\n",
              "                                                     [key], {});\n",
              "          if (!dataTable) return;\n",
              "\n",
              "          const docLinkHtml = 'Like what you see? Visit the ' +\n",
              "            '<a target=\"_blank\" href=https://colab.research.google.com/notebooks/data_table.ipynb>data table notebook</a>'\n",
              "            + ' to learn more about interactive tables.';\n",
              "          element.innerHTML = '';\n",
              "          dataTable['output_type'] = 'display_data';\n",
              "          await google.colab.output.renderOutput(dataTable, element);\n",
              "          const docLink = document.createElement('div');\n",
              "          docLink.innerHTML = docLinkHtml;\n",
              "          element.appendChild(docLink);\n",
              "        }\n",
              "      </script>\n",
              "    </div>\n",
              "  </div>\n",
              "  "
            ]
          },
          "metadata": {},
          "execution_count": 74
        }
      ],
      "source": [
        "xn_series = pd.Series(x_n)\n",
        "yn_series = pd.Series(y_n)\n",
        "k1n_series = pd.Series(k_n1)\n",
        "k2n_series = pd.Series(k_n2)\n",
        "k3n_series = pd.Series(k_n3)\n",
        "k4n_series = pd.Series(k_n4)\n",
        "yn1_series = pd.Series(y_n_1)\n",
        "df = pd.DataFrame({'x_n': xn_series, 'y_n': yn_series, 'k1_n': k1n_series, 'k2_n': k2n_series, 'k3_n': k3n_series, 'k4_n': k4n_series, 'y_n+1': yn1_series})\n",
        "df.index.name = 'n'\n",
        "df"
      ]
    },
    {
      "cell_type": "markdown",
      "metadata": {
        "id": "hEVTVhcL8dGD"
      },
      "source": [
        "#### Resultados:"
      ]
    },
    {
      "cell_type": "code",
      "execution_count": 75,
      "metadata": {
        "id": "hMBNBJ8j8dGD",
        "outputId": "ce506dc2-fcdc-4b9d-f19b-b8ea7400170b",
        "colab": {
          "base_uri": "https://localhost:8080/"
        }
      },
      "outputs": [
        {
          "output_type": "stream",
          "name": "stdout",
          "text": [
            "Para h = 0.1, el valor aproximado de y(0.5) = 0.5463\n"
          ]
        }
      ],
      "source": [
        "res_y_n = df.loc[np.where(df['x_n'] == 0.5)]['y_n'].values[0]\n",
        "print(f'Para h = {h}, el valor aproximado de y(0.5) = {res_y_n}')"
      ]
    },
    {
      "cell_type": "markdown",
      "metadata": {
        "id": "w7EtR9Rd8dGD"
      },
      "source": [
        "[Inicio de Página](#scrollTo=Vn5QSpZM8dFm)"
      ]
    },
    {
      "cell_type": "markdown",
      "metadata": {
        "id": "310H-xnr8dGE"
      },
      "source": [
        "---\n",
        "\n",
        "### Ejercicio 4:\n",
        "\n",
        "$$y' = x^2 + y^2, \\ y(0) = 1; \\ y(0.5)$$"
      ]
    },
    {
      "cell_type": "code",
      "execution_count": 76,
      "metadata": {
        "id": "FdXNxVBD8dGE",
        "outputId": "3d44e5a3-a027-46b0-b350-87eb4efb0179",
        "colab": {
          "base_uri": "https://localhost:8080/",
          "height": 0
        }
      },
      "outputs": [
        {
          "output_type": "execute_result",
          "data": {
            "text/plain": [
              "x**2 + y**2"
            ],
            "text/latex": "$\\displaystyle x^{2} + y^{2}$"
          },
          "metadata": {},
          "execution_count": 76
        }
      ],
      "source": [
        "f, x, y = symbols('f, x, y')\n",
        "x_0, y_0, n = 0, 1, 10\n",
        "\n",
        "f = x**2 + y**2\n",
        "f"
      ]
    },
    {
      "cell_type": "markdown",
      "metadata": {
        "id": "0VTEpkL-8dGE"
      },
      "source": [
        "#### Para *h = 0.1*:"
      ]
    },
    {
      "cell_type": "code",
      "execution_count": 77,
      "metadata": {
        "id": "Rf7HYTO88dGE",
        "outputId": "20c23f24-bd6b-4d94-8ec1-c2339ccc07d9",
        "colab": {
          "base_uri": "https://localhost:8080/"
        }
      },
      "outputs": [
        {
          "output_type": "stream",
          "name": "stdout",
          "text": [
            "Valores de x: [0.0, 0.1, 0.2, 0.3, 0.4, 0.5, 0.6, 0.7, 0.8, 0.9, 1.0]\n"
          ]
        }
      ],
      "source": [
        "x_n = []\n",
        "for i in range(n + 1):\n",
        "    x_n.append(round(x_0 + i*h, 4))\n",
        "print(f'Valores de x: {x_n}')"
      ]
    },
    {
      "cell_type": "code",
      "execution_count": 78,
      "metadata": {
        "id": "FPXb9nyK8dGE"
      },
      "outputs": [],
      "source": [
        "y_n = [y_0]\n",
        "k_n1 = []\n",
        "k_n2 = []\n",
        "k_n3 = []\n",
        "k_n4 = []\n",
        "\n",
        "for i in range(n + 1):\n",
        "    k1 = f.subs({x: x_n[i], y: y_n[i]})\n",
        "    k_n1.append(round(k1, 4))\n",
        "    k2 = f.subs({x: x_n[i] + h/2, y: y_n[i] + h/2 * k1})\n",
        "    k_n2.append(round(k2, 4))\n",
        "    k3 = f.subs({x: x_n[i] + h/2, y: y_n[i] + h/2 * k2})\n",
        "    k_n3.append(round(k3, 4))\n",
        "    k4 = f.subs({x: x_n[i] + h, y: y_n[i] + h * k3})\n",
        "    k_n4.append(round(k4, 4))\n",
        "    y_n1 = y_n[i] + h/6 * (k1 + 2*k2 + 2*k3 + k4)\n",
        "    y_n.append(round(y_n1, 4))\n",
        "y_n_1 = y_n[1:]\n",
        "y_n = y_n[:-1]"
      ]
    },
    {
      "cell_type": "markdown",
      "metadata": {
        "id": "nvWaCOnN8dGE"
      },
      "source": [
        "##### Conversión de las listas a un DataFrame"
      ]
    },
    {
      "cell_type": "code",
      "execution_count": 79,
      "metadata": {
        "id": "0e0mXAP_8dGF",
        "outputId": "5e4cfc5a-9a62-43f1-de35-8386241d6cec",
        "colab": {
          "base_uri": "https://localhost:8080/",
          "height": 0
        }
      },
      "outputs": [
        {
          "output_type": "execute_result",
          "data": {
            "text/plain": [
              "    x_n       y_n         k1_n            k2_n                  k3_n  \\\n",
              "n                                                                      \n",
              "0   0.0         1            1          1.1050                1.1161   \n",
              "1   0.1    1.1115       1.2454          1.4002                1.4185   \n",
              "2   0.2    1.2531       1.6103          1.8410                1.8719   \n",
              "3   0.3    1.4398       2.1630          2.5187                2.5740   \n",
              "4   0.4    1.6963       3.0374          3.6182                3.7264   \n",
              "5   0.5    2.0673       4.5237          5.5626                5.8035   \n",
              "6   0.6    2.6444       7.3529          9.4949               10.1516   \n",
              "7   0.7    3.6532      13.8359         19.4414               21.9556   \n",
              "8   0.8    5.8445      34.7981         58.2457               77.4037   \n",
              "9   0.9   14.0354     197.8025        573.3332             1824.3684   \n",
              "10  1.0  740.6278  548530.5391  793388607.9883  1.57372246932851e+15   \n",
              "\n",
              "                    k4_n                 y_n+1  \n",
              "n                                               \n",
              "0                 1.2457                1.1115  \n",
              "1                 1.6109                1.2531  \n",
              "2                 2.1644                1.4398  \n",
              "3                 3.0405                1.6963  \n",
              "4                 4.5305                2.0673  \n",
              "5                 7.3701                2.6444  \n",
              "6                13.8824                3.6532  \n",
              "7                34.8480                5.8445  \n",
              "8               185.3587               14.0354  \n",
              "9             38602.3394              740.6278  \n",
              "10  2.47660241049272e+28  4.12767068415505e+26  "
            ],
            "text/html": [
              "\n",
              "  <div id=\"df-441bed1e-97ec-475d-8e62-2a8eab12e23b\">\n",
              "    <div class=\"colab-df-container\">\n",
              "      <div>\n",
              "<style scoped>\n",
              "    .dataframe tbody tr th:only-of-type {\n",
              "        vertical-align: middle;\n",
              "    }\n",
              "\n",
              "    .dataframe tbody tr th {\n",
              "        vertical-align: top;\n",
              "    }\n",
              "\n",
              "    .dataframe thead th {\n",
              "        text-align: right;\n",
              "    }\n",
              "</style>\n",
              "<table border=\"1\" class=\"dataframe\">\n",
              "  <thead>\n",
              "    <tr style=\"text-align: right;\">\n",
              "      <th></th>\n",
              "      <th>x_n</th>\n",
              "      <th>y_n</th>\n",
              "      <th>k1_n</th>\n",
              "      <th>k2_n</th>\n",
              "      <th>k3_n</th>\n",
              "      <th>k4_n</th>\n",
              "      <th>y_n+1</th>\n",
              "    </tr>\n",
              "    <tr>\n",
              "      <th>n</th>\n",
              "      <th></th>\n",
              "      <th></th>\n",
              "      <th></th>\n",
              "      <th></th>\n",
              "      <th></th>\n",
              "      <th></th>\n",
              "      <th></th>\n",
              "    </tr>\n",
              "  </thead>\n",
              "  <tbody>\n",
              "    <tr>\n",
              "      <th>0</th>\n",
              "      <td>0.0</td>\n",
              "      <td>1</td>\n",
              "      <td>1</td>\n",
              "      <td>1.1050</td>\n",
              "      <td>1.1161</td>\n",
              "      <td>1.2457</td>\n",
              "      <td>1.1115</td>\n",
              "    </tr>\n",
              "    <tr>\n",
              "      <th>1</th>\n",
              "      <td>0.1</td>\n",
              "      <td>1.1115</td>\n",
              "      <td>1.2454</td>\n",
              "      <td>1.4002</td>\n",
              "      <td>1.4185</td>\n",
              "      <td>1.6109</td>\n",
              "      <td>1.2531</td>\n",
              "    </tr>\n",
              "    <tr>\n",
              "      <th>2</th>\n",
              "      <td>0.2</td>\n",
              "      <td>1.2531</td>\n",
              "      <td>1.6103</td>\n",
              "      <td>1.8410</td>\n",
              "      <td>1.8719</td>\n",
              "      <td>2.1644</td>\n",
              "      <td>1.4398</td>\n",
              "    </tr>\n",
              "    <tr>\n",
              "      <th>3</th>\n",
              "      <td>0.3</td>\n",
              "      <td>1.4398</td>\n",
              "      <td>2.1630</td>\n",
              "      <td>2.5187</td>\n",
              "      <td>2.5740</td>\n",
              "      <td>3.0405</td>\n",
              "      <td>1.6963</td>\n",
              "    </tr>\n",
              "    <tr>\n",
              "      <th>4</th>\n",
              "      <td>0.4</td>\n",
              "      <td>1.6963</td>\n",
              "      <td>3.0374</td>\n",
              "      <td>3.6182</td>\n",
              "      <td>3.7264</td>\n",
              "      <td>4.5305</td>\n",
              "      <td>2.0673</td>\n",
              "    </tr>\n",
              "    <tr>\n",
              "      <th>5</th>\n",
              "      <td>0.5</td>\n",
              "      <td>2.0673</td>\n",
              "      <td>4.5237</td>\n",
              "      <td>5.5626</td>\n",
              "      <td>5.8035</td>\n",
              "      <td>7.3701</td>\n",
              "      <td>2.6444</td>\n",
              "    </tr>\n",
              "    <tr>\n",
              "      <th>6</th>\n",
              "      <td>0.6</td>\n",
              "      <td>2.6444</td>\n",
              "      <td>7.3529</td>\n",
              "      <td>9.4949</td>\n",
              "      <td>10.1516</td>\n",
              "      <td>13.8824</td>\n",
              "      <td>3.6532</td>\n",
              "    </tr>\n",
              "    <tr>\n",
              "      <th>7</th>\n",
              "      <td>0.7</td>\n",
              "      <td>3.6532</td>\n",
              "      <td>13.8359</td>\n",
              "      <td>19.4414</td>\n",
              "      <td>21.9556</td>\n",
              "      <td>34.8480</td>\n",
              "      <td>5.8445</td>\n",
              "    </tr>\n",
              "    <tr>\n",
              "      <th>8</th>\n",
              "      <td>0.8</td>\n",
              "      <td>5.8445</td>\n",
              "      <td>34.7981</td>\n",
              "      <td>58.2457</td>\n",
              "      <td>77.4037</td>\n",
              "      <td>185.3587</td>\n",
              "      <td>14.0354</td>\n",
              "    </tr>\n",
              "    <tr>\n",
              "      <th>9</th>\n",
              "      <td>0.9</td>\n",
              "      <td>14.0354</td>\n",
              "      <td>197.8025</td>\n",
              "      <td>573.3332</td>\n",
              "      <td>1824.3684</td>\n",
              "      <td>38602.3394</td>\n",
              "      <td>740.6278</td>\n",
              "    </tr>\n",
              "    <tr>\n",
              "      <th>10</th>\n",
              "      <td>1.0</td>\n",
              "      <td>740.6278</td>\n",
              "      <td>548530.5391</td>\n",
              "      <td>793388607.9883</td>\n",
              "      <td>1.57372246932851e+15</td>\n",
              "      <td>2.47660241049272e+28</td>\n",
              "      <td>4.12767068415505e+26</td>\n",
              "    </tr>\n",
              "  </tbody>\n",
              "</table>\n",
              "</div>\n",
              "      <button class=\"colab-df-convert\" onclick=\"convertToInteractive('df-441bed1e-97ec-475d-8e62-2a8eab12e23b')\"\n",
              "              title=\"Convert this dataframe to an interactive table.\"\n",
              "              style=\"display:none;\">\n",
              "        \n",
              "  <svg xmlns=\"http://www.w3.org/2000/svg\" height=\"24px\"viewBox=\"0 0 24 24\"\n",
              "       width=\"24px\">\n",
              "    <path d=\"M0 0h24v24H0V0z\" fill=\"none\"/>\n",
              "    <path d=\"M18.56 5.44l.94 2.06.94-2.06 2.06-.94-2.06-.94-.94-2.06-.94 2.06-2.06.94zm-11 1L8.5 8.5l.94-2.06 2.06-.94-2.06-.94L8.5 2.5l-.94 2.06-2.06.94zm10 10l.94 2.06.94-2.06 2.06-.94-2.06-.94-.94-2.06-.94 2.06-2.06.94z\"/><path d=\"M17.41 7.96l-1.37-1.37c-.4-.4-.92-.59-1.43-.59-.52 0-1.04.2-1.43.59L10.3 9.45l-7.72 7.72c-.78.78-.78 2.05 0 2.83L4 21.41c.39.39.9.59 1.41.59.51 0 1.02-.2 1.41-.59l7.78-7.78 2.81-2.81c.8-.78.8-2.07 0-2.86zM5.41 20L4 18.59l7.72-7.72 1.47 1.35L5.41 20z\"/>\n",
              "  </svg>\n",
              "      </button>\n",
              "      \n",
              "  <style>\n",
              "    .colab-df-container {\n",
              "      display:flex;\n",
              "      flex-wrap:wrap;\n",
              "      gap: 12px;\n",
              "    }\n",
              "\n",
              "    .colab-df-convert {\n",
              "      background-color: #E8F0FE;\n",
              "      border: none;\n",
              "      border-radius: 50%;\n",
              "      cursor: pointer;\n",
              "      display: none;\n",
              "      fill: #1967D2;\n",
              "      height: 32px;\n",
              "      padding: 0 0 0 0;\n",
              "      width: 32px;\n",
              "    }\n",
              "\n",
              "    .colab-df-convert:hover {\n",
              "      background-color: #E2EBFA;\n",
              "      box-shadow: 0px 1px 2px rgba(60, 64, 67, 0.3), 0px 1px 3px 1px rgba(60, 64, 67, 0.15);\n",
              "      fill: #174EA6;\n",
              "    }\n",
              "\n",
              "    [theme=dark] .colab-df-convert {\n",
              "      background-color: #3B4455;\n",
              "      fill: #D2E3FC;\n",
              "    }\n",
              "\n",
              "    [theme=dark] .colab-df-convert:hover {\n",
              "      background-color: #434B5C;\n",
              "      box-shadow: 0px 1px 3px 1px rgba(0, 0, 0, 0.15);\n",
              "      filter: drop-shadow(0px 1px 2px rgba(0, 0, 0, 0.3));\n",
              "      fill: #FFFFFF;\n",
              "    }\n",
              "  </style>\n",
              "\n",
              "      <script>\n",
              "        const buttonEl =\n",
              "          document.querySelector('#df-441bed1e-97ec-475d-8e62-2a8eab12e23b button.colab-df-convert');\n",
              "        buttonEl.style.display =\n",
              "          google.colab.kernel.accessAllowed ? 'block' : 'none';\n",
              "\n",
              "        async function convertToInteractive(key) {\n",
              "          const element = document.querySelector('#df-441bed1e-97ec-475d-8e62-2a8eab12e23b');\n",
              "          const dataTable =\n",
              "            await google.colab.kernel.invokeFunction('convertToInteractive',\n",
              "                                                     [key], {});\n",
              "          if (!dataTable) return;\n",
              "\n",
              "          const docLinkHtml = 'Like what you see? Visit the ' +\n",
              "            '<a target=\"_blank\" href=https://colab.research.google.com/notebooks/data_table.ipynb>data table notebook</a>'\n",
              "            + ' to learn more about interactive tables.';\n",
              "          element.innerHTML = '';\n",
              "          dataTable['output_type'] = 'display_data';\n",
              "          await google.colab.output.renderOutput(dataTable, element);\n",
              "          const docLink = document.createElement('div');\n",
              "          docLink.innerHTML = docLinkHtml;\n",
              "          element.appendChild(docLink);\n",
              "        }\n",
              "      </script>\n",
              "    </div>\n",
              "  </div>\n",
              "  "
            ]
          },
          "metadata": {},
          "execution_count": 79
        }
      ],
      "source": [
        "xn_series = pd.Series(x_n)\n",
        "yn_series = pd.Series(y_n)\n",
        "k1n_series = pd.Series(k_n1)\n",
        "k2n_series = pd.Series(k_n2)\n",
        "k3n_series = pd.Series(k_n3)\n",
        "k4n_series = pd.Series(k_n4)\n",
        "yn1_series = pd.Series(y_n_1)\n",
        "df = pd.DataFrame({'x_n': xn_series, 'y_n': yn_series, 'k1_n': k1n_series, 'k2_n': k2n_series, 'k3_n': k3n_series, 'k4_n': k4n_series, 'y_n+1': yn1_series})\n",
        "df.index.name = 'n'\n",
        "df"
      ]
    },
    {
      "cell_type": "markdown",
      "metadata": {
        "id": "H-mum5Xc8dGF"
      },
      "source": [
        "#### Resultados:"
      ]
    },
    {
      "cell_type": "code",
      "execution_count": 80,
      "metadata": {
        "id": "UdC7g5uZ8dGF",
        "outputId": "a0a8bdbf-eff4-49a3-dd49-9931d02c9598",
        "colab": {
          "base_uri": "https://localhost:8080/"
        }
      },
      "outputs": [
        {
          "output_type": "stream",
          "name": "stdout",
          "text": [
            "Para h = 0.1, el valor aproximado de y(0.5) = 2.0673\n"
          ]
        }
      ],
      "source": [
        "res_y_n = df.loc[np.where(df['x_n'] == 0.5)]['y_n'].values[0]\n",
        "print(f'Para h = {h}, el valor aproximado de y(0.5) = {res_y_n}')"
      ]
    },
    {
      "cell_type": "markdown",
      "metadata": {
        "id": "J2EI4AAy8dGF"
      },
      "source": [
        "[Inicio de Página](#scrollTo=Vn5QSpZM8dFm)"
      ]
    },
    {
      "cell_type": "markdown",
      "metadata": {
        "id": "6PHRZBWR8dGF"
      },
      "source": [
        "---\n",
        "\n",
        "### Ejercicio 5:\n",
        "\n",
        "$$y' = e^{-y}, \\ y(0) = 0; \\ y(0.5)$$"
      ]
    },
    {
      "cell_type": "code",
      "execution_count": 81,
      "metadata": {
        "id": "NtvTHog98dGF",
        "outputId": "44cae2e2-9b5f-43e0-b35c-ba7c1d681573",
        "colab": {
          "base_uri": "https://localhost:8080/",
          "height": 0
        }
      },
      "outputs": [
        {
          "output_type": "execute_result",
          "data": {
            "text/plain": [
              "exp(-y)"
            ],
            "text/latex": "$\\displaystyle e^{- y}$"
          },
          "metadata": {},
          "execution_count": 81
        }
      ],
      "source": [
        "f, x, y = symbols('f, x, y')\n",
        "x_0, y_0, n = 0, 0, 10\n",
        "\n",
        "f = exp(-y)\n",
        "f"
      ]
    },
    {
      "cell_type": "markdown",
      "metadata": {
        "id": "P0hH3QEc8dGG"
      },
      "source": [
        "#### Para *h = 0.1*:"
      ]
    },
    {
      "cell_type": "code",
      "execution_count": 82,
      "metadata": {
        "id": "7aBeiK8e8dGG",
        "outputId": "90242a93-63c0-4fbb-b711-ab615d8f0318",
        "colab": {
          "base_uri": "https://localhost:8080/"
        }
      },
      "outputs": [
        {
          "output_type": "stream",
          "name": "stdout",
          "text": [
            "Valores de x: [0.0, 0.1, 0.2, 0.3, 0.4, 0.5, 0.6, 0.7, 0.8, 0.9, 1.0]\n"
          ]
        }
      ],
      "source": [
        "x_n = []\n",
        "for i in range(n + 1):\n",
        "    x_n.append(round(x_0 + i*h, 4))\n",
        "print(f'Valores de x: {x_n}')"
      ]
    },
    {
      "cell_type": "code",
      "execution_count": 83,
      "metadata": {
        "id": "1N3_TSrn8dGG"
      },
      "outputs": [],
      "source": [
        "y_n = [y_0]\n",
        "k_n1 = []\n",
        "k_n2 = []\n",
        "k_n3 = []\n",
        "k_n4 = []\n",
        "\n",
        "for i in range(n + 1):\n",
        "    k1 = f.subs({x: x_n[i], y: y_n[i]})\n",
        "    k_n1.append(round(k1, 4))\n",
        "    k2 = f.subs({x: x_n[i] + h/2, y: y_n[i] + h/2 * k1})\n",
        "    k_n2.append(round(k2, 4))\n",
        "    k3 = f.subs({x: x_n[i] + h/2, y: y_n[i] + h/2 * k2})\n",
        "    k_n3.append(round(k3, 4))\n",
        "    k4 = f.subs({x: x_n[i] + h, y: y_n[i] + h * k3})\n",
        "    k_n4.append(round(k4, 4))\n",
        "    y_n1 = y_n[i] + h/6 * (k1 + 2*k2 + 2*k3 + k4)\n",
        "    y_n.append(round(y_n1, 4))\n",
        "y_n_1 = y_n[1:]\n",
        "y_n = y_n[:-1]"
      ]
    },
    {
      "cell_type": "markdown",
      "metadata": {
        "id": "9JS0JNrn8dGG"
      },
      "source": [
        "##### Conversión de las listas a un DataFrame"
      ]
    },
    {
      "cell_type": "code",
      "execution_count": 84,
      "metadata": {
        "id": "gBvV8p2C8dGG",
        "outputId": "ef29e43d-6ad9-44ae-ac49-1a7bec84e4fa",
        "colab": {
          "base_uri": "https://localhost:8080/",
          "height": 0
        }
      },
      "outputs": [
        {
          "output_type": "execute_result",
          "data": {
            "text/plain": [
              "    x_n     y_n    k1_n    k2_n    k3_n    k4_n   y_n+1\n",
              "n                                                      \n",
              "0   0.0       0       1  0.9512  0.9536  0.9090  0.0953\n",
              "1   0.1  0.0953   0.909  0.8687  0.8705  0.8333  0.1823\n",
              "2   0.2  0.1823  0.8334  0.7993  0.8007  0.7692  0.2623\n",
              "3   0.3  0.2623  0.7693  0.7403  0.7413  0.7143  0.3364\n",
              "4   0.4  0.3364  0.7143  0.6893  0.6901  0.6667  0.4054\n",
              "5   0.5  0.4054  0.6667  0.6449  0.6456  0.6250  0.4699\n",
              "6   0.6  0.4699  0.6251  0.6058  0.6064  0.5883  0.5305\n",
              "7   0.7  0.5305  0.5883  0.5713  0.5717  0.5556  0.5877\n",
              "8   0.8  0.5877  0.5556  0.5404  0.5408  0.5264  0.6418\n",
              "9   0.9  0.6418  0.5263  0.5127  0.5130  0.5000  0.6931\n",
              "10  1.0  0.6931  0.5000  0.4877  0.4880  0.4762  0.7419"
            ],
            "text/html": [
              "\n",
              "  <div id=\"df-4a8dc8bc-a2c6-4dd0-9c1a-642f8165a0bd\">\n",
              "    <div class=\"colab-df-container\">\n",
              "      <div>\n",
              "<style scoped>\n",
              "    .dataframe tbody tr th:only-of-type {\n",
              "        vertical-align: middle;\n",
              "    }\n",
              "\n",
              "    .dataframe tbody tr th {\n",
              "        vertical-align: top;\n",
              "    }\n",
              "\n",
              "    .dataframe thead th {\n",
              "        text-align: right;\n",
              "    }\n",
              "</style>\n",
              "<table border=\"1\" class=\"dataframe\">\n",
              "  <thead>\n",
              "    <tr style=\"text-align: right;\">\n",
              "      <th></th>\n",
              "      <th>x_n</th>\n",
              "      <th>y_n</th>\n",
              "      <th>k1_n</th>\n",
              "      <th>k2_n</th>\n",
              "      <th>k3_n</th>\n",
              "      <th>k4_n</th>\n",
              "      <th>y_n+1</th>\n",
              "    </tr>\n",
              "    <tr>\n",
              "      <th>n</th>\n",
              "      <th></th>\n",
              "      <th></th>\n",
              "      <th></th>\n",
              "      <th></th>\n",
              "      <th></th>\n",
              "      <th></th>\n",
              "      <th></th>\n",
              "    </tr>\n",
              "  </thead>\n",
              "  <tbody>\n",
              "    <tr>\n",
              "      <th>0</th>\n",
              "      <td>0.0</td>\n",
              "      <td>0</td>\n",
              "      <td>1</td>\n",
              "      <td>0.9512</td>\n",
              "      <td>0.9536</td>\n",
              "      <td>0.9090</td>\n",
              "      <td>0.0953</td>\n",
              "    </tr>\n",
              "    <tr>\n",
              "      <th>1</th>\n",
              "      <td>0.1</td>\n",
              "      <td>0.0953</td>\n",
              "      <td>0.909</td>\n",
              "      <td>0.8687</td>\n",
              "      <td>0.8705</td>\n",
              "      <td>0.8333</td>\n",
              "      <td>0.1823</td>\n",
              "    </tr>\n",
              "    <tr>\n",
              "      <th>2</th>\n",
              "      <td>0.2</td>\n",
              "      <td>0.1823</td>\n",
              "      <td>0.8334</td>\n",
              "      <td>0.7993</td>\n",
              "      <td>0.8007</td>\n",
              "      <td>0.7692</td>\n",
              "      <td>0.2623</td>\n",
              "    </tr>\n",
              "    <tr>\n",
              "      <th>3</th>\n",
              "      <td>0.3</td>\n",
              "      <td>0.2623</td>\n",
              "      <td>0.7693</td>\n",
              "      <td>0.7403</td>\n",
              "      <td>0.7413</td>\n",
              "      <td>0.7143</td>\n",
              "      <td>0.3364</td>\n",
              "    </tr>\n",
              "    <tr>\n",
              "      <th>4</th>\n",
              "      <td>0.4</td>\n",
              "      <td>0.3364</td>\n",
              "      <td>0.7143</td>\n",
              "      <td>0.6893</td>\n",
              "      <td>0.6901</td>\n",
              "      <td>0.6667</td>\n",
              "      <td>0.4054</td>\n",
              "    </tr>\n",
              "    <tr>\n",
              "      <th>5</th>\n",
              "      <td>0.5</td>\n",
              "      <td>0.4054</td>\n",
              "      <td>0.6667</td>\n",
              "      <td>0.6449</td>\n",
              "      <td>0.6456</td>\n",
              "      <td>0.6250</td>\n",
              "      <td>0.4699</td>\n",
              "    </tr>\n",
              "    <tr>\n",
              "      <th>6</th>\n",
              "      <td>0.6</td>\n",
              "      <td>0.4699</td>\n",
              "      <td>0.6251</td>\n",
              "      <td>0.6058</td>\n",
              "      <td>0.6064</td>\n",
              "      <td>0.5883</td>\n",
              "      <td>0.5305</td>\n",
              "    </tr>\n",
              "    <tr>\n",
              "      <th>7</th>\n",
              "      <td>0.7</td>\n",
              "      <td>0.5305</td>\n",
              "      <td>0.5883</td>\n",
              "      <td>0.5713</td>\n",
              "      <td>0.5717</td>\n",
              "      <td>0.5556</td>\n",
              "      <td>0.5877</td>\n",
              "    </tr>\n",
              "    <tr>\n",
              "      <th>8</th>\n",
              "      <td>0.8</td>\n",
              "      <td>0.5877</td>\n",
              "      <td>0.5556</td>\n",
              "      <td>0.5404</td>\n",
              "      <td>0.5408</td>\n",
              "      <td>0.5264</td>\n",
              "      <td>0.6418</td>\n",
              "    </tr>\n",
              "    <tr>\n",
              "      <th>9</th>\n",
              "      <td>0.9</td>\n",
              "      <td>0.6418</td>\n",
              "      <td>0.5263</td>\n",
              "      <td>0.5127</td>\n",
              "      <td>0.5130</td>\n",
              "      <td>0.5000</td>\n",
              "      <td>0.6931</td>\n",
              "    </tr>\n",
              "    <tr>\n",
              "      <th>10</th>\n",
              "      <td>1.0</td>\n",
              "      <td>0.6931</td>\n",
              "      <td>0.5000</td>\n",
              "      <td>0.4877</td>\n",
              "      <td>0.4880</td>\n",
              "      <td>0.4762</td>\n",
              "      <td>0.7419</td>\n",
              "    </tr>\n",
              "  </tbody>\n",
              "</table>\n",
              "</div>\n",
              "      <button class=\"colab-df-convert\" onclick=\"convertToInteractive('df-4a8dc8bc-a2c6-4dd0-9c1a-642f8165a0bd')\"\n",
              "              title=\"Convert this dataframe to an interactive table.\"\n",
              "              style=\"display:none;\">\n",
              "        \n",
              "  <svg xmlns=\"http://www.w3.org/2000/svg\" height=\"24px\"viewBox=\"0 0 24 24\"\n",
              "       width=\"24px\">\n",
              "    <path d=\"M0 0h24v24H0V0z\" fill=\"none\"/>\n",
              "    <path d=\"M18.56 5.44l.94 2.06.94-2.06 2.06-.94-2.06-.94-.94-2.06-.94 2.06-2.06.94zm-11 1L8.5 8.5l.94-2.06 2.06-.94-2.06-.94L8.5 2.5l-.94 2.06-2.06.94zm10 10l.94 2.06.94-2.06 2.06-.94-2.06-.94-.94-2.06-.94 2.06-2.06.94z\"/><path d=\"M17.41 7.96l-1.37-1.37c-.4-.4-.92-.59-1.43-.59-.52 0-1.04.2-1.43.59L10.3 9.45l-7.72 7.72c-.78.78-.78 2.05 0 2.83L4 21.41c.39.39.9.59 1.41.59.51 0 1.02-.2 1.41-.59l7.78-7.78 2.81-2.81c.8-.78.8-2.07 0-2.86zM5.41 20L4 18.59l7.72-7.72 1.47 1.35L5.41 20z\"/>\n",
              "  </svg>\n",
              "      </button>\n",
              "      \n",
              "  <style>\n",
              "    .colab-df-container {\n",
              "      display:flex;\n",
              "      flex-wrap:wrap;\n",
              "      gap: 12px;\n",
              "    }\n",
              "\n",
              "    .colab-df-convert {\n",
              "      background-color: #E8F0FE;\n",
              "      border: none;\n",
              "      border-radius: 50%;\n",
              "      cursor: pointer;\n",
              "      display: none;\n",
              "      fill: #1967D2;\n",
              "      height: 32px;\n",
              "      padding: 0 0 0 0;\n",
              "      width: 32px;\n",
              "    }\n",
              "\n",
              "    .colab-df-convert:hover {\n",
              "      background-color: #E2EBFA;\n",
              "      box-shadow: 0px 1px 2px rgba(60, 64, 67, 0.3), 0px 1px 3px 1px rgba(60, 64, 67, 0.15);\n",
              "      fill: #174EA6;\n",
              "    }\n",
              "\n",
              "    [theme=dark] .colab-df-convert {\n",
              "      background-color: #3B4455;\n",
              "      fill: #D2E3FC;\n",
              "    }\n",
              "\n",
              "    [theme=dark] .colab-df-convert:hover {\n",
              "      background-color: #434B5C;\n",
              "      box-shadow: 0px 1px 3px 1px rgba(0, 0, 0, 0.15);\n",
              "      filter: drop-shadow(0px 1px 2px rgba(0, 0, 0, 0.3));\n",
              "      fill: #FFFFFF;\n",
              "    }\n",
              "  </style>\n",
              "\n",
              "      <script>\n",
              "        const buttonEl =\n",
              "          document.querySelector('#df-4a8dc8bc-a2c6-4dd0-9c1a-642f8165a0bd button.colab-df-convert');\n",
              "        buttonEl.style.display =\n",
              "          google.colab.kernel.accessAllowed ? 'block' : 'none';\n",
              "\n",
              "        async function convertToInteractive(key) {\n",
              "          const element = document.querySelector('#df-4a8dc8bc-a2c6-4dd0-9c1a-642f8165a0bd');\n",
              "          const dataTable =\n",
              "            await google.colab.kernel.invokeFunction('convertToInteractive',\n",
              "                                                     [key], {});\n",
              "          if (!dataTable) return;\n",
              "\n",
              "          const docLinkHtml = 'Like what you see? Visit the ' +\n",
              "            '<a target=\"_blank\" href=https://colab.research.google.com/notebooks/data_table.ipynb>data table notebook</a>'\n",
              "            + ' to learn more about interactive tables.';\n",
              "          element.innerHTML = '';\n",
              "          dataTable['output_type'] = 'display_data';\n",
              "          await google.colab.output.renderOutput(dataTable, element);\n",
              "          const docLink = document.createElement('div');\n",
              "          docLink.innerHTML = docLinkHtml;\n",
              "          element.appendChild(docLink);\n",
              "        }\n",
              "      </script>\n",
              "    </div>\n",
              "  </div>\n",
              "  "
            ]
          },
          "metadata": {},
          "execution_count": 84
        }
      ],
      "source": [
        "xn_series = pd.Series(x_n)\n",
        "yn_series = pd.Series(y_n)\n",
        "k1n_series = pd.Series(k_n1)\n",
        "k2n_series = pd.Series(k_n2)\n",
        "k3n_series = pd.Series(k_n3)\n",
        "k4n_series = pd.Series(k_n4)\n",
        "yn1_series = pd.Series(y_n_1)\n",
        "df = pd.DataFrame({'x_n': xn_series, 'y_n': yn_series, 'k1_n': k1n_series, 'k2_n': k2n_series, 'k3_n': k3n_series, 'k4_n': k4n_series, 'y_n+1': yn1_series})\n",
        "df.index.name = 'n'\n",
        "df"
      ]
    },
    {
      "cell_type": "markdown",
      "metadata": {
        "id": "1dgtl8HC8dGH"
      },
      "source": [
        "#### Resultados:"
      ]
    },
    {
      "cell_type": "code",
      "execution_count": 85,
      "metadata": {
        "id": "RH3TD29I8dGH",
        "outputId": "6ecfbb0a-65f7-4766-f2dd-af474007d159",
        "colab": {
          "base_uri": "https://localhost:8080/"
        }
      },
      "outputs": [
        {
          "output_type": "stream",
          "name": "stdout",
          "text": [
            "Para h = 0.1, el valor aproximado de y(0.5) = 0.4054\n"
          ]
        }
      ],
      "source": [
        "res_y_n = df.loc[np.where(df['x_n'] == 0.5)]['y_n'].values[0]\n",
        "print(f'Para h = {h}, el valor aproximado de y(0.5) = {res_y_n}')"
      ]
    },
    {
      "cell_type": "markdown",
      "source": [
        "[Inicio de Página](#scrollTo=Vn5QSpZM8dFm)"
      ],
      "metadata": {
        "id": "jZdimifsbtHh"
      }
    },
    {
      "cell_type": "markdown",
      "source": [
        "---\n",
        "\n",
        "## Acerca de este Notebook\n",
        "\n",
        "**Autor:** [Isaac Isaías](https://github.com/IsaacIsaias)\n",
        "\n",
        "**Asignatura:** Ecuaciones Diferenciales\n",
        "\n",
        "**Prof:** Dr. Iván Trejo\n",
        "\n",
        "**Universidad Tecnológica de San Juan del Río**\n",
        "\n",
        "[Inicio de Página](#scrollTo=Vn5QSpZM8dFm)"
      ],
      "metadata": {
        "id": "34hgPpqMA4CX"
      }
    }
  ],
  "metadata": {
    "kernelspec": {
      "display_name": "env",
      "language": "python",
      "name": "python3"
    },
    "language_info": {
      "codemirror_mode": {
        "name": "ipython",
        "version": 3
      },
      "file_extension": ".py",
      "mimetype": "text/x-python",
      "name": "python",
      "nbconvert_exporter": "python",
      "pygments_lexer": "ipython3",
      "version": "3.11.2"
    },
    "orig_nbformat": 4,
    "vscode": {
      "interpreter": {
        "hash": "c44b8621042844006328624f5744bf547703208dede08b70adfadef04228f75f"
      }
    },
    "colab": {
      "provenance": [],
      "collapsed_sections": [
        "iUBKkxS6AEo3",
        "su55YBBw8dFq",
        "6p7gGrym8dFx",
        "nixlzupo8dF0",
        "c1Xxxebc8dF3",
        "V0D9vV2Q8dF7",
        "qX42zSy18dF-",
        "QN42DhL68dGA",
        "95mxvqX38dGC",
        "310H-xnr8dGE"
      ],
      "include_colab_link": true
    }
  },
  "nbformat": 4,
  "nbformat_minor": 0
}